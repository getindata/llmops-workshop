{
 "cells": [
  {
   "cell_type": "code",
   "id": "0",
   "metadata": {
    "ExecuteTime": {
     "end_time": "2025-03-30T11:15:22.440521Z",
     "start_time": "2025-03-30T11:15:22.357053Z"
    }
   },
   "source": [
    "## LOCAL\n",
    "%run __include.ipynb\n",
    "\n",
    "## COLAB\n",
    "# %run __setup_colab.ipynb"
   ],
   "outputs": [],
   "execution_count": 1
  },
  {
   "metadata": {
    "ExecuteTime": {
     "end_time": "2025-03-30T11:15:24.041016Z",
     "start_time": "2025-03-30T11:15:23.797649Z"
    }
   },
   "cell_type": "code",
   "source": [
    "from langfuse import Langfuse\n",
    "\n",
    "langfuse = Langfuse()"
   ],
   "id": "3cca79a5fc8ef53e",
   "outputs": [],
   "execution_count": 2
  },
  {
   "metadata": {
    "ExecuteTime": {
     "end_time": "2025-03-30T12:09:28.177960Z",
     "start_time": "2025-03-30T12:09:28.175703Z"
    }
   },
   "cell_type": "code",
   "source": [
    "from sms_classifier import SMSClassifier\n",
    "\n",
    "sms_classifier = SMSClassifier()"
   ],
   "id": "b61e9d2121f54f02",
   "outputs": [],
   "execution_count": 101
  },
  {
   "metadata": {
    "ExecuteTime": {
     "end_time": "2025-03-30T12:09:31.227008Z",
     "start_time": "2025-03-30T12:09:29.596143Z"
    }
   },
   "cell_type": "code",
   "source": [
    "dataset = langfuse.get_dataset(\"sms_phishing_train\")\n",
    "from dspy import Example\n",
    "\n",
    "sample_size = 200\n",
    "category_split = {\"ham\": 0.6, \"spam\": 0.2, \"smishing\": 0.2}\n",
    "sample_counts = {\"ham\": 0, \"spam\": 0, \"smishing\": 0}\n",
    "ham_num = sample_size * category_split[\"ham\"]\n",
    "spam_num = sample_size * category_split[\"spam\"]\n",
    "smishing_num = sample_size * category_split[\"smishing\"]\n",
    "train_ds = []\n",
    "for item in dataset.items:\n",
    "    train_ds.append(\n",
    "        Example(sms_text=item.input, category=item.expected_output).with_inputs(\n",
    "            \"sms_text\"\n",
    "        )\n",
    "    )"
   ],
   "id": "747ea269780722b",
   "outputs": [],
   "execution_count": 102
  },
  {
   "metadata": {
    "ExecuteTime": {
     "end_time": "2025-03-30T11:52:25.274658Z",
     "start_time": "2025-03-30T11:52:25.272018Z"
    }
   },
   "cell_type": "code",
   "source": [
    "# analyze split by category\n",
    "from collections import Counter\n",
    "\n",
    "categories = [item.category for item in train_ds[:sample_size]]\n",
    "Counter(categories)"
   ],
   "id": "97daae8160149f73",
   "outputs": [
    {
     "data": {
      "text/plain": [
       "Counter({'ham': 171, 'spam': 16, 'smishing': 13})"
      ]
     },
     "execution_count": 69,
     "metadata": {},
     "output_type": "execute_result"
    }
   ],
   "execution_count": 69
  },
  {
   "metadata": {
    "ExecuteTime": {
     "end_time": "2025-04-01T07:36:36.279645Z",
     "start_time": "2025-04-01T07:36:36.195035Z"
    }
   },
   "cell_type": "code",
   "source": [
    "import dspy\n",
    "\n",
    "MODEL = \"gemma3:1b\"\n",
    "\n",
    "lm = dspy.LM(f\"ollama/{MODEL}\", cache=False)\n",
    "dspy.settings.configure(lm=lm, track_usage=False)"
   ],
   "id": "f0da75ca91fbe2bf",
   "outputs": [],
   "execution_count": 107
  },
  {
   "metadata": {
    "ExecuteTime": {
     "end_time": "2025-04-01T07:36:43.274683Z",
     "start_time": "2025-04-01T07:36:39.691221Z"
    }
   },
   "cell_type": "code",
   "source": [
    "sms_classifier(train_ds[2].sms_text)"
   ],
   "id": "235b9a9f0e1c1fac",
   "outputs": [
    {
     "data": {
      "text/plain": [
       "Prediction(\n",
       "    category='smishing'\n",
       ")"
      ]
     },
     "execution_count": 108,
     "metadata": {},
     "output_type": "execute_result"
    }
   ],
   "execution_count": 108
  },
  {
   "metadata": {
    "ExecuteTime": {
     "end_time": "2025-03-30T12:09:39.679606Z",
     "start_time": "2025-03-30T12:09:38.529118Z"
    }
   },
   "cell_type": "code",
   "source": [
    "sms_classifier(\n",
    "    sms_text=\"\"\"Free entry in 2 a wkly comp to win FA Cup final tkts 21st May 2005. Text FA to 87121 to receive entry question\"\"\"\n",
    ")"
   ],
   "id": "e14f7d5c188f8df0",
   "outputs": [
    {
     "data": {
      "text/plain": [
       "Prediction(\n",
       "    category='smishing'\n",
       ")"
      ]
     },
     "execution_count": 105,
     "metadata": {},
     "output_type": "execute_result"
    }
   ],
   "execution_count": 105
  },
  {
   "metadata": {
    "ExecuteTime": {
     "end_time": "2025-03-30T11:41:31.920931Z",
     "start_time": "2025-03-30T11:41:30.932441Z"
    }
   },
   "cell_type": "code",
   "source": [
    "lm(\"Hello world!\")"
   ],
   "id": "89fdb3f1ec28413a",
   "outputs": [
    {
     "data": {
      "text/plain": [
       "[\"Okay, here's a little bit of a response to that classic prompt:\\n\\n**Hello world!**\\n\\nIt's a good start!  But let's add a little more to make it a bit more engaging.  How about:\\n\\n**Hello, world!  It's a pleasure to meet you.**\\n\\nOr, if you want to be a bit more playful:\\n\\n**Greetings, world!  Just kidding... mostly.** 😉\\n\\nWhat kind of response are you looking for?  Do you want me to:\\n\\n*   Continue the conversation?\\n*   Offer a different perspective?\\n*   Write a story?\"]"
      ]
     },
     "execution_count": 47,
     "metadata": {},
     "output_type": "execute_result"
    }
   ],
   "execution_count": 47
  },
  {
   "metadata": {
    "ExecuteTime": {
     "end_time": "2025-03-30T12:22:39.637112Z",
     "start_time": "2025-03-30T12:09:46.092986Z"
    }
   },
   "cell_type": "code",
   "source": [
    "from dspy.teleprompt import BootstrapFewShotWithRandomSearch\n",
    "from evaluation_helpers import validate_answer\n",
    "\n",
    "config = dict(\n",
    "    max_bootstrapped_demos=2,\n",
    "    max_labeled_demos=8,\n",
    "    num_candidate_programs=8,\n",
    "    num_threads=1,\n",
    "    max_errors=10,\n",
    ")\n",
    "\n",
    "teleprompter = BootstrapFewShotWithRandomSearch(metric=validate_answer, **config)\n",
    "optimized_program = teleprompter.compile(\n",
    "    sms_classifier, trainset=train_ds[:sample_size]\n",
    ")"
   ],
   "id": "2f1f614fb84fbeb6",
   "outputs": [
    {
     "name": "stdout",
     "output_type": "stream",
     "text": [
      "Going to sample between 1 and 2 traces per predictor.\n",
      "Will attempt to bootstrap 8 candidate sets.\n",
      "Average Metric: 60.00 / 200 (30.0%): 100%|██████████| 200/200 [02:53<00:00,  1.15it/s]"
     ]
    },
    {
     "name": "stderr",
     "output_type": "stream",
     "text": [
      "2025/03/30 14:12:39 INFO dspy.evaluate.evaluate: Average Metric: 60 / 200 (30.0%)\n"
     ]
    },
    {
     "name": "stdout",
     "output_type": "stream",
     "text": [
      "\n",
      "New best score: 30.0 for seed -3\n",
      "Scores so far: [30.0]\n",
      "Best score so far: 30.0\n",
      "Average Metric: 16.00 / 200 (8.0%): 100%|██████████| 200/200 [03:18<00:00,  1.01it/s]"
     ]
    },
    {
     "name": "stderr",
     "output_type": "stream",
     "text": [
      "2025/03/30 14:15:58 INFO dspy.evaluate.evaluate: Average Metric: 16 / 200 (8.0%)\n"
     ]
    },
    {
     "name": "stdout",
     "output_type": "stream",
     "text": [
      "\n",
      "Scores so far: [30.0, 8.0]\n",
      "Best score so far: 30.0\n"
     ]
    },
    {
     "name": "stderr",
     "output_type": "stream",
     "text": [
      " 16%|█▌        | 32/200 [00:26<02:17,  1.22it/s]\n"
     ]
    },
    {
     "name": "stdout",
     "output_type": "stream",
     "text": [
      "Bootstrapped 2 full traces after 32 examples for up to 1 rounds, amounting to 32 attempts.\n",
      "Average Metric: 10.00 / 125 (8.0%):  62%|██████▎   | 125/200 [06:14<03:03,  2.45s/it]"
     ]
    },
    {
     "name": "stderr",
     "output_type": "stream",
     "text": [
      "2025/03/30 14:22:39 WARNING dspy.utils.parallelizer: SIGINT received. Cancelling.\n"
     ]
    },
    {
     "ename": "KeyboardInterrupt",
     "evalue": "",
     "output_type": "error",
     "traceback": [
      "\u001b[31m---------------------------------------------------------------------------\u001b[39m",
      "\u001b[31mKeyboardInterrupt\u001b[39m                         Traceback (most recent call last)",
      "\u001b[36mCell\u001b[39m\u001b[36m \u001b[39m\u001b[32mIn[106]\u001b[39m\u001b[32m, line 13\u001b[39m\n\u001b[32m      4\u001b[39m config = \u001b[38;5;28mdict\u001b[39m(\n\u001b[32m      5\u001b[39m     max_bootstrapped_demos=\u001b[32m2\u001b[39m,\n\u001b[32m      6\u001b[39m     max_labeled_demos=\u001b[32m8\u001b[39m,\n\u001b[32m   (...)\u001b[39m\u001b[32m      9\u001b[39m     max_errors=\u001b[32m10\u001b[39m,\n\u001b[32m     10\u001b[39m )\n\u001b[32m     12\u001b[39m teleprompter = BootstrapFewShotWithRandomSearch(metric=validate_answer, **config)\n\u001b[32m---> \u001b[39m\u001b[32m13\u001b[39m optimized_program = \u001b[43mteleprompter\u001b[49m\u001b[43m.\u001b[49m\u001b[43mcompile\u001b[49m\u001b[43m(\u001b[49m\u001b[43msms_classifier\u001b[49m\u001b[43m,\u001b[49m\u001b[43m \u001b[49m\u001b[43mtrainset\u001b[49m\u001b[43m=\u001b[49m\u001b[43mtrain_ds\u001b[49m\u001b[43m[\u001b[49m\u001b[43m:\u001b[49m\u001b[43msample_size\u001b[49m\u001b[43m]\u001b[49m\u001b[43m)\u001b[49m\n",
      "\u001b[36mFile \u001b[39m\u001b[32m~/research/git/llmops-workshop/.venv/lib/python3.12/site-packages/dspy/teleprompt/random_search.py:119\u001b[39m, in \u001b[36mBootstrapFewShotWithRandomSearch.compile\u001b[39m\u001b[34m(self, student, teacher, trainset, valset, restrict, labeled_sample)\u001b[39m\n\u001b[32m    108\u001b[39m     program = optimizer.compile(student, teacher=teacher, trainset=trainset_copy)\n\u001b[32m    110\u001b[39m evaluate = Evaluate(\n\u001b[32m    111\u001b[39m     devset=\u001b[38;5;28mself\u001b[39m.valset,\n\u001b[32m    112\u001b[39m     metric=\u001b[38;5;28mself\u001b[39m.metric,\n\u001b[32m   (...)\u001b[39m\u001b[32m    116\u001b[39m     display_progress=\u001b[38;5;28;01mTrue\u001b[39;00m,\n\u001b[32m    117\u001b[39m )\n\u001b[32m--> \u001b[39m\u001b[32m119\u001b[39m score, subscores = \u001b[43mevaluate\u001b[49m\u001b[43m(\u001b[49m\u001b[43mprogram\u001b[49m\u001b[43m,\u001b[49m\u001b[43m \u001b[49m\u001b[43mreturn_all_scores\u001b[49m\u001b[43m=\u001b[49m\u001b[38;5;28;43;01mTrue\u001b[39;49;00m\u001b[43m)\u001b[49m\n\u001b[32m    121\u001b[39m all_subscores.append(subscores)\n\u001b[32m    123\u001b[39m \u001b[38;5;66;03m############ Assertion-aware Optimization ############\u001b[39;00m\n",
      "\u001b[36mFile \u001b[39m\u001b[32m~/research/git/llmops-workshop/.venv/lib/python3.12/site-packages/dspy/utils/callback.py:287\u001b[39m, in \u001b[36mwith_callbacks.<locals>.wrapper\u001b[39m\u001b[34m(instance, *args, **kwargs)\u001b[39m\n\u001b[32m    285\u001b[39m     \u001b[38;5;66;03m# Active ID must be set right before the function is called, not before calling the callbacks.\u001b[39;00m\n\u001b[32m    286\u001b[39m     ACTIVE_CALL_ID.set(call_id)\n\u001b[32m--> \u001b[39m\u001b[32m287\u001b[39m     results = \u001b[43mfn\u001b[49m\u001b[43m(\u001b[49m\u001b[43minstance\u001b[49m\u001b[43m,\u001b[49m\u001b[43m \u001b[49m\u001b[43m*\u001b[49m\u001b[43margs\u001b[49m\u001b[43m,\u001b[49m\u001b[43m \u001b[49m\u001b[43m*\u001b[49m\u001b[43m*\u001b[49m\u001b[43mkwargs\u001b[49m\u001b[43m)\u001b[49m\n\u001b[32m    288\u001b[39m     \u001b[38;5;28;01mreturn\u001b[39;00m results\n\u001b[32m    289\u001b[39m \u001b[38;5;28;01mexcept\u001b[39;00m \u001b[38;5;167;01mException\u001b[39;00m \u001b[38;5;28;01mas\u001b[39;00m e:\n",
      "\u001b[36mFile \u001b[39m\u001b[32m~/research/git/llmops-workshop/.venv/lib/python3.12/site-packages/dspy/evaluate/evaluate.py:170\u001b[39m, in \u001b[36mEvaluate.__call__\u001b[39m\u001b[34m(self, program, metric, devset, num_threads, display_progress, display_table, return_all_scores, return_outputs, callback_metadata)\u001b[39m\n\u001b[32m    166\u001b[39m         program._suggest_failures += dspy.settings.get(\u001b[33m\"\u001b[39m\u001b[33msuggest_failures\u001b[39m\u001b[33m\"\u001b[39m)\n\u001b[32m    168\u001b[39m     \u001b[38;5;28;01mreturn\u001b[39;00m prediction, score\n\u001b[32m--> \u001b[39m\u001b[32m170\u001b[39m results = \u001b[43mexecutor\u001b[49m\u001b[43m.\u001b[49m\u001b[43mexecute\u001b[49m\u001b[43m(\u001b[49m\u001b[43mprocess_item\u001b[49m\u001b[43m,\u001b[49m\u001b[43m \u001b[49m\u001b[43mdevset\u001b[49m\u001b[43m)\u001b[49m\n\u001b[32m    171\u001b[39m \u001b[38;5;28;01massert\u001b[39;00m \u001b[38;5;28mlen\u001b[39m(devset) == \u001b[38;5;28mlen\u001b[39m(results)\n\u001b[32m    173\u001b[39m results = [((dspy.Prediction(), \u001b[38;5;28mself\u001b[39m.failure_score) \u001b[38;5;28;01mif\u001b[39;00m r \u001b[38;5;129;01mis\u001b[39;00m \u001b[38;5;28;01mNone\u001b[39;00m \u001b[38;5;28;01melse\u001b[39;00m r) \u001b[38;5;28;01mfor\u001b[39;00m r \u001b[38;5;129;01min\u001b[39;00m results]\n",
      "\u001b[36mFile \u001b[39m\u001b[32m~/research/git/llmops-workshop/.venv/lib/python3.12/site-packages/dspy/utils/parallelizer.py:47\u001b[39m, in \u001b[36mParallelExecutor.execute\u001b[39m\u001b[34m(self, function, data)\u001b[39m\n\u001b[32m     45\u001b[39m tqdm.tqdm._instances.clear()\n\u001b[32m     46\u001b[39m wrapped = \u001b[38;5;28mself\u001b[39m._wrap_function(function)\n\u001b[32m---> \u001b[39m\u001b[32m47\u001b[39m \u001b[38;5;28;01mreturn\u001b[39;00m \u001b[38;5;28;43mself\u001b[39;49m\u001b[43m.\u001b[49m\u001b[43m_execute_parallel\u001b[49m\u001b[43m(\u001b[49m\u001b[43mwrapped\u001b[49m\u001b[43m,\u001b[49m\u001b[43m \u001b[49m\u001b[43mdata\u001b[49m\u001b[43m)\u001b[49m\n",
      "\u001b[36mFile \u001b[39m\u001b[32m~/research/git/llmops-workshop/.venv/lib/python3.12/site-packages/dspy/utils/parallelizer.py:148\u001b[39m, in \u001b[36mParallelExecutor._execute_parallel\u001b[39m\u001b[34m(self, function, data)\u001b[39m\n\u001b[32m    146\u001b[39m \u001b[38;5;28;01mif\u001b[39;00m all_done():\n\u001b[32m    147\u001b[39m     \u001b[38;5;28;01mbreak\u001b[39;00m\n\u001b[32m--> \u001b[39m\u001b[32m148\u001b[39m done, not_done = \u001b[43mwait\u001b[49m\u001b[43m(\u001b[49m\u001b[43mfutures_set\u001b[49m\u001b[43m,\u001b[49m\u001b[43m \u001b[49m\u001b[43mtimeout\u001b[49m\u001b[43m=\u001b[49m\u001b[32;43m1\u001b[39;49m\u001b[43m,\u001b[49m\u001b[43m \u001b[49m\u001b[43mreturn_when\u001b[49m\u001b[43m=\u001b[49m\u001b[43mFIRST_COMPLETED\u001b[49m\u001b[43m)\u001b[49m\n\u001b[32m    149\u001b[39m \u001b[38;5;28;01mfor\u001b[39;00m f \u001b[38;5;129;01min\u001b[39;00m done:\n\u001b[32m    150\u001b[39m     futures_set.remove(f)\n",
      "\u001b[36mFile \u001b[39m\u001b[32m~/.pyenv/versions/3.12.8/lib/python3.12/concurrent/futures/_base.py:305\u001b[39m, in \u001b[36mwait\u001b[39m\u001b[34m(fs, timeout, return_when)\u001b[39m\n\u001b[32m    301\u001b[39m         \u001b[38;5;28;01mreturn\u001b[39;00m DoneAndNotDoneFutures(done, not_done)\n\u001b[32m    303\u001b[39m     waiter = _create_and_install_waiters(fs, return_when)\n\u001b[32m--> \u001b[39m\u001b[32m305\u001b[39m \u001b[43mwaiter\u001b[49m\u001b[43m.\u001b[49m\u001b[43mevent\u001b[49m\u001b[43m.\u001b[49m\u001b[43mwait\u001b[49m\u001b[43m(\u001b[49m\u001b[43mtimeout\u001b[49m\u001b[43m)\u001b[49m\n\u001b[32m    306\u001b[39m \u001b[38;5;28;01mfor\u001b[39;00m f \u001b[38;5;129;01min\u001b[39;00m fs:\n\u001b[32m    307\u001b[39m     \u001b[38;5;28;01mwith\u001b[39;00m f._condition:\n",
      "\u001b[36mFile \u001b[39m\u001b[32m~/.pyenv/versions/3.12.8/lib/python3.12/threading.py:655\u001b[39m, in \u001b[36mEvent.wait\u001b[39m\u001b[34m(self, timeout)\u001b[39m\n\u001b[32m    653\u001b[39m signaled = \u001b[38;5;28mself\u001b[39m._flag\n\u001b[32m    654\u001b[39m \u001b[38;5;28;01mif\u001b[39;00m \u001b[38;5;129;01mnot\u001b[39;00m signaled:\n\u001b[32m--> \u001b[39m\u001b[32m655\u001b[39m     signaled = \u001b[38;5;28;43mself\u001b[39;49m\u001b[43m.\u001b[49m\u001b[43m_cond\u001b[49m\u001b[43m.\u001b[49m\u001b[43mwait\u001b[49m\u001b[43m(\u001b[49m\u001b[43mtimeout\u001b[49m\u001b[43m)\u001b[49m\n\u001b[32m    656\u001b[39m \u001b[38;5;28;01mreturn\u001b[39;00m signaled\n",
      "\u001b[36mFile \u001b[39m\u001b[32m~/.pyenv/versions/3.12.8/lib/python3.12/threading.py:359\u001b[39m, in \u001b[36mCondition.wait\u001b[39m\u001b[34m(self, timeout)\u001b[39m\n\u001b[32m    357\u001b[39m \u001b[38;5;28;01melse\u001b[39;00m:\n\u001b[32m    358\u001b[39m     \u001b[38;5;28;01mif\u001b[39;00m timeout > \u001b[32m0\u001b[39m:\n\u001b[32m--> \u001b[39m\u001b[32m359\u001b[39m         gotit = \u001b[43mwaiter\u001b[49m\u001b[43m.\u001b[49m\u001b[43macquire\u001b[49m\u001b[43m(\u001b[49m\u001b[38;5;28;43;01mTrue\u001b[39;49;00m\u001b[43m,\u001b[49m\u001b[43m \u001b[49m\u001b[43mtimeout\u001b[49m\u001b[43m)\u001b[49m\n\u001b[32m    360\u001b[39m     \u001b[38;5;28;01melse\u001b[39;00m:\n\u001b[32m    361\u001b[39m         gotit = waiter.acquire(\u001b[38;5;28;01mFalse\u001b[39;00m)\n",
      "\u001b[36mFile \u001b[39m\u001b[32m~/research/git/llmops-workshop/.venv/lib/python3.12/site-packages/dspy/utils/parallelizer.py:108\u001b[39m, in \u001b[36mParallelExecutor._execute_parallel.<locals>.interrupt_manager.<locals>.handler\u001b[39m\u001b[34m(sig, frame)\u001b[39m\n\u001b[32m    106\u001b[39m \u001b[38;5;28mself\u001b[39m.cancel_jobs.set()\n\u001b[32m    107\u001b[39m logger.warning(\u001b[33m\"\u001b[39m\u001b[33mSIGINT received. Cancelling.\u001b[39m\u001b[33m\"\u001b[39m)\n\u001b[32m--> \u001b[39m\u001b[32m108\u001b[39m \u001b[43morig_handler\u001b[49m\u001b[43m(\u001b[49m\u001b[43msig\u001b[49m\u001b[43m,\u001b[49m\u001b[43m \u001b[49m\u001b[43mframe\u001b[49m\u001b[43m)\u001b[49m\n",
      "\u001b[31mKeyboardInterrupt\u001b[39m: "
     ]
    }
   ],
   "execution_count": 106
  },
  {
   "metadata": {
    "ExecuteTime": {
     "end_time": "2025-03-30T12:00:35.732398Z",
     "start_time": "2025-03-30T12:00:35.729219Z"
    }
   },
   "cell_type": "code",
   "source": [
    "optimized_program.save(f\"programs/sms_classifier-{MODEL}.json\")"
   ],
   "id": "8a820711616b7a92",
   "outputs": [],
   "execution_count": 73
  },
  {
   "metadata": {
    "ExecuteTime": {
     "end_time": "2025-03-30T12:00:37.968259Z",
     "start_time": "2025-03-30T12:00:37.965566Z"
    }
   },
   "cell_type": "code",
   "source": [
    "MODEL"
   ],
   "id": "2be5655c13ed6f07",
   "outputs": [
    {
     "data": {
      "text/plain": [
       "'gemma3:1b'"
      ]
     },
     "execution_count": 74,
     "metadata": {},
     "output_type": "execute_result"
    }
   ],
   "execution_count": 74
  },
  {
   "metadata": {
    "ExecuteTime": {
     "end_time": "2025-04-01T07:37:13.333120Z",
     "start_time": "2025-04-01T07:37:13.327973Z"
    }
   },
   "cell_type": "code",
   "source": [
    "optimized_classifier = SMSClassifier()\n",
    "optimized_classifier.load(f\"programs/sms_classifier-{MODEL}-8.json\")"
   ],
   "id": "54efae16d1536ce1",
   "outputs": [],
   "execution_count": 110
  },
  {
   "metadata": {
    "ExecuteTime": {
     "end_time": "2025-04-01T07:37:16.049197Z",
     "start_time": "2025-04-01T07:37:15.898282Z"
    }
   },
   "cell_type": "code",
   "source": [
    "dataset = langfuse.get_dataset(\"sms_phishing_test\")\n",
    "from dspy import Example\n",
    "\n",
    "test_ds = []\n",
    "for item in dataset.items:\n",
    "    test_ds.append(\n",
    "        Example(sms_text=item.input, category=item.expected_output).with_inputs(\n",
    "            \"sms_text\"\n",
    "        )\n",
    "    )"
   ],
   "id": "f950c67b6c5528cb",
   "outputs": [],
   "execution_count": 111
  },
  {
   "metadata": {
    "ExecuteTime": {
     "end_time": "2025-04-01T07:37:40.939793Z",
     "start_time": "2025-04-01T07:37:17.818257Z"
    }
   },
   "cell_type": "code",
   "source": [
    "from datetime import datetime\n",
    "from evaluation_helpers import run_evaluation\n",
    "\n",
    "models = [MODEL]\n",
    "classes = [\"ham\", \"spam\", \"smishing\"]\n",
    "timestamp = int(datetime.now().timestamp())\n",
    "run_evaluation(models, optimized_classifier, test_ds, classes, timestamp, prefix=\"ape\")"
   ],
   "id": "15f21722e1ee7469",
   "outputs": [
    {
     "name": "stdout",
     "output_type": "stream",
     "text": [
      "Average Metric: 92.00 / 100 (92.0%): 100%|██████████| 100/100 [00:23<00:00,  4.33it/s]\n"
     ]
    }
   ],
   "execution_count": 112
  },
  {
   "metadata": {
    "ExecuteTime": {
     "end_time": "2025-04-01T07:41:18.294332Z",
     "start_time": "2025-04-01T07:41:15.855457Z"
    }
   },
   "cell_type": "code",
   "source": [
    "from evaluation_helpers import get_all_metric\n",
    "\n",
    "metrics_baseline = get_all_metric(models, timestamp, classes, prefix=\"ape\")\n",
    "metrics_baseline\n",
    "timestamp"
   ],
   "id": "5ed299335d410d4a",
   "outputs": [
    {
     "data": {
      "text/plain": [
       "1743493037"
      ]
     },
     "execution_count": 117,
     "metadata": {},
     "output_type": "execute_result"
    }
   ],
   "execution_count": 117
  },
  {
   "metadata": {
    "ExecuteTime": {
     "end_time": "2025-04-01T07:37:47.735246Z",
     "start_time": "2025-04-01T07:37:47.677869Z"
    }
   },
   "cell_type": "code",
   "source": [
    "from evaluation_helpers import plot_metrics\n",
    "\n",
    "plot_metrics(\n",
    "    metrics_baseline,\n",
    "    [\"Precision\", \"Recall\", \"F1\"],\n",
    "    \"Scores by model before optimization\",\n",
    ")"
   ],
   "id": "9a36643a301acb78",
   "outputs": [
    {
     "data": {
      "text/plain": [
       "<Figure size 1200x500 with 1 Axes>"
      ],
      "image/png": "[encoded data removed]"
     },
     "metadata": {},
     "output_type": "display_data"
    }
   ],
   "execution_count": 114
  },
  {
   "metadata": {
    "ExecuteTime": {
     "end_time": "2025-04-01T07:38:43.182998Z",
     "start_time": "2025-04-01T07:38:43.178083Z"
    }
   },
   "cell_type": "code",
   "source": [
    "timestamp"
   ],
   "id": "7f3f44d2954a6924",
   "outputs": [
    {
     "data": {
      "text/plain": [
       "1743493037"
      ]
     },
     "execution_count": 115,
     "metadata": {},
     "output_type": "execute_result"
    }
   ],
   "execution_count": 115
  }
 ],
 "metadata": {
  "kernelspec": {
   "display_name": "Python 3",
   "language": "python",
   "name": "python3"
  },
  "language_info": {
   "codemirror_mode": {
    "name": "ipython",
    "version": 2
   },
   "file_extension": ".py",
   "mimetype": "text/x-python",
   "name": "python",
   "nbconvert_exporter": "python",
   "pygments_lexer": "ipython2",
   "version": "2.7.6"
  }
 },
 "nbformat": 4,
 "nbformat_minor": 5
}
