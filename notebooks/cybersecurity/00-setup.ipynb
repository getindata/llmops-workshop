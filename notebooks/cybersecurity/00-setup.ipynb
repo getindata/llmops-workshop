{
 "cells": [
  {
   "metadata": {},
   "cell_type": "markdown",
   "source": "## Colab setup",
   "id": "362d6cedc48db3ac"
  },
  {
   "metadata": {},
   "cell_type": "code",
   "outputs": [],
   "execution_count": null,
   "source": "!pip install poetry",
   "id": "776029dee459c8e0"
  },
  {
   "metadata": {
    "collapsed": true
   },
   "cell_type": "code",
   "outputs": [],
   "execution_count": null,
   "source": "!poetry config virtualenvs.in-project true",
   "id": "initial_id"
  },
  {
   "metadata": {},
   "cell_type": "code",
   "source": "!poetry install --no-ansi --no-root",
   "id": "50fe42f719c18e",
   "outputs": [],
   "execution_count": null
  },
  {
   "metadata": {
    "ExecuteTime": {
     "end_time": "2025-03-29T10:11:04.138293Z",
     "start_time": "2025-03-29T10:11:04.135775Z"
    }
   },
   "cell_type": "code",
   "source": [
    "import sys\n",
    "sys.path.append(\"../../.venv/lib/python3.11/site-packages\")"
   ],
   "id": "a4f431dbf04c93d9",
   "outputs": [],
   "execution_count": 1
  },
  {
   "metadata": {
    "ExecuteTime": {
     "end_time": "2025-03-29T10:13:23.326906Z",
     "start_time": "2025-03-29T10:13:23.178352Z"
    }
   },
   "cell_type": "code",
   "source": "",
   "id": "165faa4874961fbd",
   "outputs": [
    {
     "ename": "ModuleNotFoundError",
     "evalue": "No module named 'dspy_ai'",
     "output_type": "error",
     "traceback": [
      "\u001B[0;31m---------------------------------------------------------------------------\u001B[0m",
      "\u001B[0;31mModuleNotFoundError\u001B[0m                       Traceback (most recent call last)",
      "Cell \u001B[0;32mIn[6], line 1\u001B[0m\n\u001B[0;32m----> 1\u001B[0m \u001B[38;5;28;01mimport\u001B[39;00m \u001B[38;5;21;01mdspy_ai\u001B[39;00m\n\u001B[1;32m      2\u001B[0m dspy\u001B[38;5;241m.\u001B[39m__version__\n",
      "\u001B[0;31mModuleNotFoundError\u001B[0m: No module named 'dspy_ai'"
     ]
    }
   ],
   "execution_count": 6
  },
  {
   "metadata": {
    "ExecuteTime": {
     "end_time": "2025-03-29T10:11:25.911218Z",
     "start_time": "2025-03-29T10:11:25.768181Z"
    }
   },
   "cell_type": "code",
   "source": [
    "import langfuse\n",
    "langfuse.__version__"
   ],
   "id": "848cf8a65f6634c3",
   "outputs": [
    {
     "data": {
      "text/plain": [
       "'2.57.13a0'"
      ]
     },
     "execution_count": 4,
     "metadata": {},
     "output_type": "execute_result"
    }
   ],
   "execution_count": 4
  }
 ],
 "metadata": {
  "kernelspec": {
   "display_name": "Python 3",
   "language": "python",
   "name": "python3"
  },
  "language_info": {
   "codemirror_mode": {
    "name": "ipython",
    "version": 2
   },
   "file_extension": ".py",
   "mimetype": "text/x-python",
   "name": "python",
   "nbconvert_exporter": "python",
   "pygments_lexer": "ipython2",
   "version": "2.7.6"
  }
 },
 "nbformat": 4,
 "nbformat_minor": 5
}
