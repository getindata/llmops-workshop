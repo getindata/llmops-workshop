{
 "cells": [
  {
   "cell_type": "code",
   "execution_count": null,
   "id": "0",
   "metadata": {},
   "outputs": [],
   "source": [
    "%run __include.ipynb"
   ]
  },
  {
   "cell_type": "code",
   "execution_count": null,
   "id": "1",
   "metadata": {},
   "outputs": [],
   "source": [
    "from langfuse import Langfuse\n",
    "\n",
    "langfuse = Langfuse()"
   ]
  },
  {
   "cell_type": "code",
   "execution_count": null,
   "id": "2",
   "metadata": {},
   "outputs": [],
   "source": [
    "import polars as pl\n",
    "\n",
    "\n",
    "df = pl.read_csv(\"../../data/sms_phishing.csv\")\n",
    "\n",
    "datasets = []\n",
    "for r in df.iter_rows(named=True):\n",
    "    datasets.append({\"input\": r[\"TEXT\"], \"expected_output\": r[\"LABEL\"].lower()})"
   ]
  },
  {
   "cell_type": "code",
   "execution_count": null,
   "id": "3",
   "metadata": {},
   "outputs": [],
   "source": [
    "TRAIN_PCT = 0.9666\n",
    "VAL_PCT = 0.0167\n",
    "TEST_PCT = 0.0167\n",
    "train_ds = datasets[: int(len(datasets) * TRAIN_PCT)]\n",
    "val_ds = datasets[\n",
    "    int(len(datasets) * TRAIN_PCT) : int(len(datasets) * (TRAIN_PCT + VAL_PCT))\n",
    "]\n",
    "test_ds = datasets[int(len(datasets) * (TRAIN_PCT + VAL_PCT)) :]"
   ]
  },
  {
   "cell_type": "code",
   "execution_count": null,
   "id": "4",
   "metadata": {},
   "outputs": [],
   "source": [
    "len(train_ds), len(val_ds), len(test_ds)"
   ]
  },
  {
   "cell_type": "code",
   "execution_count": null,
   "id": "5",
   "metadata": {},
   "outputs": [],
   "source": [
    "def create_dataset(name: str, ds: list):\n",
    "    langfuse.create_dataset(name=name)\n",
    "    for item in ds:\n",
    "        langfuse.create_dataset_item(\n",
    "            dataset_name=name,\n",
    "            input=item[\"input\"],\n",
    "            expected_output=item[\"expected_output\"],\n",
    "        )"
   ]
  },
  {
   "cell_type": "code",
   "execution_count": null,
   "id": "6",
   "metadata": {},
   "outputs": [],
   "source": [
    "create_dataset(\"sms_phishing_train\", train_ds)\n",
    "create_dataset(\"sms_phishing_val\", val_ds)\n",
    "create_dataset(\"sms_phishing_test\", test_ds)"
   ]
  },
  {
   "cell_type": "code",
   "execution_count": null,
   "id": "7",
   "metadata": {},
   "outputs": [],
   "source": []
  }
 ],
 "metadata": {
  "kernelspec": {
   "display_name": "Python 3",
   "language": "python",
   "name": "python3"
  },
  "language_info": {
   "codemirror_mode": {
    "name": "ipython",
    "version": 2
   },
   "file_extension": ".py",
   "mimetype": "text/x-python",
   "name": "python",
   "nbconvert_exporter": "python",
   "pygments_lexer": "ipython2",
   "version": "2.7.6"
  }
 },
 "nbformat": 4,
 "nbformat_minor": 5
}
