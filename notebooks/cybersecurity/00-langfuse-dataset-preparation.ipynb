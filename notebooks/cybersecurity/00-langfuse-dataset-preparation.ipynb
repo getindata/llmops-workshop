{
 "cells": [
  {
   "cell_type": "code",
   "id": "0",
   "metadata": {
    "ExecuteTime": {
     "end_time": "2025-03-30T12:24:32.345053Z",
     "start_time": "2025-03-30T12:24:32.257191Z"
    }
   },
   "source": [
    "## LOCAL\n",
    "%run __include.ipynb\n",
    "## COLAB\n",
    "# %run __setup_colab.ipynb"
   ],
   "outputs": [],
   "execution_count": 1
  },
  {
   "cell_type": "code",
   "id": "1",
   "metadata": {
    "ExecuteTime": {
     "end_time": "2025-03-30T12:24:34.143925Z",
     "start_time": "2025-03-30T12:24:33.841442Z"
    }
   },
   "source": [
    "from langfuse import Langfuse\n",
    "\n",
    "langfuse = Langfuse()"
   ],
   "outputs": [],
   "execution_count": 2
  },
  {
   "cell_type": "code",
   "id": "2",
   "metadata": {
    "ExecuteTime": {
     "end_time": "2025-03-30T12:24:37.093670Z",
     "start_time": "2025-03-30T12:24:36.823133Z"
    }
   },
   "source": [
    "import polars as pl\n",
    "\n",
    "\n",
    "df = pl.read_csv(\"../../data/sms_phishing.csv\")\n",
    "\n",
    "datasets = []\n",
    "for r in df.iter_rows(named=True):\n",
    "    datasets.append({\"input\": r[\"TEXT\"], \"expected_output\": r[\"LABEL\"].lower()})"
   ],
   "outputs": [],
   "execution_count": 3
  },
  {
   "cell_type": "code",
   "id": "3",
   "metadata": {
    "ExecuteTime": {
     "end_time": "2025-03-30T12:24:38.929681Z",
     "start_time": "2025-03-30T12:24:38.926758Z"
    }
   },
   "source": [
    "TRAIN_PCT = 0.9666\n",
    "VAL_PCT = 0.0167\n",
    "TEST_PCT = 0.0167\n",
    "train_ds = datasets[: int(len(datasets) * TRAIN_PCT)]\n",
    "val_ds = datasets[\n",
    "    int(len(datasets) * TRAIN_PCT) : int(len(datasets) * (TRAIN_PCT + VAL_PCT))\n",
    "]\n",
    "test_ds = datasets[int(len(datasets) * (TRAIN_PCT + VAL_PCT)) :]"
   ],
   "outputs": [],
   "execution_count": 4
  },
  {
   "cell_type": "code",
   "id": "4",
   "metadata": {
    "ExecuteTime": {
     "end_time": "2025-03-30T12:24:41.130992Z",
     "start_time": "2025-03-30T12:24:41.126525Z"
    }
   },
   "source": [
    "len(train_ds), len(val_ds), len(test_ds)"
   ],
   "outputs": [
    {
     "data": {
      "text/plain": [
       "(5771, 100, 100)"
      ]
     },
     "execution_count": 5,
     "metadata": {},
     "output_type": "execute_result"
    }
   ],
   "execution_count": 5
  },
  {
   "cell_type": "code",
   "id": "5",
   "metadata": {
    "ExecuteTime": {
     "end_time": "2025-03-30T12:24:42.803120Z",
     "start_time": "2025-03-30T12:24:42.800655Z"
    }
   },
   "source": [
    "def create_dataset(name: str, ds: list):\n",
    "    langfuse.create_dataset(name=name)\n",
    "    for item in ds:\n",
    "        langfuse.create_dataset_item(\n",
    "            dataset_name=name,\n",
    "            input=item[\"input\"],\n",
    "            expected_output=item[\"expected_output\"],\n",
    "        )"
   ],
   "outputs": [],
   "execution_count": 6
  },
  {
   "cell_type": "code",
   "id": "6",
   "metadata": {
    "jupyter": {
     "is_executing": true
    },
    "ExecuteTime": {
     "start_time": "2025-03-30T12:24:45.401241Z"
    }
   },
   "source": [
    "create_dataset(\"sms_phishing_train\", train_ds)\n",
    "create_dataset(\"sms_phishing_val\", val_ds)\n",
    "create_dataset(\"sms_phishing_test\", test_ds)"
   ],
   "outputs": [],
   "execution_count": null
  },
  {
   "cell_type": "code",
   "id": "7",
   "metadata": {},
   "source": [],
   "outputs": [],
   "execution_count": null
  }
 ],
 "metadata": {
  "kernelspec": {
   "display_name": "Python 3",
   "language": "python",
   "name": "python3"
  },
  "language_info": {
   "codemirror_mode": {
    "name": "ipython",
    "version": 2
   },
   "file_extension": ".py",
   "mimetype": "text/x-python",
   "name": "python",
   "nbconvert_exporter": "python",
   "pygments_lexer": "ipython2",
   "version": "2.7.6"
  }
 },
 "nbformat": 4,
 "nbformat_minor": 5
}
