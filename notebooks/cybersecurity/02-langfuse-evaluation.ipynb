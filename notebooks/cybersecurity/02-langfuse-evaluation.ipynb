{
 "cells": [
  {
   "cell_type": "code",
   "id": "0",
   "metadata": {},
   "source": [
    "## LOCAL\n",
    "%run __include.ipynb\n",
    "## COLAB\n",
    "# %run __setup_colab.ipynb"
   ],
   "outputs": [],
   "execution_count": null
  },
  {
   "cell_type": "code",
   "id": "1",
   "metadata": {},
   "source": [
    "from langfuse import Langfuse\n",
    "\n",
    "langfuse = Langfuse()"
   ],
   "outputs": [],
   "execution_count": null
  },
  {
   "cell_type": "code",
   "id": "2",
   "metadata": {
    "ExecuteTime": {
     "end_time": "2025-04-01T05:40:52.166225Z",
     "start_time": "2025-04-01T05:40:52.164220Z"
    }
   },
   "source": [
    "import dspy\n",
    "\n",
    "MODEL = \"gemma3:1b-it-q4_K_M\"\n",
    "\n",
    "lm = dspy.LM(f\"ollama/{MODEL}\", cache=False, num_retries=20)\n",
    "dspy.settings.configure(lm=lm, track_usage=False)"
   ],
   "outputs": [],
   "execution_count": 119
  },
  {
   "cell_type": "code",
   "id": "3",
   "metadata": {
    "ExecuteTime": {
     "end_time": "2025-04-01T05:40:54.348255Z",
     "start_time": "2025-04-01T05:40:53.800211Z"
    }
   },
   "source": [
    "lm(\"Hello world!\")"
   ],
   "outputs": [
    {
     "data": {
      "text/plain": [
       "[\"Hi there! How's your day going?\"]"
      ]
     },
     "execution_count": 120,
     "metadata": {},
     "output_type": "execute_result"
    }
   ],
   "execution_count": 120
  },
  {
   "metadata": {},
   "cell_type": "code",
   "source": [
    "lm.inspect_history(1)"
   ],
   "id": "c583fbcecda7c6b1",
   "outputs": [],
   "execution_count": null
  },
  {
   "cell_type": "code",
   "id": "4",
   "metadata": {
    "ExecuteTime": {
     "end_time": "2025-04-01T05:40:57.162352Z",
     "start_time": "2025-04-01T05:40:57.160333Z"
    }
   },
   "source": [
    "from sms_classifier import SMSClassifier\n",
    "\n",
    "sms_classifier = SMSClassifier()"
   ],
   "outputs": [],
   "execution_count": 121
  },
  {
   "cell_type": "code",
   "id": "5",
   "metadata": {
    "ExecuteTime": {
     "end_time": "2025-04-01T05:41:05.220988Z",
     "start_time": "2025-04-01T05:40:58.178700Z"
    }
   },
   "source": [
    "sms_classifier(\n",
    "    sms_text=\"The Xmas story is peace.. The Xmas msg is love.. The Xmas miracle is jesus.. Hav a blessed month ahead &amp; wish U Merry Xmas...\"\n",
    ")"
   ],
   "outputs": [
    {
     "data": {
      "text/plain": [
       "Prediction(\n",
       "    category='ham'\n",
       ")"
      ]
     },
     "execution_count": 122,
     "metadata": {},
     "output_type": "execute_result"
    }
   ],
   "execution_count": 122
  },
  {
   "metadata": {
    "ExecuteTime": {
     "end_time": "2025-04-01T04:25:15.513280Z",
     "start_time": "2025-04-01T04:25:15.511044Z"
    }
   },
   "cell_type": "code",
   "source": [
    "lm.inspect_history(n=1)"
   ],
   "id": "e9b6a4647b8bd8c5",
   "outputs": [
    {
     "name": "stdout",
     "output_type": "stream",
     "text": [
      "\n",
      "\n",
      "\n",
      "\n",
      "\u001b[34m[2025-04-01T06:18:19.163123]\u001b[0m\n",
      "\n",
      "\u001b[31mSystem message:\u001b[0m\n",
      "\n",
      "Your input fields are:\n",
      "1. `sms_text` (str)\n",
      "\n",
      "Your output fields are:\n",
      "1. `category` (Literal['ham', 'spam', 'smishing'])\n",
      "\n",
      "All interactions will be structured in the following way, with the appropriate values filled in.\n",
      "\n",
      "[[ ## sms_text ## ]]\n",
      "{sms_text}\n",
      "\n",
      "[[ ## category ## ]]\n",
      "{category}        # note: the value you produce must exactly match (no extra characters) one of: ham; spam; smishing\n",
      "\n",
      "[[ ## completed ## ]]\n",
      "\n",
      "In adhering to this structure, your objective is: \n",
      "        Given an SMS text, predict whether it is ham, spam, or smishing.\n",
      "        Output only the predicted label.\n",
      "\n",
      "\n",
      "\u001b[31mUser message:\u001b[0m\n",
      "\n",
      "[[ ## sms_text ## ]]\n",
      "Free entry in 2 a wkly comp to win FA Cup final tkts 21st May 2005. Text FA to 87121 to receive entry question\n",
      "\n",
      "Respond with the corresponding output fields, starting with the field `[[ ## category ## ]]` (must be formatted as a valid Python Literal['ham', 'spam', 'smishing']), and then ending with the marker for `[[ ## completed ## ]]`.\n",
      "\n",
      "\n",
      "\u001b[31mResponse:\u001b[0m\n",
      "\n",
      "\u001b[32m[[ ## category ## ]]smishing\n",
      "[[ ## completed ## ]]\u001b[0m\n",
      "\n",
      "\n",
      "\n",
      "\n",
      "\n"
     ]
    }
   ],
   "execution_count": 77
  },
  {
   "cell_type": "code",
   "id": "6",
   "metadata": {
    "ExecuteTime": {
     "end_time": "2025-04-01T04:54:47.817200Z",
     "start_time": "2025-04-01T04:54:47.780557Z"
    }
   },
   "source": [
    "dataset = langfuse.get_dataset(\"sms_phishing_test\")\n",
    "from dspy import Example\n",
    "\n",
    "test_ds = []\n",
    "for item in dataset.items:\n",
    "    test_ds.append(\n",
    "        Example(sms_text=item.input, category=item.expected_output).with_inputs(\n",
    "            \"sms_text\"\n",
    "        )\n",
    "    )"
   ],
   "outputs": [],
   "execution_count": 92
  },
  {
   "cell_type": "code",
   "id": "7",
   "metadata": {
    "ExecuteTime": {
     "end_time": "2025-04-01T10:46:45.301919Z",
     "start_time": "2025-04-01T10:41:24.406966Z"
    }
   },
   "source": [
    "from evaluation_helpers import plot_metrics, run_evaluation\n",
    "from datetime import datetime\n",
    "\n",
    "timestamp = int(datetime.now().timestamp())\n",
    "models = [\"gemma3:1b-it-q4_K_M\", \"gemma3:1b\", \"qwen2.5:14b\", \"gemma3:12b\"]\n",
    "# models = [\"smollm2:360m\", \"smollm2:1.7b\", \"qwen2.5:0.5b\", \"qwen2.5:1.5b\"]\n",
    "\n",
    "# full run\n",
    "# models = [\n",
    "#         \"smollm2:360m\", \"smollm2:1.7b\",\n",
    "#         \"qwen2.5:0.5b\", \"qwen2.5:1.5b\",\n",
    "#         \"gemma3:1b\", \"gemma3:4b\", \"granite3.2:2b\",\n",
    "#         \"gemma3:12b\", \"qwen2.5:14b\", \"phi4:14b\"\n",
    "# ]\n",
    "\n",
    "classes = [\"ham\", \"spam\", \"smishing\"]\n",
    "\n",
    "run_evaluation(models, sms_classifier, test_ds, classes, timestamp, prefix=\"baseline\")"
   ],
   "outputs": [
    {
     "name": "stdout",
     "output_type": "stream",
     "text": [
      "Average Metric: 93.00 / 100 (93.0%): 100%|██████████| 100/100 [01:30<00:00,  1.11it/s]\n",
      "Average Metric: 67.00 / 100 (67.0%): 100%|██████████| 100/100 [00:19<00:00,  5.21it/s]\n",
      "Average Metric: 87.00 / 100 (87.0%): 100%|██████████| 100/100 [01:30<00:00,  1.11it/s]\n",
      "Average Metric: 78.00 / 100 (78.0%): 100%|██████████| 100/100 [02:01<00:00,  1.21s/it]\n"
     ]
    }
   ],
   "execution_count": 165
  },
  {
   "metadata": {
    "ExecuteTime": {
     "end_time": "2025-04-01T10:46:58.259461Z",
     "start_time": "2025-04-01T10:46:50.691828Z"
    }
   },
   "cell_type": "code",
   "source": [
    "from evaluation_helpers import get_all_metric\n",
    "\n",
    "metrics_baseline = get_all_metric(models, timestamp, classes, prefix=\"baseline\")\n",
    "metrics_baseline[\"gemma3:1b-finetune\"] = metrics_baseline.pop(\"gemma3:1b-it-q4_K_M\")\n",
    "metrics_baseline"
   ],
   "id": "8",
   "outputs": [
    {
     "data": {
      "text/plain": [
       "{'gemma3:1b': {'precision': 0.3250106700810926,\n",
       "  'recall': 0.3317269076305221,\n",
       "  'f1': 0.31040564373897706},\n",
       " 'qwen2.5:14b': {'precision': 0.8266666666666667,\n",
       "  'recall': 0.6971887550200804,\n",
       "  'f1': 0.6415523804058836},\n",
       " 'gemma3:12b': {'precision': 0.5404761904761904,\n",
       "  'recall': 0.667536813922356,\n",
       "  'f1': 0.575462962962963},\n",
       " 'gemma3:1b-finetune': {'precision': 0.8771929824561404,\n",
       "  'recall': 0.721285140562249,\n",
       "  'f1': 0.6963739912483233}}"
      ]
     },
     "execution_count": 166,
     "metadata": {},
     "output_type": "execute_result"
    }
   ],
   "execution_count": 166
  },
  {
   "metadata": {
    "ExecuteTime": {
     "end_time": "2025-04-01T10:47:01.021852Z",
     "start_time": "2025-04-01T10:47:01.019856Z"
    }
   },
   "cell_type": "code",
   "source": [
    "timestamp_ape = \"1743493037\""
   ],
   "id": "4ea7063a4dd61ab4",
   "outputs": [],
   "execution_count": 167
  },
  {
   "metadata": {
    "ExecuteTime": {
     "end_time": "2025-04-01T10:47:04.626201Z",
     "start_time": "2025-04-01T10:47:02.749473Z"
    }
   },
   "cell_type": "code",
   "source": [
    "ape_metrics = get_all_metric([\"gemma3:1b\"], timestamp_ape, classes, prefix=\"ape\")\n",
    "ape_metrics = {\"gemma3:1b-ape\": ape_metrics[\"gemma3:1b\"]}\n",
    "ape_metrics"
   ],
   "id": "82d70dac4b452e62",
   "outputs": [
    {
     "data": {
      "text/plain": [
       "{'gemma3:1b-ape': {'precision': 0.5333333333333333,\n",
       "  'recall': 0.6546184738955824,\n",
       "  'f1': 0.5771983640081799}}"
      ]
     },
     "execution_count": 168,
     "metadata": {},
     "output_type": "execute_result"
    }
   ],
   "execution_count": 168
  },
  {
   "cell_type": "code",
   "id": "9",
   "metadata": {
    "ExecuteTime": {
     "end_time": "2025-04-01T10:47:14.214052Z",
     "start_time": "2025-04-01T10:47:14.154676Z"
    }
   },
   "source": [
    "plot_metrics(\n",
    "    metrics_baseline | ape_metrics,\n",
    "    [\"Precision (macro)\", \"Recall(macro)\", \"F1(macro)\"],\n",
    "    \"Scores by model before and after fine-tuning\",\n",
    ")"
   ],
   "outputs": [
    {
     "data": {
      "text/plain": [
       "<Figure size 1200x500 with 1 Axes>"
      ],
      "image/png": "[encoded data removed]"
     },
     "metadata": {},
     "output_type": "display_data"
    }
   ],
   "execution_count": 169
  },
  {
   "metadata": {
    "ExecuteTime": {
     "end_time": "2025-04-01T04:35:35.546315Z",
     "start_time": "2025-04-01T04:35:33.783455Z"
    }
   },
   "cell_type": "code",
   "source": [
    "from ollama import chat\n",
    "from ollama import ChatResponse\n",
    "\n",
    "# model=\"ollama/gemma3:4b-it-bf16_ft\"\n",
    "model = \"gemma3:4b\"\n",
    "response: ChatResponse = chat(\n",
    "    model=model,\n",
    "    messages=[\n",
    "        {\n",
    "            \"role\": \"system\",\n",
    "            \"content\": \"\"\"Your input fields are:\n",
    "            1. `sms_text` (str)\n",
    "\n",
    "            Your output fields are:\n",
    "            1. `category` (Literal['ham', 'spam', 'smishing'])\n",
    "\n",
    "            All interactions will be structured in the following way, with the appropriate values filled in.\n",
    "\n",
    "            Inputs will have the following structure:\n",
    "\n",
    "                [[ ## sms_text ## ]]\n",
    "                    {sms_text}\n",
    "\n",
    "                    Outputs will be a JSON object with the following fields.\n",
    "\n",
    "            {\n",
    "            \"category\": \"{category}        # note: the value you produce must be one of: ham; spam; smishing\"\n",
    "            }\n",
    "\n",
    "            In adhering to this structure, your objective is:\n",
    "            Given an SMS text, predict whether it is ham, spam, or smishing.\n",
    "            Output only the predicted label.\n",
    "\"\"\",\n",
    "        },\n",
    "        {\n",
    "            \"role\": \"user\",\n",
    "            \"content\": \"\"\"\n",
    "        [[ ## sms_text ## ]]\n",
    "TFree entry in 2 a wkly comp to win FA Cup final tkts 21st May 2005. Text FA to 87121 to receive entry question\n",
    "\n",
    "Respond with a JSON object in the following order of fields: `category` (must be formatted as a valid Python Literal['ham', 'spam', 'smishing']).\n",
    "        \"\"\",\n",
    "        },\n",
    "    ],\n",
    ")\n",
    "print(response[\"message\"][\"content\"])\n",
    "# or access fields directly from the response object\n",
    "print(response.message.content)"
   ],
   "id": "e07c601a70bd5dcc",
   "outputs": [
    {
     "name": "stdout",
     "output_type": "stream",
     "text": [
      "```json\n",
      "{\n",
      "    \"category\": \"smishing\"\n",
      "}\n",
      "```\n",
      "```json\n",
      "{\n",
      "    \"category\": \"smishing\"\n",
      "}\n",
      "```\n"
     ]
    }
   ],
   "execution_count": 87
  },
  {
   "metadata": {},
   "cell_type": "code",
   "outputs": [],
   "execution_count": null,
   "source": "",
   "id": "d5a2ba19a44c5001"
  }
 ],
 "metadata": {
  "kernelspec": {
   "display_name": "Python 3",
   "language": "python",
   "name": "python3"
  },
  "language_info": {
   "codemirror_mode": {
    "name": "ipython",
    "version": 2
   },
   "file_extension": ".py",
   "mimetype": "text/x-python",
   "name": "python",
   "nbconvert_exporter": "python",
   "pygments_lexer": "ipython2",
   "version": "2.7.6"
  }
 },
 "nbformat": 4,
 "nbformat_minor": 5
}
