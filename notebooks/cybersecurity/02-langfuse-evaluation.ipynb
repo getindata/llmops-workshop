{
 "cells": [
  {
   "cell_type": "code",
   "execution_count": null,
   "id": "0",
   "metadata": {},
   "outputs": [],
   "source": [
    "%run __include.ipynb"
   ]
  },
  {
   "cell_type": "code",
   "execution_count": null,
   "id": "1",
   "metadata": {},
   "outputs": [],
   "source": [
    "from langfuse import Langfuse\n",
    "\n",
    "langfuse = Langfuse()"
   ]
  },
  {
   "cell_type": "code",
   "execution_count": null,
   "id": "2",
   "metadata": {},
   "outputs": [],
   "source": [
    "import dspy\n",
    "\n",
    "MODEL = \"qwen2.5:0.5b\"\n",
    "\n",
    "lm = dspy.LM(f\"ollama/{MODEL}\", cache=False)\n",
    "dspy.settings.configure(lm=lm, track_usage=False)"
   ]
  },
  {
   "cell_type": "code",
   "execution_count": null,
   "id": "3",
   "metadata": {},
   "outputs": [],
   "source": [
    "lm(\"Hello world!\")"
   ]
  },
  {
   "cell_type": "code",
   "execution_count": null,
   "id": "4",
   "metadata": {},
   "outputs": [],
   "source": [
    "from sms_classifier import SMSClassifier\n",
    "\n",
    "sms_classifier = SMSClassifier()"
   ]
  },
  {
   "cell_type": "code",
   "execution_count": null,
   "id": "5",
   "metadata": {},
   "outputs": [],
   "source": [
    "sms_classifier(\n",
    "    sms_text=\"\"\"Free entry in 2 a wkly comp to win FA Cup final tkts 21st May 2005. Text FA to 87121 to receive entry question\"\"\"\n",
    ")"
   ]
  },
  {
   "cell_type": "code",
   "execution_count": null,
   "id": "6",
   "metadata": {},
   "outputs": [],
   "source": [
    "dataset = langfuse.get_dataset(\"sms_phishing_test\")\n",
    "from dspy import Example\n",
    "\n",
    "test_ds = []\n",
    "for item in dataset.items:\n",
    "    test_ds.append(\n",
    "        Example(sms_text=item.input, category=item.expected_output).with_inputs(\n",
    "            \"sms_text\"\n",
    "        )\n",
    "    )"
   ]
  },
  {
   "cell_type": "code",
   "execution_count": null,
   "id": "7",
   "metadata": {},
   "outputs": [],
   "source": [
    "from evaluation_helpers import plot_metrics, run_evaluation\n",
    "from datetime import datetime\n",
    "\n",
    "timestamp = int(datetime.now().timestamp())\n",
    "models = [\"smollm2:360m\", \"smollm2:1.7b\", \"qwen2.5:0.5b\", \"qwen2.5:1.5b\"]\n",
    "\n",
    "# models = [\n",
    "#         \"smollm2:360m\", \"smollm2:1.7b\",\n",
    "#         \"qwen2.5:0.5b\", \"qwen2.5:1.5b\",\n",
    "#         \"gemma3:1b\", \"gemma3:4b\", \"granite3.2:2b\",\n",
    "#         \"gemma3:12b\", \"qwen2.5:14b\", \"phi4:14b\"\n",
    "# ]\n",
    "\n",
    "classes = [\"ham\", \"spam\", \"smishing\"]\n",
    "\n",
    "run_evaluation(models, sms_classifier, test_ds, classes, timestamp, prefix=\"baseline\")"
   ]
  },
  {
   "cell_type": "code",
   "execution_count": null,
   "id": "8",
   "metadata": {},
   "outputs": [],
   "source": [
    "from evaluation_helpers import get_all_metric\n",
    "\n",
    "metrics_baseline = get_all_metric(models, timestamp, classes, prefix=\"baseline\")"
   ]
  },
  {
   "cell_type": "code",
   "execution_count": null,
   "id": "9",
   "metadata": {},
   "outputs": [],
   "source": [
    "plot_metrics(\n",
    "    metrics_baseline,\n",
    "    [\"Precision\", \"Recall\", \"F1\"],\n",
    "    \"Scores by model before optimization\",\n",
    ")"
   ]
  }
 ],
 "metadata": {
  "kernelspec": {
   "display_name": "Python 3",
   "language": "python",
   "name": "python3"
  },
  "language_info": {
   "codemirror_mode": {
    "name": "ipython",
    "version": 2
   },
   "file_extension": ".py",
   "mimetype": "text/x-python",
   "name": "python",
   "nbconvert_exporter": "python",
   "pygments_lexer": "ipython2",
   "version": "2.7.6"
  }
 },
 "nbformat": 4,
 "nbformat_minor": 5
}
