{
 "cells": [
  {
   "cell_type": "code",
   "execution_count": null,
   "id": "0",
   "metadata": {},
   "outputs": [],
   "source": [
    "import os\n",
    "import sys"
   ]
  },
  {
   "cell_type": "code",
   "execution_count": null,
   "id": "1",
   "metadata": {},
   "outputs": [],
   "source": [
    "def is_colab():\n",
    "    try:\n",
    "        import google.colab  # noqa: F401\n",
    "\n",
    "        return True\n",
    "    except ImportError:\n",
    "        return False"
   ]
  },
  {
   "cell_type": "code",
   "execution_count": null,
   "id": "2",
   "metadata": {},
   "outputs": [],
   "source": [
    "if is_colab():\n",
    "    sys.path.append(\"/content/llmops-workshop/.venv/lib/python3.11/site-packages/\")\n",
    "else:\n",
    "    sys.path.append(\"../../.venv/lib/python3.12/site-packages/\")"
   ]
  },
  {
   "cell_type": "code",
   "execution_count": null,
   "id": "3",
   "metadata": {},
   "outputs": [],
   "source": [
    "# PROD\n",
    "# os.environ[\"LANGFUSE_PUBLIC_KEY\"] = \"pk-lf-5bd143ba-d6d0-46a2-be27-3a79c62f2199\"\n",
    "# os.environ[\"LANGFUSE_SECRET_KEY\"] = \"sk-lf-fd3278ca-fb20-4a91-8a05-392639d89449\"\n",
    "# os.environ[\"LANGFUSE_HOST\"] = \"http://localhost:3000\""
   ]
  },
  {
   "cell_type": "code",
   "execution_count": null,
   "id": "4",
   "metadata": {},
   "outputs": [],
   "source": [
    "# DEV\n",
    "os.environ[\"LANGFUSE_PUBLIC_KEY\"] = \"pk-lf-f6f1d9e2-c6c1-43a3-9484-612198a1d7e1\"\n",
    "os.environ[\"LANGFUSE_SECRET_KEY\"] = \"sk-lf-70fe92e1-085e-4c0c-bb9c-93167ab1432f\"\n",
    "os.environ[\"LANGFUSE_HOST\"] = \"http://localhost:3000\""
   ]
  }
 ],
 "metadata": {
  "kernelspec": {
   "display_name": "Python 3",
   "language": "python",
   "name": "python3"
  },
  "language_info": {
   "codemirror_mode": {
    "name": "ipython",
    "version": 2
   },
   "file_extension": ".py",
   "mimetype": "text/x-python",
   "name": "python",
   "nbconvert_exporter": "python",
   "pygments_lexer": "ipython2",
   "version": "2.7.6"
  }
 },
 "nbformat": 4,
 "nbformat_minor": 5
}
