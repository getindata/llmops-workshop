{
 "cells": [
  {
   "cell_type": "markdown",
   "id": "0",
   "metadata": {},
   "source": [
    "## Prepare the environment"
   ]
  },
  {
   "cell_type": "markdown",
   "id": "1",
   "metadata": {},
   "source": [
    "### Clone repository"
   ]
  },
  {
   "cell_type": "code",
   "execution_count": null,
   "id": "2",
   "metadata": {},
   "outputs": [],
   "source": [
    "%env EXERCISE_NAME=04-ape-and-fine-tuning\n",
    "%env REPO_NAME=llmops-workshop"
   ]
  },
  {
   "cell_type": "code",
   "execution_count": null,
   "id": "3",
   "metadata": {},
   "outputs": [],
   "source": [
    "! echo \"Cloning the repository...${REPO_NAME}\""
   ]
  },
  {
   "cell_type": "code",
   "execution_count": null,
   "id": "4",
   "metadata": {},
   "outputs": [],
   "source": [
    "! git clone https://github.com/getindata/$REPO_NAME.git"
   ]
  },
  {
   "cell_type": "markdown",
   "id": "5",
   "metadata": {},
   "source": [
    "## Setup the environment"
   ]
  },
  {
   "cell_type": "code",
   "execution_count": null,
   "id": "6",
   "metadata": {},
   "outputs": [],
   "source": [
    "def is_colab():\n",
    "    try:\n",
    "        import google.colab  # noqa: F401\n",
    "\n",
    "        return True\n",
    "    except ImportError:\n",
    "        return False"
   ]
  },
  {
   "cell_type": "code",
   "execution_count": null,
   "id": "7",
   "metadata": {},
   "outputs": [],
   "source": [
    "import os\n",
    "if is_colab():\n",
    "    os.environ[\"EXERCISE_ROOT\"] = f\"/content/${os.environ['REPO_NAME']}/exercises\"\n",
    "    os.environ[\"EXERCISE_RUN\"] = \"colab\"\n",
    "else:\n",
    "    os.environ[\"EXERCISE_ROOT\"] = f\"{os.getcwd()}/exercises\"\n",
    "    os.environ[\"EXERCISE_RUN\"] = \"local\"\n",
    "\n",
    "os.environ['EXERCISE_DIR'] = f\"{os.environ['EXERCISE_ROOT']}/{os.environ['EXERCISE_NAME']}\"\n",
    "get_ipython().run_line_magic(\"run\", f\"{os.environ['EXERCISE_ROOT']}/shared/setup/__setup_{os.environ['EXERCISE_RUN']}.ipynb\")"
   ]
  },
  {
   "cell_type": "code",
   "execution_count": null,
   "id": "8",
   "metadata": {},
   "outputs": [],
   "source": [
    "import sys\n",
    "\n",
    "sys.path.append(f\"{os.environ['EXERCISE_DIR']}/src\")"
   ]
  },
  {
   "cell_type": "markdown",
   "id": "9",
   "metadata": {},
   "source": [
    "### Langfuse connection"
   ]
  },
  {
   "cell_type": "code",
   "execution_count": null,
   "id": "10",
   "metadata": {},
   "outputs": [],
   "source": [
    "import os\n",
    "\n",
    "os.environ[\"LANGFUSE_PUBLIC_KEY\"] = \"pk-lf-f6f1d9e2-c6c1-43a3-9484-612198a1d7e1\"\n",
    "os.environ[\"LANGFUSE_SECRET_KEY\"] = \"sk-lf-70fe92e1-085e-4c0c-bb9c-93167ab1432f\"\n",
    "os.environ[\"LANGFUSE_HOST\"] = \"http://localhost:3000\""
   ]
  },
  {
   "cell_type": "code",
   "execution_count": null,
   "id": "11",
   "metadata": {},
   "outputs": [],
   "source": []
  }
 ],
 "metadata": {
  "kernelspec": {
   "display_name": "Python 3",
   "language": "python",
   "name": "python3"
  },
  "language_info": {
   "codemirror_mode": {
    "name": "ipython",
    "version": 2
   },
   "file_extension": ".py",
   "mimetype": "text/x-python",
   "name": "python",
   "nbconvert_exporter": "python",
   "pygments_lexer": "ipython2",
   "version": "2.7.6"
  }
 },
 "nbformat": 4,
 "nbformat_minor": 5
}
