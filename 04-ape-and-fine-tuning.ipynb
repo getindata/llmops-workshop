{
 "cells": [
  {
   "cell_type": "markdown",
   "id": "0",
   "metadata": {},
   "source": "## Setup the environment"
  },
  {
   "cell_type": "markdown",
   "id": "1",
   "metadata": {},
   "source": [
    "### Clone repository"
   ]
  },
  {
   "cell_type": "code",
   "id": "2",
   "metadata": {
    "ExecuteTime": {
     "end_time": "2025-04-03T15:03:31.497131Z",
     "start_time": "2025-04-03T15:03:31.491751Z"
    }
   },
   "source": [
    "%env EXERCISE_NAME=04-ape-and-fine-tuning\n",
    "%env REPO_NAME=llmops-workshop"
   ],
   "outputs": [
    {
     "name": "stdout",
     "output_type": "stream",
     "text": [
      "env: EXERCISE_NAME=04-ape-and-fine-tuning\n",
      "env: REPO_NAME=llmops-workshop\n"
     ]
    }
   ],
   "execution_count": 1
  },
  {
   "cell_type": "code",
   "id": "3",
   "metadata": {
    "ExecuteTime": {
     "end_time": "2025-04-03T15:03:33.561149Z",
     "start_time": "2025-04-03T15:03:32.935800Z"
    }
   },
   "source": [
    "! echo \"Cloning the repository...${REPO_NAME}\""
   ],
   "outputs": [
    {
     "name": "stdout",
     "output_type": "stream",
     "text": [
      "Cloning the repository...llmops-workshop\r\n"
     ]
    }
   ],
   "execution_count": 2
  },
  {
   "cell_type": "code",
   "id": "4",
   "metadata": {},
   "source": [
    "# ! git clone https://github.com/getindata/$REPO_NAME.git"
   ],
   "outputs": [],
   "execution_count": null
  },
  {
   "cell_type": "code",
   "id": "6",
   "metadata": {
    "ExecuteTime": {
     "end_time": "2025-04-03T15:03:34.635546Z",
     "start_time": "2025-04-03T15:03:34.632970Z"
    }
   },
   "source": [
    "def is_colab():\n",
    "    try:\n",
    "        import google.colab  # noqa: F401\n",
    "\n",
    "        return True\n",
    "    except ImportError:\n",
    "        return False"
   ],
   "outputs": [],
   "execution_count": 3
  },
  {
   "metadata": {},
   "cell_type": "markdown",
   "source": "### Prepare environment variables, Python modules search path and install dependencies",
   "id": "5e01829a28795c2f"
  },
  {
   "cell_type": "code",
   "id": "7",
   "metadata": {
    "ExecuteTime": {
     "end_time": "2025-04-03T15:03:36.505222Z",
     "start_time": "2025-04-03T15:03:36.413723Z"
    }
   },
   "source": [
    "import os\n",
    "if is_colab():\n",
    "    os.environ[\"EXERCISE_ROOT\"] = f\"/content/${os.environ['REPO_NAME']}/exercises\"\n",
    "    os.environ[\"EXERCISE_RUN\"] = \"colab\"\n",
    "else:\n",
    "    os.environ[\"EXERCISE_ROOT\"] = f\"{os.getcwd()}/exercises\"\n",
    "    os.environ[\"EXERCISE_RUN\"] = \"local\"\n",
    "\n",
    "os.environ['EXERCISE_DIR'] = f\"{os.environ['EXERCISE_ROOT']}/{os.environ['EXERCISE_NAME']}\"\n",
    "get_ipython().run_line_magic(\"run\", f\"{os.environ['EXERCISE_ROOT']}/shared/setup/__setup_{os.environ['EXERCISE_RUN']}.ipynb\")"
   ],
   "outputs": [
    {
     "name": "stdout",
     "output_type": "stream",
     "text": [
      "/Users/mwiewior/research/git/llmops-workshop/exercises/04-ape-and-fine-tuning\n"
     ]
    }
   ],
   "execution_count": 4
  },
  {
   "cell_type": "code",
   "id": "8",
   "metadata": {
    "ExecuteTime": {
     "end_time": "2025-04-03T15:03:38.497872Z",
     "start_time": "2025-04-03T15:03:38.494997Z"
    }
   },
   "source": [
    "import sys\n",
    "\n",
    "sys.path.append(f\"{os.environ['EXERCISE_DIR']}/src\")"
   ],
   "outputs": [],
   "execution_count": 5
  },
  {
   "metadata": {
    "ExecuteTime": {
     "end_time": "2025-04-03T15:04:21.710086Z",
     "start_time": "2025-04-03T15:03:40.161980Z"
    }
   },
   "cell_type": "code",
   "source": [
    "%pip install -r {os.environ['EXERCISE_DIR']}/requirements.txt"
   ],
   "id": "e0a10d082b948c48",
   "outputs": [
    {
     "name": "stdout",
     "output_type": "stream",
     "text": [
      "Collecting git+https://github.com/mwiewior/mlflow.git@dspy-bug (from -r /Users/mwiewior/research/git/llmops-workshop/exercises/04-ape-and-fine-tuning/requirements.txt (line 7))\r\n",
      "  Cloning https://github.com/mwiewior/mlflow.git (to revision dspy-bug) to /private/var/folders/l3/8404fxz55gvdfszw4zf7ptp40000gn/T/pip-req-build-8stezxg4\r\n",
      "  Running command git clone --filter=blob:none --quiet https://github.com/mwiewior/mlflow.git /private/var/folders/l3/8404fxz55gvdfszw4zf7ptp40000gn/T/pip-req-build-8stezxg4\r\n",
      "  Running command git checkout -b dspy-bug --track origin/dspy-bug\r\n",
      "  Switched to a new branch 'dspy-bug'\r\n",
      "  branch 'dspy-bug' set up to track 'origin/dspy-bug'.\r\n",
      "  Resolved https://github.com/mwiewior/mlflow.git to commit 2322a6fe88c5c2eb39b64232a87c0c34c46d53e6\r\n",
      "  Running command git submodule update --init --recursive -q\r\n",
      "  Installing build dependencies ... \u001b[?25ldone\r\n",
      "\u001b[?25h  Getting requirements to build wheel ... \u001b[?25ldone\r\n",
      "\u001b[?25h  Preparing metadata (pyproject.toml) ... \u001b[?25ldone\r\n",
      "\u001b[?25hRequirement already satisfied: langfuse==2.60.2 in ./.venv/lib/python3.11/site-packages (from -r /Users/mwiewior/research/git/llmops-workshop/exercises/04-ape-and-fine-tuning/requirements.txt (line 1)) (2.60.2)\r\n",
      "Requirement already satisfied: polars==1.26.0 in ./.venv/lib/python3.11/site-packages (from -r /Users/mwiewior/research/git/llmops-workshop/exercises/04-ape-and-fine-tuning/requirements.txt (line 2)) (1.26.0)\r\n",
      "Requirement already satisfied: dspy==2.6.16 in ./.venv/lib/python3.11/site-packages (from -r /Users/mwiewior/research/git/llmops-workshop/exercises/04-ape-and-fine-tuning/requirements.txt (line 3)) (2.6.16)\r\n",
      "Requirement already satisfied: ipywidgets==8.1.5 in ./.venv/lib/python3.11/site-packages (from -r /Users/mwiewior/research/git/llmops-workshop/exercises/04-ape-and-fine-tuning/requirements.txt (line 4)) (8.1.5)\r\n",
      "Requirement already satisfied: litellm==1.62.4 in ./.venv/lib/python3.11/site-packages (from -r /Users/mwiewior/research/git/llmops-workshop/exercises/04-ape-and-fine-tuning/requirements.txt (line 5)) (1.62.4)\r\n",
      "Requirement already satisfied: opentelemetry-exporter-otlp-proto-http==1.31.1 in ./.venv/lib/python3.11/site-packages (from -r /Users/mwiewior/research/git/llmops-workshop/exercises/04-ape-and-fine-tuning/requirements.txt (line 8)) (1.31.1)\r\n",
      "Requirement already satisfied: anyio<5.0.0,>=4.4.0 in ./.venv/lib/python3.11/site-packages (from langfuse==2.60.2->-r /Users/mwiewior/research/git/llmops-workshop/exercises/04-ape-and-fine-tuning/requirements.txt (line 1)) (4.9.0)\r\n",
      "Requirement already satisfied: backoff>=1.10.0 in ./.venv/lib/python3.11/site-packages (from langfuse==2.60.2->-r /Users/mwiewior/research/git/llmops-workshop/exercises/04-ape-and-fine-tuning/requirements.txt (line 1)) (2.2.1)\r\n",
      "Requirement already satisfied: httpx<1.0,>=0.15.4 in ./.venv/lib/python3.11/site-packages (from langfuse==2.60.2->-r /Users/mwiewior/research/git/llmops-workshop/exercises/04-ape-and-fine-tuning/requirements.txt (line 1)) (0.28.1)\r\n",
      "Requirement already satisfied: idna<4.0,>=3.7 in ./.venv/lib/python3.11/site-packages (from langfuse==2.60.2->-r /Users/mwiewior/research/git/llmops-workshop/exercises/04-ape-and-fine-tuning/requirements.txt (line 1)) (3.10)\r\n",
      "Requirement already satisfied: packaging<25.0,>=23.2 in ./.venv/lib/python3.11/site-packages (from langfuse==2.60.2->-r /Users/mwiewior/research/git/llmops-workshop/exercises/04-ape-and-fine-tuning/requirements.txt (line 1)) (24.2)\r\n",
      "Requirement already satisfied: pydantic<3.0,>=1.10.7 in ./.venv/lib/python3.11/site-packages (from langfuse==2.60.2->-r /Users/mwiewior/research/git/llmops-workshop/exercises/04-ape-and-fine-tuning/requirements.txt (line 1)) (2.11.1)\r\n",
      "Requirement already satisfied: requests<3,>=2 in ./.venv/lib/python3.11/site-packages (from langfuse==2.60.2->-r /Users/mwiewior/research/git/llmops-workshop/exercises/04-ape-and-fine-tuning/requirements.txt (line 1)) (2.32.3)\r\n",
      "Requirement already satisfied: wrapt<2.0,>=1.14 in ./.venv/lib/python3.11/site-packages (from langfuse==2.60.2->-r /Users/mwiewior/research/git/llmops-workshop/exercises/04-ape-and-fine-tuning/requirements.txt (line 1)) (1.17.2)\r\n",
      "Requirement already satisfied: joblib~=1.3 in ./.venv/lib/python3.11/site-packages (from dspy==2.6.16->-r /Users/mwiewior/research/git/llmops-workshop/exercises/04-ape-and-fine-tuning/requirements.txt (line 3)) (1.4.2)\r\n",
      "Requirement already satisfied: openai<=1.61.0,>=0.28.1 in ./.venv/lib/python3.11/site-packages (from dspy==2.6.16->-r /Users/mwiewior/research/git/llmops-workshop/exercises/04-ape-and-fine-tuning/requirements.txt (line 3)) (1.61.0)\r\n",
      "Requirement already satisfied: pandas>=2.1.1 in ./.venv/lib/python3.11/site-packages (from dspy==2.6.16->-r /Users/mwiewior/research/git/llmops-workshop/exercises/04-ape-and-fine-tuning/requirements.txt (line 3)) (2.2.3)\r\n",
      "Requirement already satisfied: regex>=2023.10.3 in ./.venv/lib/python3.11/site-packages (from dspy==2.6.16->-r /Users/mwiewior/research/git/llmops-workshop/exercises/04-ape-and-fine-tuning/requirements.txt (line 3)) (2024.11.6)\r\n",
      "Requirement already satisfied: ujson>=5.8.0 in ./.venv/lib/python3.11/site-packages (from dspy==2.6.16->-r /Users/mwiewior/research/git/llmops-workshop/exercises/04-ape-and-fine-tuning/requirements.txt (line 3)) (5.10.0)\r\n",
      "Requirement already satisfied: tqdm>=4.66.1 in ./.venv/lib/python3.11/site-packages (from dspy==2.6.16->-r /Users/mwiewior/research/git/llmops-workshop/exercises/04-ape-and-fine-tuning/requirements.txt (line 3)) (4.67.1)\r\n",
      "Requirement already satisfied: datasets>=2.14.6 in ./.venv/lib/python3.11/site-packages (from dspy==2.6.16->-r /Users/mwiewior/research/git/llmops-workshop/exercises/04-ape-and-fine-tuning/requirements.txt (line 3)) (3.5.0)\r\n",
      "Requirement already satisfied: optuna>=3.4.0 in ./.venv/lib/python3.11/site-packages (from dspy==2.6.16->-r /Users/mwiewior/research/git/llmops-workshop/exercises/04-ape-and-fine-tuning/requirements.txt (line 3)) (4.2.1)\r\n",
      "Requirement already satisfied: magicattr>=0.1.6 in ./.venv/lib/python3.11/site-packages (from dspy==2.6.16->-r /Users/mwiewior/research/git/llmops-workshop/exercises/04-ape-and-fine-tuning/requirements.txt (line 3)) (0.1.6)\r\n",
      "Requirement already satisfied: diskcache>=5.6.0 in ./.venv/lib/python3.11/site-packages (from dspy==2.6.16->-r /Users/mwiewior/research/git/llmops-workshop/exercises/04-ape-and-fine-tuning/requirements.txt (line 3)) (5.6.3)\r\n",
      "Requirement already satisfied: json-repair>=0.30.0 in ./.venv/lib/python3.11/site-packages (from dspy==2.6.16->-r /Users/mwiewior/research/git/llmops-workshop/exercises/04-ape-and-fine-tuning/requirements.txt (line 3)) (0.40.0)\r\n",
      "Requirement already satisfied: tenacity>=8.2.3 in ./.venv/lib/python3.11/site-packages (from dspy==2.6.16->-r /Users/mwiewior/research/git/llmops-workshop/exercises/04-ape-and-fine-tuning/requirements.txt (line 3)) (9.1.2)\r\n",
      "Requirement already satisfied: asyncer==0.0.8 in ./.venv/lib/python3.11/site-packages (from dspy==2.6.16->-r /Users/mwiewior/research/git/llmops-workshop/exercises/04-ape-and-fine-tuning/requirements.txt (line 3)) (0.0.8)\r\n",
      "Requirement already satisfied: cachetools>=5.5.0 in ./.venv/lib/python3.11/site-packages (from dspy==2.6.16->-r /Users/mwiewior/research/git/llmops-workshop/exercises/04-ape-and-fine-tuning/requirements.txt (line 3)) (5.5.2)\r\n",
      "Requirement already satisfied: cloudpickle>=3.0.0 in ./.venv/lib/python3.11/site-packages (from dspy==2.6.16->-r /Users/mwiewior/research/git/llmops-workshop/exercises/04-ape-and-fine-tuning/requirements.txt (line 3)) (3.1.1)\r\n",
      "Requirement already satisfied: rich>=13.7.1 in ./.venv/lib/python3.11/site-packages (from dspy==2.6.16->-r /Users/mwiewior/research/git/llmops-workshop/exercises/04-ape-and-fine-tuning/requirements.txt (line 3)) (14.0.0)\r\n",
      "Requirement already satisfied: numpy>=1.26.0 in ./.venv/lib/python3.11/site-packages (from dspy==2.6.16->-r /Users/mwiewior/research/git/llmops-workshop/exercises/04-ape-and-fine-tuning/requirements.txt (line 3)) (2.2.4)\r\n",
      "Requirement already satisfied: comm>=0.1.3 in ./.venv/lib/python3.11/site-packages (from ipywidgets==8.1.5->-r /Users/mwiewior/research/git/llmops-workshop/exercises/04-ape-and-fine-tuning/requirements.txt (line 4)) (0.2.2)\r\n",
      "Requirement already satisfied: ipython>=6.1.0 in ./.venv/lib/python3.11/site-packages (from ipywidgets==8.1.5->-r /Users/mwiewior/research/git/llmops-workshop/exercises/04-ape-and-fine-tuning/requirements.txt (line 4)) (9.0.2)\r\n",
      "Requirement already satisfied: traitlets>=4.3.1 in ./.venv/lib/python3.11/site-packages (from ipywidgets==8.1.5->-r /Users/mwiewior/research/git/llmops-workshop/exercises/04-ape-and-fine-tuning/requirements.txt (line 4)) (5.14.3)\r\n",
      "Requirement already satisfied: widgetsnbextension~=4.0.12 in ./.venv/lib/python3.11/site-packages (from ipywidgets==8.1.5->-r /Users/mwiewior/research/git/llmops-workshop/exercises/04-ape-and-fine-tuning/requirements.txt (line 4)) (4.0.13)\r\n",
      "Requirement already satisfied: jupyterlab-widgets~=3.0.12 in ./.venv/lib/python3.11/site-packages (from ipywidgets==8.1.5->-r /Users/mwiewior/research/git/llmops-workshop/exercises/04-ape-and-fine-tuning/requirements.txt (line 4)) (3.0.13)\r\n",
      "Requirement already satisfied: aiohttp in ./.venv/lib/python3.11/site-packages (from litellm==1.62.4->-r /Users/mwiewior/research/git/llmops-workshop/exercises/04-ape-and-fine-tuning/requirements.txt (line 5)) (3.11.16)\r\n",
      "Requirement already satisfied: click in ./.venv/lib/python3.11/site-packages (from litellm==1.62.4->-r /Users/mwiewior/research/git/llmops-workshop/exercises/04-ape-and-fine-tuning/requirements.txt (line 5)) (8.1.8)\r\n",
      "Requirement already satisfied: importlib-metadata>=6.8.0 in ./.venv/lib/python3.11/site-packages (from litellm==1.62.4->-r /Users/mwiewior/research/git/llmops-workshop/exercises/04-ape-and-fine-tuning/requirements.txt (line 5)) (8.6.1)\r\n",
      "Requirement already satisfied: jinja2<4.0.0,>=3.1.2 in ./.venv/lib/python3.11/site-packages (from litellm==1.62.4->-r /Users/mwiewior/research/git/llmops-workshop/exercises/04-ape-and-fine-tuning/requirements.txt (line 5)) (3.1.6)\r\n",
      "Requirement already satisfied: jsonschema<5.0.0,>=4.22.0 in ./.venv/lib/python3.11/site-packages (from litellm==1.62.4->-r /Users/mwiewior/research/git/llmops-workshop/exercises/04-ape-and-fine-tuning/requirements.txt (line 5)) (4.23.0)\r\n",
      "Requirement already satisfied: python-dotenv>=0.2.0 in ./.venv/lib/python3.11/site-packages (from litellm==1.62.4->-r /Users/mwiewior/research/git/llmops-workshop/exercises/04-ape-and-fine-tuning/requirements.txt (line 5)) (1.1.0)\r\n",
      "Requirement already satisfied: tiktoken>=0.7.0 in ./.venv/lib/python3.11/site-packages (from litellm==1.62.4->-r /Users/mwiewior/research/git/llmops-workshop/exercises/04-ape-and-fine-tuning/requirements.txt (line 5)) (0.9.0)\r\n",
      "Requirement already satisfied: tokenizers in ./.venv/lib/python3.11/site-packages (from litellm==1.62.4->-r /Users/mwiewior/research/git/llmops-workshop/exercises/04-ape-and-fine-tuning/requirements.txt (line 5)) (0.21.1)\r\n",
      "Requirement already satisfied: deprecated>=1.2.6 in ./.venv/lib/python3.11/site-packages (from opentelemetry-exporter-otlp-proto-http==1.31.1->-r /Users/mwiewior/research/git/llmops-workshop/exercises/04-ape-and-fine-tuning/requirements.txt (line 8)) (1.2.18)\r\n",
      "Requirement already satisfied: googleapis-common-protos~=1.52 in ./.venv/lib/python3.11/site-packages (from opentelemetry-exporter-otlp-proto-http==1.31.1->-r /Users/mwiewior/research/git/llmops-workshop/exercises/04-ape-and-fine-tuning/requirements.txt (line 8)) (1.69.2)\r\n",
      "Requirement already satisfied: opentelemetry-api~=1.15 in ./.venv/lib/python3.11/site-packages (from opentelemetry-exporter-otlp-proto-http==1.31.1->-r /Users/mwiewior/research/git/llmops-workshop/exercises/04-ape-and-fine-tuning/requirements.txt (line 8)) (1.31.1)\r\n",
      "Requirement already satisfied: opentelemetry-exporter-otlp-proto-common==1.31.1 in ./.venv/lib/python3.11/site-packages (from opentelemetry-exporter-otlp-proto-http==1.31.1->-r /Users/mwiewior/research/git/llmops-workshop/exercises/04-ape-and-fine-tuning/requirements.txt (line 8)) (1.31.1)\r\n",
      "Requirement already satisfied: opentelemetry-proto==1.31.1 in ./.venv/lib/python3.11/site-packages (from opentelemetry-exporter-otlp-proto-http==1.31.1->-r /Users/mwiewior/research/git/llmops-workshop/exercises/04-ape-and-fine-tuning/requirements.txt (line 8)) (1.31.1)\r\n",
      "Requirement already satisfied: opentelemetry-sdk~=1.31.1 in ./.venv/lib/python3.11/site-packages (from opentelemetry-exporter-otlp-proto-http==1.31.1->-r /Users/mwiewior/research/git/llmops-workshop/exercises/04-ape-and-fine-tuning/requirements.txt (line 8)) (1.31.1)\r\n",
      "Requirement already satisfied: protobuf<6.0,>=5.0 in ./.venv/lib/python3.11/site-packages (from opentelemetry-proto==1.31.1->opentelemetry-exporter-otlp-proto-http==1.31.1->-r /Users/mwiewior/research/git/llmops-workshop/exercises/04-ape-and-fine-tuning/requirements.txt (line 8)) (5.29.4)\r\n",
      "Requirement already satisfied: Flask<4 in ./.venv/lib/python3.11/site-packages (from mlflow==2.21.3.dev0->-r /Users/mwiewior/research/git/llmops-workshop/exercises/04-ape-and-fine-tuning/requirements.txt (line 7)) (3.1.0)\r\n",
      "Requirement already satisfied: alembic!=1.10.0,<2 in ./.venv/lib/python3.11/site-packages (from mlflow==2.21.3.dev0->-r /Users/mwiewior/research/git/llmops-workshop/exercises/04-ape-and-fine-tuning/requirements.txt (line 7)) (1.15.2)\r\n",
      "Requirement already satisfied: databricks-sdk<1,>=0.20.0 in ./.venv/lib/python3.11/site-packages (from mlflow==2.21.3.dev0->-r /Users/mwiewior/research/git/llmops-workshop/exercises/04-ape-and-fine-tuning/requirements.txt (line 7)) (0.49.0)\r\n",
      "Requirement already satisfied: docker<8,>=4.0.0 in ./.venv/lib/python3.11/site-packages (from mlflow==2.21.3.dev0->-r /Users/mwiewior/research/git/llmops-workshop/exercises/04-ape-and-fine-tuning/requirements.txt (line 7)) (7.1.0)\r\n",
      "Requirement already satisfied: fastapi<1 in ./.venv/lib/python3.11/site-packages (from mlflow==2.21.3.dev0->-r /Users/mwiewior/research/git/llmops-workshop/exercises/04-ape-and-fine-tuning/requirements.txt (line 7)) (0.115.12)\r\n",
      "Requirement already satisfied: gitpython<4,>=3.1.9 in ./.venv/lib/python3.11/site-packages (from mlflow==2.21.3.dev0->-r /Users/mwiewior/research/git/llmops-workshop/exercises/04-ape-and-fine-tuning/requirements.txt (line 7)) (3.1.44)\r\n",
      "Requirement already satisfied: graphene<4 in ./.venv/lib/python3.11/site-packages (from mlflow==2.21.3.dev0->-r /Users/mwiewior/research/git/llmops-workshop/exercises/04-ape-and-fine-tuning/requirements.txt (line 7)) (3.4.3)\r\n",
      "Requirement already satisfied: gunicorn<24 in ./.venv/lib/python3.11/site-packages (from mlflow==2.21.3.dev0->-r /Users/mwiewior/research/git/llmops-workshop/exercises/04-ape-and-fine-tuning/requirements.txt (line 7)) (23.0.0)\r\n",
      "Requirement already satisfied: markdown<4,>=3.3 in ./.venv/lib/python3.11/site-packages (from mlflow==2.21.3.dev0->-r /Users/mwiewior/research/git/llmops-workshop/exercises/04-ape-and-fine-tuning/requirements.txt (line 7)) (3.7)\r\n",
      "Requirement already satisfied: matplotlib<4 in ./.venv/lib/python3.11/site-packages (from mlflow==2.21.3.dev0->-r /Users/mwiewior/research/git/llmops-workshop/exercises/04-ape-and-fine-tuning/requirements.txt (line 7)) (3.10.1)\r\n",
      "Requirement already satisfied: pyarrow<20,>=4.0.0 in ./.venv/lib/python3.11/site-packages (from mlflow==2.21.3.dev0->-r /Users/mwiewior/research/git/llmops-workshop/exercises/04-ape-and-fine-tuning/requirements.txt (line 7)) (19.0.1)\r\n",
      "Requirement already satisfied: pyyaml<7,>=5.1 in ./.venv/lib/python3.11/site-packages (from mlflow==2.21.3.dev0->-r /Users/mwiewior/research/git/llmops-workshop/exercises/04-ape-and-fine-tuning/requirements.txt (line 7)) (6.0.2)\r\n",
      "Requirement already satisfied: scikit-learn<2 in ./.venv/lib/python3.11/site-packages (from mlflow==2.21.3.dev0->-r /Users/mwiewior/research/git/llmops-workshop/exercises/04-ape-and-fine-tuning/requirements.txt (line 7)) (1.6.1)\r\n",
      "Requirement already satisfied: scipy<2 in ./.venv/lib/python3.11/site-packages (from mlflow==2.21.3.dev0->-r /Users/mwiewior/research/git/llmops-workshop/exercises/04-ape-and-fine-tuning/requirements.txt (line 7)) (1.15.2)\r\n",
      "Requirement already satisfied: sqlalchemy<3,>=1.4.0 in ./.venv/lib/python3.11/site-packages (from mlflow==2.21.3.dev0->-r /Users/mwiewior/research/git/llmops-workshop/exercises/04-ape-and-fine-tuning/requirements.txt (line 7)) (2.0.40)\r\n",
      "Requirement already satisfied: sqlparse<1,>=0.4.0 in ./.venv/lib/python3.11/site-packages (from mlflow==2.21.3.dev0->-r /Users/mwiewior/research/git/llmops-workshop/exercises/04-ape-and-fine-tuning/requirements.txt (line 7)) (0.5.3)\r\n",
      "Requirement already satisfied: typing-extensions<5,>=4.0.0 in ./.venv/lib/python3.11/site-packages (from mlflow==2.21.3.dev0->-r /Users/mwiewior/research/git/llmops-workshop/exercises/04-ape-and-fine-tuning/requirements.txt (line 7)) (4.13.0)\r\n",
      "Requirement already satisfied: uvicorn<1 in ./.venv/lib/python3.11/site-packages (from mlflow==2.21.3.dev0->-r /Users/mwiewior/research/git/llmops-workshop/exercises/04-ape-and-fine-tuning/requirements.txt (line 7)) (0.34.0)\r\n",
      "Requirement already satisfied: Mako in ./.venv/lib/python3.11/site-packages (from alembic!=1.10.0,<2->mlflow==2.21.3.dev0->-r /Users/mwiewior/research/git/llmops-workshop/exercises/04-ape-and-fine-tuning/requirements.txt (line 7)) (1.3.9)\r\n",
      "Requirement already satisfied: sniffio>=1.1 in ./.venv/lib/python3.11/site-packages (from anyio<5.0.0,>=4.4.0->langfuse==2.60.2->-r /Users/mwiewior/research/git/llmops-workshop/exercises/04-ape-and-fine-tuning/requirements.txt (line 1)) (1.3.1)\r\n",
      "Requirement already satisfied: google-auth~=2.0 in ./.venv/lib/python3.11/site-packages (from databricks-sdk<1,>=0.20.0->mlflow==2.21.3.dev0->-r /Users/mwiewior/research/git/llmops-workshop/exercises/04-ape-and-fine-tuning/requirements.txt (line 7)) (2.38.0)\r\n",
      "Requirement already satisfied: filelock in ./.venv/lib/python3.11/site-packages (from datasets>=2.14.6->dspy==2.6.16->-r /Users/mwiewior/research/git/llmops-workshop/exercises/04-ape-and-fine-tuning/requirements.txt (line 3)) (3.18.0)\r\n",
      "Requirement already satisfied: dill<0.3.9,>=0.3.0 in ./.venv/lib/python3.11/site-packages (from datasets>=2.14.6->dspy==2.6.16->-r /Users/mwiewior/research/git/llmops-workshop/exercises/04-ape-and-fine-tuning/requirements.txt (line 3)) (0.3.8)\r\n",
      "Requirement already satisfied: xxhash in ./.venv/lib/python3.11/site-packages (from datasets>=2.14.6->dspy==2.6.16->-r /Users/mwiewior/research/git/llmops-workshop/exercises/04-ape-and-fine-tuning/requirements.txt (line 3)) (3.5.0)\r\n",
      "Requirement already satisfied: multiprocess<0.70.17 in ./.venv/lib/python3.11/site-packages (from datasets>=2.14.6->dspy==2.6.16->-r /Users/mwiewior/research/git/llmops-workshop/exercises/04-ape-and-fine-tuning/requirements.txt (line 3)) (0.70.16)\r\n",
      "Requirement already satisfied: fsspec<=2024.12.0,>=2023.1.0 in ./.venv/lib/python3.11/site-packages (from fsspec[http]<=2024.12.0,>=2023.1.0->datasets>=2.14.6->dspy==2.6.16->-r /Users/mwiewior/research/git/llmops-workshop/exercises/04-ape-and-fine-tuning/requirements.txt (line 3)) (2024.12.0)\r\n",
      "Requirement already satisfied: huggingface-hub>=0.24.0 in ./.venv/lib/python3.11/site-packages (from datasets>=2.14.6->dspy==2.6.16->-r /Users/mwiewior/research/git/llmops-workshop/exercises/04-ape-and-fine-tuning/requirements.txt (line 3)) (0.30.1)\r\n",
      "Requirement already satisfied: urllib3>=1.26.0 in ./.venv/lib/python3.11/site-packages (from docker<8,>=4.0.0->mlflow==2.21.3.dev0->-r /Users/mwiewior/research/git/llmops-workshop/exercises/04-ape-and-fine-tuning/requirements.txt (line 7)) (2.3.0)\r\n",
      "Requirement already satisfied: starlette<0.47.0,>=0.40.0 in ./.venv/lib/python3.11/site-packages (from fastapi<1->mlflow==2.21.3.dev0->-r /Users/mwiewior/research/git/llmops-workshop/exercises/04-ape-and-fine-tuning/requirements.txt (line 7)) (0.46.1)\r\n",
      "Requirement already satisfied: Werkzeug>=3.1 in ./.venv/lib/python3.11/site-packages (from Flask<4->mlflow==2.21.3.dev0->-r /Users/mwiewior/research/git/llmops-workshop/exercises/04-ape-and-fine-tuning/requirements.txt (line 7)) (3.1.3)\r\n",
      "Requirement already satisfied: itsdangerous>=2.2 in ./.venv/lib/python3.11/site-packages (from Flask<4->mlflow==2.21.3.dev0->-r /Users/mwiewior/research/git/llmops-workshop/exercises/04-ape-and-fine-tuning/requirements.txt (line 7)) (2.2.0)\r\n",
      "Requirement already satisfied: blinker>=1.9 in ./.venv/lib/python3.11/site-packages (from Flask<4->mlflow==2.21.3.dev0->-r /Users/mwiewior/research/git/llmops-workshop/exercises/04-ape-and-fine-tuning/requirements.txt (line 7)) (1.9.0)\r\n",
      "Requirement already satisfied: gitdb<5,>=4.0.1 in ./.venv/lib/python3.11/site-packages (from gitpython<4,>=3.1.9->mlflow==2.21.3.dev0->-r /Users/mwiewior/research/git/llmops-workshop/exercises/04-ape-and-fine-tuning/requirements.txt (line 7)) (4.0.12)\r\n",
      "Requirement already satisfied: graphql-core<3.3,>=3.1 in ./.venv/lib/python3.11/site-packages (from graphene<4->mlflow==2.21.3.dev0->-r /Users/mwiewior/research/git/llmops-workshop/exercises/04-ape-and-fine-tuning/requirements.txt (line 7)) (3.2.6)\r\n",
      "Requirement already satisfied: graphql-relay<3.3,>=3.1 in ./.venv/lib/python3.11/site-packages (from graphene<4->mlflow==2.21.3.dev0->-r /Users/mwiewior/research/git/llmops-workshop/exercises/04-ape-and-fine-tuning/requirements.txt (line 7)) (3.2.0)\r\n",
      "Requirement already satisfied: python-dateutil<3,>=2.7.0 in ./.venv/lib/python3.11/site-packages (from graphene<4->mlflow==2.21.3.dev0->-r /Users/mwiewior/research/git/llmops-workshop/exercises/04-ape-and-fine-tuning/requirements.txt (line 7)) (2.9.0.post0)\r\n",
      "Requirement already satisfied: certifi in ./.venv/lib/python3.11/site-packages (from httpx<1.0,>=0.15.4->langfuse==2.60.2->-r /Users/mwiewior/research/git/llmops-workshop/exercises/04-ape-and-fine-tuning/requirements.txt (line 1)) (2025.1.31)\r\n",
      "Requirement already satisfied: httpcore==1.* in ./.venv/lib/python3.11/site-packages (from httpx<1.0,>=0.15.4->langfuse==2.60.2->-r /Users/mwiewior/research/git/llmops-workshop/exercises/04-ape-and-fine-tuning/requirements.txt (line 1)) (1.0.7)\r\n",
      "Requirement already satisfied: h11<0.15,>=0.13 in ./.venv/lib/python3.11/site-packages (from httpcore==1.*->httpx<1.0,>=0.15.4->langfuse==2.60.2->-r /Users/mwiewior/research/git/llmops-workshop/exercises/04-ape-and-fine-tuning/requirements.txt (line 1)) (0.14.0)\r\n",
      "Requirement already satisfied: zipp>=3.20 in ./.venv/lib/python3.11/site-packages (from importlib-metadata>=6.8.0->litellm==1.62.4->-r /Users/mwiewior/research/git/llmops-workshop/exercises/04-ape-and-fine-tuning/requirements.txt (line 5)) (3.21.0)\r\n",
      "Requirement already satisfied: decorator in ./.venv/lib/python3.11/site-packages (from ipython>=6.1.0->ipywidgets==8.1.5->-r /Users/mwiewior/research/git/llmops-workshop/exercises/04-ape-and-fine-tuning/requirements.txt (line 4)) (5.2.1)\r\n",
      "Requirement already satisfied: ipython-pygments-lexers in ./.venv/lib/python3.11/site-packages (from ipython>=6.1.0->ipywidgets==8.1.5->-r /Users/mwiewior/research/git/llmops-workshop/exercises/04-ape-and-fine-tuning/requirements.txt (line 4)) (1.1.1)\r\n",
      "Requirement already satisfied: jedi>=0.16 in ./.venv/lib/python3.11/site-packages (from ipython>=6.1.0->ipywidgets==8.1.5->-r /Users/mwiewior/research/git/llmops-workshop/exercises/04-ape-and-fine-tuning/requirements.txt (line 4)) (0.19.2)\r\n",
      "Requirement already satisfied: matplotlib-inline in ./.venv/lib/python3.11/site-packages (from ipython>=6.1.0->ipywidgets==8.1.5->-r /Users/mwiewior/research/git/llmops-workshop/exercises/04-ape-and-fine-tuning/requirements.txt (line 4)) (0.1.7)\r\n",
      "Requirement already satisfied: pexpect>4.3 in ./.venv/lib/python3.11/site-packages (from ipython>=6.1.0->ipywidgets==8.1.5->-r /Users/mwiewior/research/git/llmops-workshop/exercises/04-ape-and-fine-tuning/requirements.txt (line 4)) (4.9.0)\r\n",
      "Requirement already satisfied: prompt_toolkit<3.1.0,>=3.0.41 in ./.venv/lib/python3.11/site-packages (from ipython>=6.1.0->ipywidgets==8.1.5->-r /Users/mwiewior/research/git/llmops-workshop/exercises/04-ape-and-fine-tuning/requirements.txt (line 4)) (3.0.50)\r\n",
      "Requirement already satisfied: pygments>=2.4.0 in ./.venv/lib/python3.11/site-packages (from ipython>=6.1.0->ipywidgets==8.1.5->-r /Users/mwiewior/research/git/llmops-workshop/exercises/04-ape-and-fine-tuning/requirements.txt (line 4)) (2.19.1)\r\n",
      "Requirement already satisfied: stack_data in ./.venv/lib/python3.11/site-packages (from ipython>=6.1.0->ipywidgets==8.1.5->-r /Users/mwiewior/research/git/llmops-workshop/exercises/04-ape-and-fine-tuning/requirements.txt (line 4)) (0.6.3)\r\n",
      "Requirement already satisfied: MarkupSafe>=2.0 in ./.venv/lib/python3.11/site-packages (from jinja2<4.0.0,>=3.1.2->litellm==1.62.4->-r /Users/mwiewior/research/git/llmops-workshop/exercises/04-ape-and-fine-tuning/requirements.txt (line 5)) (3.0.2)\r\n",
      "Requirement already satisfied: attrs>=22.2.0 in ./.venv/lib/python3.11/site-packages (from jsonschema<5.0.0,>=4.22.0->litellm==1.62.4->-r /Users/mwiewior/research/git/llmops-workshop/exercises/04-ape-and-fine-tuning/requirements.txt (line 5)) (25.3.0)\r\n",
      "Requirement already satisfied: jsonschema-specifications>=2023.03.6 in ./.venv/lib/python3.11/site-packages (from jsonschema<5.0.0,>=4.22.0->litellm==1.62.4->-r /Users/mwiewior/research/git/llmops-workshop/exercises/04-ape-and-fine-tuning/requirements.txt (line 5)) (2024.10.1)\r\n",
      "Requirement already satisfied: referencing>=0.28.4 in ./.venv/lib/python3.11/site-packages (from jsonschema<5.0.0,>=4.22.0->litellm==1.62.4->-r /Users/mwiewior/research/git/llmops-workshop/exercises/04-ape-and-fine-tuning/requirements.txt (line 5)) (0.36.2)\r\n",
      "Requirement already satisfied: rpds-py>=0.7.1 in ./.venv/lib/python3.11/site-packages (from jsonschema<5.0.0,>=4.22.0->litellm==1.62.4->-r /Users/mwiewior/research/git/llmops-workshop/exercises/04-ape-and-fine-tuning/requirements.txt (line 5)) (0.24.0)\r\n",
      "Requirement already satisfied: contourpy>=1.0.1 in ./.venv/lib/python3.11/site-packages (from matplotlib<4->mlflow==2.21.3.dev0->-r /Users/mwiewior/research/git/llmops-workshop/exercises/04-ape-and-fine-tuning/requirements.txt (line 7)) (1.3.1)\r\n",
      "Requirement already satisfied: cycler>=0.10 in ./.venv/lib/python3.11/site-packages (from matplotlib<4->mlflow==2.21.3.dev0->-r /Users/mwiewior/research/git/llmops-workshop/exercises/04-ape-and-fine-tuning/requirements.txt (line 7)) (0.12.1)\r\n",
      "Requirement already satisfied: fonttools>=4.22.0 in ./.venv/lib/python3.11/site-packages (from matplotlib<4->mlflow==2.21.3.dev0->-r /Users/mwiewior/research/git/llmops-workshop/exercises/04-ape-and-fine-tuning/requirements.txt (line 7)) (4.57.0)\r\n",
      "Requirement already satisfied: kiwisolver>=1.3.1 in ./.venv/lib/python3.11/site-packages (from matplotlib<4->mlflow==2.21.3.dev0->-r /Users/mwiewior/research/git/llmops-workshop/exercises/04-ape-and-fine-tuning/requirements.txt (line 7)) (1.4.8)\r\n",
      "Requirement already satisfied: pillow>=8 in ./.venv/lib/python3.11/site-packages (from matplotlib<4->mlflow==2.21.3.dev0->-r /Users/mwiewior/research/git/llmops-workshop/exercises/04-ape-and-fine-tuning/requirements.txt (line 7)) (11.1.0)\r\n",
      "Requirement already satisfied: pyparsing>=2.3.1 in ./.venv/lib/python3.11/site-packages (from matplotlib<4->mlflow==2.21.3.dev0->-r /Users/mwiewior/research/git/llmops-workshop/exercises/04-ape-and-fine-tuning/requirements.txt (line 7)) (3.2.3)\r\n",
      "Requirement already satisfied: distro<2,>=1.7.0 in ./.venv/lib/python3.11/site-packages (from openai<=1.61.0,>=0.28.1->dspy==2.6.16->-r /Users/mwiewior/research/git/llmops-workshop/exercises/04-ape-and-fine-tuning/requirements.txt (line 3)) (1.9.0)\r\n",
      "Requirement already satisfied: jiter<1,>=0.4.0 in ./.venv/lib/python3.11/site-packages (from openai<=1.61.0,>=0.28.1->dspy==2.6.16->-r /Users/mwiewior/research/git/llmops-workshop/exercises/04-ape-and-fine-tuning/requirements.txt (line 3)) (0.9.0)\r\n",
      "Requirement already satisfied: opentelemetry-semantic-conventions==0.52b1 in ./.venv/lib/python3.11/site-packages (from opentelemetry-sdk~=1.31.1->opentelemetry-exporter-otlp-proto-http==1.31.1->-r /Users/mwiewior/research/git/llmops-workshop/exercises/04-ape-and-fine-tuning/requirements.txt (line 8)) (0.52b1)\r\n",
      "Requirement already satisfied: colorlog in ./.venv/lib/python3.11/site-packages (from optuna>=3.4.0->dspy==2.6.16->-r /Users/mwiewior/research/git/llmops-workshop/exercises/04-ape-and-fine-tuning/requirements.txt (line 3)) (6.9.0)\r\n",
      "Requirement already satisfied: pytz>=2020.1 in ./.venv/lib/python3.11/site-packages (from pandas>=2.1.1->dspy==2.6.16->-r /Users/mwiewior/research/git/llmops-workshop/exercises/04-ape-and-fine-tuning/requirements.txt (line 3)) (2025.2)\r\n",
      "Requirement already satisfied: tzdata>=2022.7 in ./.venv/lib/python3.11/site-packages (from pandas>=2.1.1->dspy==2.6.16->-r /Users/mwiewior/research/git/llmops-workshop/exercises/04-ape-and-fine-tuning/requirements.txt (line 3)) (2025.2)\r\n",
      "Requirement already satisfied: annotated-types>=0.6.0 in ./.venv/lib/python3.11/site-packages (from pydantic<3.0,>=1.10.7->langfuse==2.60.2->-r /Users/mwiewior/research/git/llmops-workshop/exercises/04-ape-and-fine-tuning/requirements.txt (line 1)) (0.7.0)\r\n",
      "Requirement already satisfied: pydantic-core==2.33.0 in ./.venv/lib/python3.11/site-packages (from pydantic<3.0,>=1.10.7->langfuse==2.60.2->-r /Users/mwiewior/research/git/llmops-workshop/exercises/04-ape-and-fine-tuning/requirements.txt (line 1)) (2.33.0)\r\n",
      "Requirement already satisfied: typing-inspection>=0.4.0 in ./.venv/lib/python3.11/site-packages (from pydantic<3.0,>=1.10.7->langfuse==2.60.2->-r /Users/mwiewior/research/git/llmops-workshop/exercises/04-ape-and-fine-tuning/requirements.txt (line 1)) (0.4.0)\r\n",
      "Requirement already satisfied: charset-normalizer<4,>=2 in ./.venv/lib/python3.11/site-packages (from requests<3,>=2->langfuse==2.60.2->-r /Users/mwiewior/research/git/llmops-workshop/exercises/04-ape-and-fine-tuning/requirements.txt (line 1)) (3.4.1)\r\n",
      "Requirement already satisfied: markdown-it-py>=2.2.0 in ./.venv/lib/python3.11/site-packages (from rich>=13.7.1->dspy==2.6.16->-r /Users/mwiewior/research/git/llmops-workshop/exercises/04-ape-and-fine-tuning/requirements.txt (line 3)) (3.0.0)\r\n",
      "Requirement already satisfied: threadpoolctl>=3.1.0 in ./.venv/lib/python3.11/site-packages (from scikit-learn<2->mlflow==2.21.3.dev0->-r /Users/mwiewior/research/git/llmops-workshop/exercises/04-ape-and-fine-tuning/requirements.txt (line 7)) (3.6.0)\r\n",
      "Requirement already satisfied: aiohappyeyeballs>=2.3.0 in ./.venv/lib/python3.11/site-packages (from aiohttp->litellm==1.62.4->-r /Users/mwiewior/research/git/llmops-workshop/exercises/04-ape-and-fine-tuning/requirements.txt (line 5)) (2.6.1)\r\n",
      "Requirement already satisfied: aiosignal>=1.1.2 in ./.venv/lib/python3.11/site-packages (from aiohttp->litellm==1.62.4->-r /Users/mwiewior/research/git/llmops-workshop/exercises/04-ape-and-fine-tuning/requirements.txt (line 5)) (1.3.2)\r\n",
      "Requirement already satisfied: frozenlist>=1.1.1 in ./.venv/lib/python3.11/site-packages (from aiohttp->litellm==1.62.4->-r /Users/mwiewior/research/git/llmops-workshop/exercises/04-ape-and-fine-tuning/requirements.txt (line 5)) (1.5.0)\r\n",
      "Requirement already satisfied: multidict<7.0,>=4.5 in ./.venv/lib/python3.11/site-packages (from aiohttp->litellm==1.62.4->-r /Users/mwiewior/research/git/llmops-workshop/exercises/04-ape-and-fine-tuning/requirements.txt (line 5)) (6.2.0)\r\n",
      "Requirement already satisfied: propcache>=0.2.0 in ./.venv/lib/python3.11/site-packages (from aiohttp->litellm==1.62.4->-r /Users/mwiewior/research/git/llmops-workshop/exercises/04-ape-and-fine-tuning/requirements.txt (line 5)) (0.3.1)\r\n",
      "Requirement already satisfied: yarl<2.0,>=1.17.0 in ./.venv/lib/python3.11/site-packages (from aiohttp->litellm==1.62.4->-r /Users/mwiewior/research/git/llmops-workshop/exercises/04-ape-and-fine-tuning/requirements.txt (line 5)) (1.18.3)\r\n",
      "Requirement already satisfied: smmap<6,>=3.0.1 in ./.venv/lib/python3.11/site-packages (from gitdb<5,>=4.0.1->gitpython<4,>=3.1.9->mlflow==2.21.3.dev0->-r /Users/mwiewior/research/git/llmops-workshop/exercises/04-ape-and-fine-tuning/requirements.txt (line 7)) (5.0.2)\r\n",
      "Requirement already satisfied: pyasn1-modules>=0.2.1 in ./.venv/lib/python3.11/site-packages (from google-auth~=2.0->databricks-sdk<1,>=0.20.0->mlflow==2.21.3.dev0->-r /Users/mwiewior/research/git/llmops-workshop/exercises/04-ape-and-fine-tuning/requirements.txt (line 7)) (0.4.2)\r\n",
      "Requirement already satisfied: rsa<5,>=3.1.4 in ./.venv/lib/python3.11/site-packages (from google-auth~=2.0->databricks-sdk<1,>=0.20.0->mlflow==2.21.3.dev0->-r /Users/mwiewior/research/git/llmops-workshop/exercises/04-ape-and-fine-tuning/requirements.txt (line 7)) (4.9)\r\n",
      "Requirement already satisfied: parso<0.9.0,>=0.8.4 in ./.venv/lib/python3.11/site-packages (from jedi>=0.16->ipython>=6.1.0->ipywidgets==8.1.5->-r /Users/mwiewior/research/git/llmops-workshop/exercises/04-ape-and-fine-tuning/requirements.txt (line 4)) (0.8.4)\r\n",
      "Requirement already satisfied: mdurl~=0.1 in ./.venv/lib/python3.11/site-packages (from markdown-it-py>=2.2.0->rich>=13.7.1->dspy==2.6.16->-r /Users/mwiewior/research/git/llmops-workshop/exercises/04-ape-and-fine-tuning/requirements.txt (line 3)) (0.1.2)\r\n",
      "Requirement already satisfied: ptyprocess>=0.5 in ./.venv/lib/python3.11/site-packages (from pexpect>4.3->ipython>=6.1.0->ipywidgets==8.1.5->-r /Users/mwiewior/research/git/llmops-workshop/exercises/04-ape-and-fine-tuning/requirements.txt (line 4)) (0.7.0)\r\n",
      "Requirement already satisfied: wcwidth in ./.venv/lib/python3.11/site-packages (from prompt_toolkit<3.1.0,>=3.0.41->ipython>=6.1.0->ipywidgets==8.1.5->-r /Users/mwiewior/research/git/llmops-workshop/exercises/04-ape-and-fine-tuning/requirements.txt (line 4)) (0.2.13)\r\n",
      "Requirement already satisfied: six>=1.5 in ./.venv/lib/python3.11/site-packages (from python-dateutil<3,>=2.7.0->graphene<4->mlflow==2.21.3.dev0->-r /Users/mwiewior/research/git/llmops-workshop/exercises/04-ape-and-fine-tuning/requirements.txt (line 7)) (1.17.0)\r\n",
      "Requirement already satisfied: executing>=1.2.0 in ./.venv/lib/python3.11/site-packages (from stack_data->ipython>=6.1.0->ipywidgets==8.1.5->-r /Users/mwiewior/research/git/llmops-workshop/exercises/04-ape-and-fine-tuning/requirements.txt (line 4)) (2.2.0)\r\n",
      "Requirement already satisfied: asttokens>=2.1.0 in ./.venv/lib/python3.11/site-packages (from stack_data->ipython>=6.1.0->ipywidgets==8.1.5->-r /Users/mwiewior/research/git/llmops-workshop/exercises/04-ape-and-fine-tuning/requirements.txt (line 4)) (3.0.0)\r\n",
      "Requirement already satisfied: pure-eval in ./.venv/lib/python3.11/site-packages (from stack_data->ipython>=6.1.0->ipywidgets==8.1.5->-r /Users/mwiewior/research/git/llmops-workshop/exercises/04-ape-and-fine-tuning/requirements.txt (line 4)) (0.2.3)\r\n",
      "Requirement already satisfied: pyasn1<0.7.0,>=0.6.1 in ./.venv/lib/python3.11/site-packages (from pyasn1-modules>=0.2.1->google-auth~=2.0->databricks-sdk<1,>=0.20.0->mlflow==2.21.3.dev0->-r /Users/mwiewior/research/git/llmops-workshop/exercises/04-ape-and-fine-tuning/requirements.txt (line 7)) (0.6.1)\r\n",
      "\r\n",
      "\u001b[1m[\u001b[0m\u001b[34;49mnotice\u001b[0m\u001b[1;39;49m]\u001b[0m\u001b[39;49m A new release of pip is available: \u001b[0m\u001b[31;49m24.0\u001b[0m\u001b[39;49m -> \u001b[0m\u001b[32;49m25.0.1\u001b[0m\r\n",
      "\u001b[1m[\u001b[0m\u001b[34;49mnotice\u001b[0m\u001b[1;39;49m]\u001b[0m\u001b[39;49m To update, run: \u001b[0m\u001b[32;49m/Users/mwiewior/research/git/llmops-workshop/.venv/bin/python3 -m pip install --upgrade pip\u001b[0m\r\n",
      "Note: you may need to restart the kernel to use updated packages.\n"
     ]
    }
   ],
   "execution_count": 6
  },
  {
   "cell_type": "markdown",
   "id": "9",
   "metadata": {},
   "source": [
    "### Langfuse connection"
   ]
  },
  {
   "metadata": {
    "ExecuteTime": {
     "end_time": "2025-04-03T15:04:21.751477Z",
     "start_time": "2025-04-03T15:04:21.748928Z"
    }
   },
   "cell_type": "code",
   "source": [
    "import base64\n",
    "import os\n",
    "\n",
    "os.environ[\"LANGFUSE_PUBLIC_KEY\"] = \"pk-lf-005b77e6-7931-475e-85bd-46ec47e5201d\"\n",
    "os.environ[\"LANGFUSE_SECRET_KEY\"] = \"sk-lf-8b31ee9a-2c89-4c47-a37a-ec084d735170\"\n",
    "os.environ[\"LANGFUSE_HOST\"] = \"http://localhost:3000\"\n",
    "os.environ[\"LANGFUSE_AUTH\"] = base64.b64encode(\n",
    "    f\"{os.environ['LANGFUSE_PUBLIC_KEY']}:{os.environ['LANGFUSE_SECRET_KEY']}\".encode()\n",
    ").decode()\n",
    "os.environ[\"OTEL_EXPORTER_OTLP_TRACES_ENDPOINT\"] = (\n",
    "    f\"{os.environ['LANGFUSE_HOST']}/api/public/otel/v1/traces\"\n",
    ")\n",
    "os.environ[\"OTEL_EXPORTER_OTLP_TRACES_HEADERS\"] = (\n",
    "    f\"Authorization=Basic {os.environ['LANGFUSE_AUTH']}\"\n",
    ")\n",
    "os.environ[\"OTEL_EXPORTER_OTLP_TRACES_PROTOCOL\"] = \"http/protobuf\""
   ],
   "id": "5cd3d8737ee1e4fa",
   "outputs": [],
   "execution_count": 7
  },
  {
   "cell_type": "code",
   "id": "11",
   "metadata": {
    "ExecuteTime": {
     "end_time": "2025-04-03T15:04:22.091752Z",
     "start_time": "2025-04-03T15:04:21.755586Z"
    }
   },
   "source": [
    "from langfuse import Langfuse\n",
    "\n",
    "langfuse = Langfuse()"
   ],
   "outputs": [],
   "execution_count": 8
  },
  {
   "metadata": {},
   "cell_type": "markdown",
   "source": "## Data preparation",
   "id": "78525e28251666e5"
  },
  {
   "metadata": {},
   "cell_type": "code",
   "source": [
    "import polars as pl\n",
    "\n",
    "df = pl.read_csv(f\"{os.environ['EXERCISE_DIR']}/data/input/sms_phishing.csv\")\n",
    "datasets = []\n",
    "for r in df.iter_rows(named=True):\n",
    "    datasets.append({\"input\": r[\"TEXT\"], \"expected_output\": r[\"LABEL\"].lower()})"
   ],
   "id": "45e53f1a313df65d",
   "outputs": [],
   "execution_count": null
  },
  {
   "metadata": {},
   "cell_type": "code",
   "source": [
    "TRAIN_PCT = 0.9666\n",
    "VAL_PCT = 0.0167\n",
    "TEST_PCT = 0.0167\n",
    "train_ds = datasets[: int(len(datasets) * TRAIN_PCT)]\n",
    "val_ds = datasets[\n",
    "    int(len(datasets) * TRAIN_PCT) : int(len(datasets) * (TRAIN_PCT + VAL_PCT))\n",
    "]\n",
    "test_ds = datasets[int(len(datasets) * (TRAIN_PCT + VAL_PCT)) :]\n",
    "len(train_ds), len(val_ds), len(test_ds)"
   ],
   "id": "fa7a58734a8c53d1",
   "outputs": [],
   "execution_count": null
  },
  {
   "metadata": {},
   "cell_type": "markdown",
   "source": "### Create Langfuse datasets\n",
   "id": "ffd0d64045f2cfa0"
  },
  {
   "metadata": {},
   "cell_type": "code",
   "source": [
    "def create_dataset(name: str, ds: list):\n",
    "    langfuse.create_dataset(name=name)\n",
    "    for item in ds:\n",
    "        langfuse.create_dataset_item(\n",
    "            dataset_name=name,\n",
    "            input=item[\"input\"],\n",
    "            expected_output=item[\"expected_output\"],\n",
    "        )"
   ],
   "id": "fc17398eff3f193",
   "outputs": [],
   "execution_count": null
  },
  {
   "metadata": {},
   "cell_type": "code",
   "source": [
    "create_dataset(\"sms_phishing_train\", train_ds)\n",
    "create_dataset(\"sms_phishing_val\", val_ds)\n",
    "create_dataset(\"sms_phishing_test\", test_ds)"
   ],
   "id": "2d8d819e82c46432",
   "outputs": [],
   "execution_count": null
  },
  {
   "metadata": {},
   "cell_type": "markdown",
   "source": "## Register the prompt",
   "id": "38a5aab88d8a47bc"
  },
  {
   "metadata": {
    "ExecuteTime": {
     "end_time": "2025-04-03T15:04:22.132881Z",
     "start_time": "2025-04-03T15:04:22.095637Z"
    }
   },
   "cell_type": "code",
   "source": [
    "langfuse.create_prompt(\n",
    "    name=\"sms-classifier\",\n",
    "    type=\"text\",\n",
    "    prompt=\" Given an SMS text, classify whether it is 'ham', 'spam', or 'smishing'. Output only the predicted label.\",\n",
    "    labels=[\"sandbox\"],\n",
    "    tags=[\"sms\", \"dspy\", \"classifier\"],\n",
    ")"
   ],
   "id": "8f206fbbcf297541",
   "outputs": [
    {
     "data": {
      "text/plain": [
       "<langfuse.model.TextPromptClient at 0x11070c2d0>"
      ]
     },
     "execution_count": 9,
     "metadata": {},
     "output_type": "execute_result"
    }
   ],
   "execution_count": 9
  },
  {
   "metadata": {},
   "cell_type": "markdown",
   "source": "## Create a SMSClassifier module with DSPy",
   "id": "6fc45200fcc7c7ea"
  },
  {
   "metadata": {},
   "cell_type": "markdown",
   "source": [
    "### Configure which LLM to use (Ollama Gemma3)\n",
    "DSpy uses [LiteLLM](https://www.litellm.ai/) to abstract the LLM provider."
   ],
   "id": "26b669fdf395ae95"
  },
  {
   "metadata": {
    "ExecuteTime": {
     "end_time": "2025-04-03T15:04:23.110741Z",
     "start_time": "2025-04-03T15:04:22.136673Z"
    }
   },
   "cell_type": "code",
   "source": [
    "import dspy\n",
    "\n",
    "MODEL = \"gemma3:1b\"\n",
    "\n",
    "lm = dspy.LM(f\"ollama/{MODEL}\", cache=False, num_retries=5)\n",
    "dspy.settings.configure(lm=lm, track_usage=False)"
   ],
   "id": "d26972a0d99036aa",
   "outputs": [],
   "execution_count": 10
  },
  {
   "metadata": {},
   "cell_type": "markdown",
   "source": "### Configuring DSPy traces with OpenTelemetry using MLflow client",
   "id": "6a77100f1f812262"
  },
  {
   "metadata": {
    "ExecuteTime": {
     "end_time": "2025-04-03T15:04:24.230896Z",
     "start_time": "2025-04-03T15:04:23.114429Z"
    }
   },
   "cell_type": "code",
   "source": [
    "import mlflow\n",
    "\n",
    "mlflow.dspy.autolog()"
   ],
   "id": "fe84cb23d7d3a625",
   "outputs": [],
   "execution_count": 11
  },
  {
   "metadata": {
    "ExecuteTime": {
     "end_time": "2025-04-03T15:04:24.236051Z",
     "start_time": "2025-04-03T15:04:24.234675Z"
    }
   },
   "cell_type": "code",
   "source": [
    "import logging\n",
    "\n",
    "logger = logging.getLogger(\"mlflow\")\n",
    "logger.setLevel(logging.INFO)"
   ],
   "id": "ec97b3cc32915b85",
   "outputs": [],
   "execution_count": 12
  },
  {
   "metadata": {},
   "cell_type": "code",
   "source": [
    "lm(\"Hello world!\")"
   ],
   "id": "4525740cf90ce706",
   "outputs": [],
   "execution_count": null
  },
  {
   "metadata": {},
   "cell_type": "markdown",
   "source": [
    "### Create a DSPy\n",
    "1. We first create a Signature that defines the schema of the input and output of the module and well as the default instructions.\n",
    "2. Then we create a Module that combines the Signature with the prompting strategy, such Chain of Thought, ReAct, .\n"
   ],
   "id": "679d5b5351a360e3"
  },
  {
   "metadata": {
    "ExecuteTime": {
     "end_time": "2025-04-03T15:04:24.242031Z",
     "start_time": "2025-04-03T15:04:24.239507Z"
    }
   },
   "cell_type": "code",
   "source": [
    "from typing import Literal\n",
    "\n",
    "import dspy\n",
    "\n",
    "\n",
    "class SMSClassifierSignature(dspy.Signature):\n",
    "    \"\"\"\n",
    "    Given an SMS text, predict whether it is ham, spam, or smishing.\n",
    "    Output only the predicted label.\n",
    "    \"\"\"\n",
    "\n",
    "    sms_text: str = dspy.InputField()\n",
    "    category: Literal[\"ham\", \"spam\", \"smishing\"] = dspy.OutputField()\n",
    "\n",
    "\n",
    "class SMSClassifier(dspy.Module):\n",
    "    def __init__(self):\n",
    "        super().__init__()\n",
    "        self.generate_answer = dspy.Predict(SMSClassifierSignature)\n",
    "\n",
    "    @mlflow.trace\n",
    "    def forward(self, sms_text):\n",
    "        return self.generate_answer(sms_text=sms_text)"
   ],
   "id": "eee6565f12556d70",
   "outputs": [],
   "execution_count": 13
  },
  {
   "metadata": {
    "ExecuteTime": {
     "end_time": "2025-04-03T15:04:29.730833Z",
     "start_time": "2025-04-03T15:04:29.728736Z"
    }
   },
   "cell_type": "code",
   "source": [
    "sms_classifier = SMSClassifier()"
   ],
   "id": "a55cd053e02ea30a",
   "outputs": [],
   "execution_count": 15
  },
  {
   "metadata": {},
   "cell_type": "code",
   "source": [
    "sms_classifier(sms_text=\"Sorry i missed your call. Can you please call back.\")"
   ],
   "id": "6498821bd95ad663",
   "outputs": [],
   "execution_count": null
  },
  {
   "metadata": {},
   "cell_type": "code",
   "source": [
    "sms_classifier(\n",
    "    sms_text=\"We have received a request from you for purchasing Paytm Payments Bank FASTag. Total amount to be paid is Rs 250/- (Tag Cost Rs. 100 Security Deposit Rs. 0, Threshold -Rs. 150). In case of any queries, please contact us at https://m.paytm.me/fastag-help\"\n",
    ")"
   ],
   "id": "e22fdbdc1e24be41",
   "outputs": [],
   "execution_count": null
  },
  {
   "metadata": {},
   "cell_type": "code",
   "source": [
    "# wrong should be categorized as spam\n",
    "sms_classifier(\n",
    "    sms_text=\"Rental  Helpline  9999991155 1000-100, 000 sq.ft. In Noida & Gr.Noida  OFFICE & INDUSTRIAL Use Goldenberg estates pvt.ltd. sandeep@goldenberg.in 999 999 115\"\n",
    ")"
   ],
   "id": "ebab19cc90678a3a",
   "outputs": [],
   "execution_count": null
  },
  {
   "metadata": {},
   "cell_type": "code",
   "source": [
    "lm.inspect_history(n=1)"
   ],
   "id": "fdf3f9c4acb32ddf",
   "outputs": [],
   "execution_count": null
  },
  {
   "metadata": {},
   "cell_type": "markdown",
   "source": "## Run evaluation on the test dataset",
   "id": "13aef0cdea334211"
  },
  {
   "metadata": {},
   "cell_type": "markdown",
   "source": "### Pull the models",
   "id": "363ecdeb454bace"
  },
  {
   "metadata": {},
   "cell_type": "code",
   "outputs": [],
   "execution_count": null,
   "source": [
    "%%bash\n",
    "models=(\"gemma3:1b\" \"qwen2.5:1.5b\" \"qwen2.5:14b\" \"gemma3:12b\")\n",
    "for model in \"${models[@]}\"; do\n",
    "echo \"Pulling model: $model\"\n",
    "ollama pull \"$model\"\n",
    "done\n"
   ],
   "id": "48cb61b91291731d"
  },
  {
   "metadata": {},
   "cell_type": "markdown",
   "source": "### Prepare the test dataset",
   "id": "63db49b88af814de"
  },
  {
   "metadata": {
    "ExecuteTime": {
     "end_time": "2025-04-03T15:10:00.265017Z",
     "start_time": "2025-04-03T15:10:00.222255Z"
    }
   },
   "cell_type": "code",
   "source": [
    "dataset = langfuse.get_dataset(\"sms_phishing_test\")\n",
    "from dspy import Example\n",
    "\n",
    "test_ds = []\n",
    "for item in dataset.items:\n",
    "    test_ds.append(\n",
    "        Example(sms_text=item.input, category=item.expected_output).with_inputs(\n",
    "            \"sms_text\"\n",
    "        )\n",
    "    )"
   ],
   "id": "227fff96ea53868a",
   "outputs": [],
   "execution_count": 17
  },
  {
   "metadata": {
    "ExecuteTime": {
     "end_time": "2025-04-03T15:13:34.646966Z",
     "start_time": "2025-04-03T15:10:04.528125Z"
    }
   },
   "cell_type": "code",
   "source": [
    "import uuid\n",
    "from evaluation_helpers import plot_metrics, run_evaluation\n",
    "\n",
    "run_id = uuid.uuid1()\n",
    "\n",
    "models = [\"gemma3:1b\", \"qwen2.5:1.5b\", \"qwen2.5:14b\", \"gemma3:12b\"]\n",
    "\n",
    "\n",
    "# full run (if you would like to run all models - remember to pull them first)\n",
    "# models = [\n",
    "#         \"smollm2:360m\", \"smollm2:1.7b\",\n",
    "#         \"qwen2.5:0.5b\", \"qwen2.5:1.5b\",\n",
    "#         \"gemma3:1b\", \"gemma3:4b\", \"granite3.2:2b\",\n",
    "#         \"gemma3:12b\", \"qwen2.5:14b\", \"phi4:14b\"\n",
    "# ]\n",
    "\n",
    "classes = [\"ham\", \"spam\", \"smishing\"]\n",
    "\n",
    "run_evaluation(models, sms_classifier, test_ds, classes, run_id, prefix=\"baseline\")"
   ],
   "id": "c3a25f27790d6f93",
   "outputs": [
    {
     "name": "stdout",
     "output_type": "stream",
     "text": [
      "Average Metric: 67.00 / 100 (67.0%): 100%|██████████| 100/100 [00:18<00:00,  5.29it/s]\n",
      "Average Metric: 36.00 / 100 (36.0%): 100%|██████████| 100/100 [00:35<00:00,  2.79it/s]\n",
      "Average Metric: 87.00 / 100 (87.0%): 100%|██████████| 100/100 [01:17<00:00,  1.28it/s]\n",
      "Average Metric: 78.00 / 100 (78.0%): 100%|██████████| 100/100 [01:17<00:00,  1.29it/s]\n"
     ]
    }
   ],
   "execution_count": 18
  },
  {
   "metadata": {
    "ExecuteTime": {
     "end_time": "2025-04-03T15:13:56.156318Z",
     "start_time": "2025-04-03T15:13:49.131348Z"
    }
   },
   "cell_type": "code",
   "source": [
    "from evaluation_helpers import get_all_metric\n",
    "\n",
    "metrics_baseline = get_all_metric(models, run_id, classes, prefix=\"baseline\")"
   ],
   "id": "14b8b8fb44df9093",
   "outputs": [],
   "execution_count": 19
  },
  {
   "metadata": {
    "ExecuteTime": {
     "end_time": "2025-04-03T15:14:35.299253Z",
     "start_time": "2025-04-03T15:14:35.242204Z"
    }
   },
   "cell_type": "code",
   "source": [
    "plot_metrics(\n",
    "    metrics_baseline,\n",
    "    [\"Precision (macro)\", \"Recall(macro)\", \"F1(macro)\"],\n",
    "    \"Scores by model before prompt optimization and fine-tuning\",\n",
    ")"
   ],
   "id": "6eddca6432210648",
   "outputs": [
    {
     "data": {
      "text/plain": [
       "<Figure size 1200x500 with 1 Axes>"
      ],
      "image/png": "[encoded data removed]"
     },
     "metadata": {},
     "output_type": "display_data"
    }
   ],
   "execution_count": 21
  }
 ],
 "metadata": {
  "kernelspec": {
   "display_name": "Python 3",
   "language": "python",
   "name": "python3"
  },
  "language_info": {
   "codemirror_mode": {
    "name": "ipython",
    "version": 2
   },
   "file_extension": ".py",
   "mimetype": "text/x-python",
   "name": "python",
   "nbconvert_exporter": "python",
   "pygments_lexer": "ipython2",
   "version": "2.7.6"
  }
 },
 "nbformat": 4,
 "nbformat_minor": 5
}
