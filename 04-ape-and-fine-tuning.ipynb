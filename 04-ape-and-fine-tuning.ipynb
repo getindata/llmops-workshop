{
 "cells": [
  {
   "cell_type": "markdown",
   "id": "0",
   "metadata": {},
   "source": "## Setup the environment"
  },
  {
   "cell_type": "markdown",
   "id": "1",
   "metadata": {},
   "source": [
    "### Clone repository"
   ]
  },
  {
   "cell_type": "code",
   "id": "2",
   "metadata": {
    "ExecuteTime": {
     "end_time": "2025-04-03T15:47:22.118672Z",
     "start_time": "2025-04-03T15:47:22.112408Z"
    }
   },
   "source": [
    "%env EXERCISE_NAME=04-ape-and-fine-tuning\n",
    "%env REPO_NAME=llmops-workshop"
   ],
   "outputs": [
    {
     "name": "stdout",
     "output_type": "stream",
     "text": [
      "env: EXERCISE_NAME=04-ape-and-fine-tuning\n",
      "env: REPO_NAME=llmops-workshop\n"
     ]
    }
   ],
   "execution_count": 1
  },
  {
   "cell_type": "code",
   "id": "3",
   "metadata": {
    "ExecuteTime": {
     "end_time": "2025-04-03T15:47:23.951953Z",
     "start_time": "2025-04-03T15:47:23.294468Z"
    }
   },
   "source": [
    "! echo \"Cloning the repository...${REPO_NAME}\""
   ],
   "outputs": [
    {
     "name": "stdout",
     "output_type": "stream",
     "text": [
      "Cloning the repository...llmops-workshop\r\n"
     ]
    }
   ],
   "execution_count": 2
  },
  {
   "cell_type": "code",
   "id": "4",
   "metadata": {},
   "source": "! git clone https://github.com/getindata/$REPO_NAME.git",
   "outputs": [],
   "execution_count": null
  },
  {
   "metadata": {},
   "cell_type": "markdown",
   "source": "## Tools versions",
   "id": "26eb5f6dca2710ed"
  },
  {
   "metadata": {
    "ExecuteTime": {
     "end_time": "2025-04-04T04:40:35.359179Z",
     "start_time": "2025-04-04T04:40:35.357019Z"
    }
   },
   "cell_type": "code",
   "source": "%env LLAMA_CPP_VERSION=b5043",
   "id": "15a2037735874075",
   "outputs": [
    {
     "name": "stdout",
     "output_type": "stream",
     "text": [
      "env: LLAMA_CPP_VERSION=b5043\n"
     ]
    }
   ],
   "execution_count": 74
  },
  {
   "metadata": {
    "ExecuteTime": {
     "end_time": "2025-04-03T15:47:25.590053Z",
     "start_time": "2025-04-03T15:47:25.587859Z"
    }
   },
   "cell_type": "code",
   "outputs": [],
   "execution_count": 3,
   "source": [
    "def is_colab():\n",
    "    try:\n",
    "        import google.colab  # noqa: F401\n",
    "\n",
    "        return True\n",
    "    except ImportError:\n",
    "        return False"
   ],
   "id": "6"
  },
  {
   "metadata": {},
   "cell_type": "markdown",
   "source": "### Prepare environment variables, Python modules search path and install dependencies",
   "id": "5e01829a28795c2f"
  },
  {
   "metadata": {
    "ExecuteTime": {
     "end_time": "2025-04-03T15:47:27.375804Z",
     "start_time": "2025-04-03T15:47:27.287691Z"
    }
   },
   "cell_type": "code",
   "outputs": [
    {
     "name": "stdout",
     "output_type": "stream",
     "text": [
      "/Users/mwiewior/research/git/llmops-workshop/exercises/04-ape-and-fine-tuning\n"
     ]
    }
   ],
   "execution_count": 4,
   "source": [
    "import os\n",
    "if is_colab():\n",
    "    os.environ[\"EXERCISE_ROOT\"] = f\"/content/${os.environ['REPO_NAME']}/exercises\"\n",
    "    os.environ[\"LD_LIBRARY_PATH\"] = \"/usr/lib64-nvidia\"\n",
    "    os.environ[\"EXERCISE_RUN\"] = \"colab\"\n",
    "else:\n",
    "    os.environ[\"EXERCISE_ROOT\"] = f\"{os.getcwd()}/exercises\"\n",
    "    os.environ[\"EXERCISE_RUN\"] = \"local\"\n",
    "\n",
    "os.environ['EXERCISE_DIR'] = f\"{os.environ['EXERCISE_ROOT']}/{os.environ['EXERCISE_NAME']}\"\n",
    "get_ipython().run_line_magic(\"run\", f\"{os.environ['EXERCISE_ROOT']}/shared/setup/__setup_{os.environ['EXERCISE_RUN']}.ipynb\")"
   ],
   "id": "7"
  },
  {
   "metadata": {
    "ExecuteTime": {
     "end_time": "2025-04-03T15:47:29.392480Z",
     "start_time": "2025-04-03T15:47:29.390547Z"
    }
   },
   "cell_type": "code",
   "outputs": [],
   "execution_count": 5,
   "source": [
    "import sys\n",
    "\n",
    "sys.path.append(f\"{os.environ['EXERCISE_DIR']}/src\")"
   ],
   "id": "8"
  },
  {
   "metadata": {
    "ExecuteTime": {
     "end_time": "2025-04-04T05:06:03.747180Z",
     "start_time": "2025-04-04T05:05:25.932784Z"
    }
   },
   "cell_type": "code",
   "source": "%pip install -r {os.environ['EXERCISE_DIR']}/requirements.txt",
   "id": "e0a10d082b948c48",
   "outputs": [
    {
     "name": "stdout",
     "output_type": "stream",
     "text": [
      "Collecting git+https://github.com/mwiewior/mlflow.git@dspy-bug (from -r /Users/mwiewior/research/git/llmops-workshop/exercises/04-ape-and-fine-tuning/requirements.txt (line 7))\r\n",
      "  Cloning https://github.com/mwiewior/mlflow.git (to revision dspy-bug) to /private/var/folders/l3/8404fxz55gvdfszw4zf7ptp40000gn/T/pip-req-build-r7vqr3v7\r\n",
      "  Running command git clone --filter=blob:none --quiet https://github.com/mwiewior/mlflow.git /private/var/folders/l3/8404fxz55gvdfszw4zf7ptp40000gn/T/pip-req-build-r7vqr3v7\r\n",
      "  Running command git checkout -b dspy-bug --track origin/dspy-bug\r\n",
      "  Switched to a new branch 'dspy-bug'\r\n",
      "  branch 'dspy-bug' set up to track 'origin/dspy-bug'.\r\n",
      "  Resolved https://github.com/mwiewior/mlflow.git to commit 2322a6fe88c5c2eb39b64232a87c0c34c46d53e6\r\n",
      "  Running command git submodule update --init --recursive -q\r\n",
      "  Installing build dependencies ... \u001B[?25ldone\r\n",
      "\u001B[?25h  Getting requirements to build wheel ... \u001B[?25ldone\r\n",
      "\u001B[?25h  Preparing metadata (pyproject.toml) ... \u001B[?25ldone\r\n",
      "\u001B[?25hRequirement already satisfied: langfuse==2.60.2 in ./.venv/lib/python3.11/site-packages (from -r /Users/mwiewior/research/git/llmops-workshop/exercises/04-ape-and-fine-tuning/requirements.txt (line 1)) (2.60.2)\r\n",
      "Requirement already satisfied: polars==1.26.0 in ./.venv/lib/python3.11/site-packages (from -r /Users/mwiewior/research/git/llmops-workshop/exercises/04-ape-and-fine-tuning/requirements.txt (line 2)) (1.26.0)\r\n",
      "Requirement already satisfied: dspy==2.6.16 in ./.venv/lib/python3.11/site-packages (from -r /Users/mwiewior/research/git/llmops-workshop/exercises/04-ape-and-fine-tuning/requirements.txt (line 3)) (2.6.16)\r\n",
      "Requirement already satisfied: ipywidgets==8.1.5 in ./.venv/lib/python3.11/site-packages (from -r /Users/mwiewior/research/git/llmops-workshop/exercises/04-ape-and-fine-tuning/requirements.txt (line 4)) (8.1.5)\r\n",
      "Requirement already satisfied: litellm==1.62.4 in ./.venv/lib/python3.11/site-packages (from -r /Users/mwiewior/research/git/llmops-workshop/exercises/04-ape-and-fine-tuning/requirements.txt (line 5)) (1.62.4)\r\n",
      "Requirement already satisfied: opentelemetry-exporter-otlp-proto-http==1.31.1 in ./.venv/lib/python3.11/site-packages (from -r /Users/mwiewior/research/git/llmops-workshop/exercises/04-ape-and-fine-tuning/requirements.txt (line 8)) (1.31.1)\r\n",
      "Collecting mlx-lm==0.22.2 (from -r /Users/mwiewior/research/git/llmops-workshop/exercises/04-ape-and-fine-tuning/requirements.txt (line 10))\r\n",
      "  Using cached mlx_lm-0.22.2-py3-none-any.whl.metadata (10 kB)\r\n",
      "Requirement already satisfied: anyio<5.0.0,>=4.4.0 in ./.venv/lib/python3.11/site-packages (from langfuse==2.60.2->-r /Users/mwiewior/research/git/llmops-workshop/exercises/04-ape-and-fine-tuning/requirements.txt (line 1)) (4.9.0)\r\n",
      "Requirement already satisfied: backoff>=1.10.0 in ./.venv/lib/python3.11/site-packages (from langfuse==2.60.2->-r /Users/mwiewior/research/git/llmops-workshop/exercises/04-ape-and-fine-tuning/requirements.txt (line 1)) (2.2.1)\r\n",
      "Requirement already satisfied: httpx<1.0,>=0.15.4 in ./.venv/lib/python3.11/site-packages (from langfuse==2.60.2->-r /Users/mwiewior/research/git/llmops-workshop/exercises/04-ape-and-fine-tuning/requirements.txt (line 1)) (0.28.1)\r\n",
      "Requirement already satisfied: idna<4.0,>=3.7 in ./.venv/lib/python3.11/site-packages (from langfuse==2.60.2->-r /Users/mwiewior/research/git/llmops-workshop/exercises/04-ape-and-fine-tuning/requirements.txt (line 1)) (3.10)\r\n",
      "Requirement already satisfied: packaging<25.0,>=23.2 in ./.venv/lib/python3.11/site-packages (from langfuse==2.60.2->-r /Users/mwiewior/research/git/llmops-workshop/exercises/04-ape-and-fine-tuning/requirements.txt (line 1)) (24.2)\r\n",
      "Requirement already satisfied: pydantic<3.0,>=1.10.7 in ./.venv/lib/python3.11/site-packages (from langfuse==2.60.2->-r /Users/mwiewior/research/git/llmops-workshop/exercises/04-ape-and-fine-tuning/requirements.txt (line 1)) (2.11.1)\r\n",
      "Requirement already satisfied: requests<3,>=2 in ./.venv/lib/python3.11/site-packages (from langfuse==2.60.2->-r /Users/mwiewior/research/git/llmops-workshop/exercises/04-ape-and-fine-tuning/requirements.txt (line 1)) (2.32.3)\r\n",
      "Requirement already satisfied: wrapt<2.0,>=1.14 in ./.venv/lib/python3.11/site-packages (from langfuse==2.60.2->-r /Users/mwiewior/research/git/llmops-workshop/exercises/04-ape-and-fine-tuning/requirements.txt (line 1)) (1.17.2)\r\n",
      "Requirement already satisfied: joblib~=1.3 in ./.venv/lib/python3.11/site-packages (from dspy==2.6.16->-r /Users/mwiewior/research/git/llmops-workshop/exercises/04-ape-and-fine-tuning/requirements.txt (line 3)) (1.4.2)\r\n",
      "Requirement already satisfied: openai<=1.61.0,>=0.28.1 in ./.venv/lib/python3.11/site-packages (from dspy==2.6.16->-r /Users/mwiewior/research/git/llmops-workshop/exercises/04-ape-and-fine-tuning/requirements.txt (line 3)) (1.61.0)\r\n",
      "Requirement already satisfied: pandas>=2.1.1 in ./.venv/lib/python3.11/site-packages (from dspy==2.6.16->-r /Users/mwiewior/research/git/llmops-workshop/exercises/04-ape-and-fine-tuning/requirements.txt (line 3)) (2.2.3)\r\n",
      "Requirement already satisfied: regex>=2023.10.3 in ./.venv/lib/python3.11/site-packages (from dspy==2.6.16->-r /Users/mwiewior/research/git/llmops-workshop/exercises/04-ape-and-fine-tuning/requirements.txt (line 3)) (2024.11.6)\r\n",
      "Requirement already satisfied: ujson>=5.8.0 in ./.venv/lib/python3.11/site-packages (from dspy==2.6.16->-r /Users/mwiewior/research/git/llmops-workshop/exercises/04-ape-and-fine-tuning/requirements.txt (line 3)) (5.10.0)\r\n",
      "Requirement already satisfied: tqdm>=4.66.1 in ./.venv/lib/python3.11/site-packages (from dspy==2.6.16->-r /Users/mwiewior/research/git/llmops-workshop/exercises/04-ape-and-fine-tuning/requirements.txt (line 3)) (4.67.1)\r\n",
      "Requirement already satisfied: datasets>=2.14.6 in ./.venv/lib/python3.11/site-packages (from dspy==2.6.16->-r /Users/mwiewior/research/git/llmops-workshop/exercises/04-ape-and-fine-tuning/requirements.txt (line 3)) (3.5.0)\r\n",
      "Requirement already satisfied: optuna>=3.4.0 in ./.venv/lib/python3.11/site-packages (from dspy==2.6.16->-r /Users/mwiewior/research/git/llmops-workshop/exercises/04-ape-and-fine-tuning/requirements.txt (line 3)) (4.2.1)\r\n",
      "Requirement already satisfied: magicattr>=0.1.6 in ./.venv/lib/python3.11/site-packages (from dspy==2.6.16->-r /Users/mwiewior/research/git/llmops-workshop/exercises/04-ape-and-fine-tuning/requirements.txt (line 3)) (0.1.6)\r\n",
      "Requirement already satisfied: diskcache>=5.6.0 in ./.venv/lib/python3.11/site-packages (from dspy==2.6.16->-r /Users/mwiewior/research/git/llmops-workshop/exercises/04-ape-and-fine-tuning/requirements.txt (line 3)) (5.6.3)\r\n",
      "Requirement already satisfied: json-repair>=0.30.0 in ./.venv/lib/python3.11/site-packages (from dspy==2.6.16->-r /Users/mwiewior/research/git/llmops-workshop/exercises/04-ape-and-fine-tuning/requirements.txt (line 3)) (0.40.0)\r\n",
      "Requirement already satisfied: tenacity>=8.2.3 in ./.venv/lib/python3.11/site-packages (from dspy==2.6.16->-r /Users/mwiewior/research/git/llmops-workshop/exercises/04-ape-and-fine-tuning/requirements.txt (line 3)) (9.1.2)\r\n",
      "Requirement already satisfied: asyncer==0.0.8 in ./.venv/lib/python3.11/site-packages (from dspy==2.6.16->-r /Users/mwiewior/research/git/llmops-workshop/exercises/04-ape-and-fine-tuning/requirements.txt (line 3)) (0.0.8)\r\n",
      "Requirement already satisfied: cachetools>=5.5.0 in ./.venv/lib/python3.11/site-packages (from dspy==2.6.16->-r /Users/mwiewior/research/git/llmops-workshop/exercises/04-ape-and-fine-tuning/requirements.txt (line 3)) (5.5.2)\r\n",
      "Requirement already satisfied: cloudpickle>=3.0.0 in ./.venv/lib/python3.11/site-packages (from dspy==2.6.16->-r /Users/mwiewior/research/git/llmops-workshop/exercises/04-ape-and-fine-tuning/requirements.txt (line 3)) (3.1.1)\r\n",
      "Requirement already satisfied: rich>=13.7.1 in ./.venv/lib/python3.11/site-packages (from dspy==2.6.16->-r /Users/mwiewior/research/git/llmops-workshop/exercises/04-ape-and-fine-tuning/requirements.txt (line 3)) (14.0.0)\r\n",
      "Requirement already satisfied: numpy>=1.26.0 in ./.venv/lib/python3.11/site-packages (from dspy==2.6.16->-r /Users/mwiewior/research/git/llmops-workshop/exercises/04-ape-and-fine-tuning/requirements.txt (line 3)) (2.2.4)\r\n",
      "Requirement already satisfied: comm>=0.1.3 in ./.venv/lib/python3.11/site-packages (from ipywidgets==8.1.5->-r /Users/mwiewior/research/git/llmops-workshop/exercises/04-ape-and-fine-tuning/requirements.txt (line 4)) (0.2.2)\r\n",
      "Requirement already satisfied: ipython>=6.1.0 in ./.venv/lib/python3.11/site-packages (from ipywidgets==8.1.5->-r /Users/mwiewior/research/git/llmops-workshop/exercises/04-ape-and-fine-tuning/requirements.txt (line 4)) (9.0.2)\r\n",
      "Requirement already satisfied: traitlets>=4.3.1 in ./.venv/lib/python3.11/site-packages (from ipywidgets==8.1.5->-r /Users/mwiewior/research/git/llmops-workshop/exercises/04-ape-and-fine-tuning/requirements.txt (line 4)) (5.14.3)\r\n",
      "Requirement already satisfied: widgetsnbextension~=4.0.12 in ./.venv/lib/python3.11/site-packages (from ipywidgets==8.1.5->-r /Users/mwiewior/research/git/llmops-workshop/exercises/04-ape-and-fine-tuning/requirements.txt (line 4)) (4.0.13)\r\n",
      "Requirement already satisfied: jupyterlab-widgets~=3.0.12 in ./.venv/lib/python3.11/site-packages (from ipywidgets==8.1.5->-r /Users/mwiewior/research/git/llmops-workshop/exercises/04-ape-and-fine-tuning/requirements.txt (line 4)) (3.0.13)\r\n",
      "Requirement already satisfied: aiohttp in ./.venv/lib/python3.11/site-packages (from litellm==1.62.4->-r /Users/mwiewior/research/git/llmops-workshop/exercises/04-ape-and-fine-tuning/requirements.txt (line 5)) (3.11.16)\r\n",
      "Requirement already satisfied: click in ./.venv/lib/python3.11/site-packages (from litellm==1.62.4->-r /Users/mwiewior/research/git/llmops-workshop/exercises/04-ape-and-fine-tuning/requirements.txt (line 5)) (8.1.8)\r\n",
      "Requirement already satisfied: importlib-metadata>=6.8.0 in ./.venv/lib/python3.11/site-packages (from litellm==1.62.4->-r /Users/mwiewior/research/git/llmops-workshop/exercises/04-ape-and-fine-tuning/requirements.txt (line 5)) (8.6.1)\r\n",
      "Requirement already satisfied: jinja2<4.0.0,>=3.1.2 in ./.venv/lib/python3.11/site-packages (from litellm==1.62.4->-r /Users/mwiewior/research/git/llmops-workshop/exercises/04-ape-and-fine-tuning/requirements.txt (line 5)) (3.1.6)\r\n",
      "Requirement already satisfied: jsonschema<5.0.0,>=4.22.0 in ./.venv/lib/python3.11/site-packages (from litellm==1.62.4->-r /Users/mwiewior/research/git/llmops-workshop/exercises/04-ape-and-fine-tuning/requirements.txt (line 5)) (4.23.0)\r\n",
      "Requirement already satisfied: python-dotenv>=0.2.0 in ./.venv/lib/python3.11/site-packages (from litellm==1.62.4->-r /Users/mwiewior/research/git/llmops-workshop/exercises/04-ape-and-fine-tuning/requirements.txt (line 5)) (1.1.0)\r\n",
      "Requirement already satisfied: tiktoken>=0.7.0 in ./.venv/lib/python3.11/site-packages (from litellm==1.62.4->-r /Users/mwiewior/research/git/llmops-workshop/exercises/04-ape-and-fine-tuning/requirements.txt (line 5)) (0.9.0)\r\n",
      "Requirement already satisfied: tokenizers in ./.venv/lib/python3.11/site-packages (from litellm==1.62.4->-r /Users/mwiewior/research/git/llmops-workshop/exercises/04-ape-and-fine-tuning/requirements.txt (line 5)) (0.21.1)\r\n",
      "Requirement already satisfied: deprecated>=1.2.6 in ./.venv/lib/python3.11/site-packages (from opentelemetry-exporter-otlp-proto-http==1.31.1->-r /Users/mwiewior/research/git/llmops-workshop/exercises/04-ape-and-fine-tuning/requirements.txt (line 8)) (1.2.18)\r\n",
      "Requirement already satisfied: googleapis-common-protos~=1.52 in ./.venv/lib/python3.11/site-packages (from opentelemetry-exporter-otlp-proto-http==1.31.1->-r /Users/mwiewior/research/git/llmops-workshop/exercises/04-ape-and-fine-tuning/requirements.txt (line 8)) (1.69.2)\r\n",
      "Requirement already satisfied: opentelemetry-api~=1.15 in ./.venv/lib/python3.11/site-packages (from opentelemetry-exporter-otlp-proto-http==1.31.1->-r /Users/mwiewior/research/git/llmops-workshop/exercises/04-ape-and-fine-tuning/requirements.txt (line 8)) (1.31.1)\r\n",
      "Requirement already satisfied: opentelemetry-exporter-otlp-proto-common==1.31.1 in ./.venv/lib/python3.11/site-packages (from opentelemetry-exporter-otlp-proto-http==1.31.1->-r /Users/mwiewior/research/git/llmops-workshop/exercises/04-ape-and-fine-tuning/requirements.txt (line 8)) (1.31.1)\r\n",
      "Requirement already satisfied: opentelemetry-proto==1.31.1 in ./.venv/lib/python3.11/site-packages (from opentelemetry-exporter-otlp-proto-http==1.31.1->-r /Users/mwiewior/research/git/llmops-workshop/exercises/04-ape-and-fine-tuning/requirements.txt (line 8)) (1.31.1)\r\n",
      "Requirement already satisfied: opentelemetry-sdk~=1.31.1 in ./.venv/lib/python3.11/site-packages (from opentelemetry-exporter-otlp-proto-http==1.31.1->-r /Users/mwiewior/research/git/llmops-workshop/exercises/04-ape-and-fine-tuning/requirements.txt (line 8)) (1.31.1)\r\n",
      "Collecting mlx>=0.23.3 (from mlx-lm==0.22.2->-r /Users/mwiewior/research/git/llmops-workshop/exercises/04-ape-and-fine-tuning/requirements.txt (line 10))\r\n",
      "  Using cached mlx-0.24.2-cp311-cp311-macosx_15_0_arm64.whl.metadata (5.3 kB)\r\n",
      "Collecting transformers>=4.39.3 (from transformers[sentencepiece]>=4.39.3->mlx-lm==0.22.2->-r /Users/mwiewior/research/git/llmops-workshop/exercises/04-ape-and-fine-tuning/requirements.txt (line 10))\r\n",
      "  Using cached transformers-4.50.3-py3-none-any.whl.metadata (39 kB)\r\n",
      "Requirement already satisfied: protobuf in ./.venv/lib/python3.11/site-packages (from mlx-lm==0.22.2->-r /Users/mwiewior/research/git/llmops-workshop/exercises/04-ape-and-fine-tuning/requirements.txt (line 10)) (5.29.4)\r\n",
      "Requirement already satisfied: pyyaml in ./.venv/lib/python3.11/site-packages (from mlx-lm==0.22.2->-r /Users/mwiewior/research/git/llmops-workshop/exercises/04-ape-and-fine-tuning/requirements.txt (line 10)) (6.0.2)\r\n",
      "Requirement already satisfied: Flask<4 in ./.venv/lib/python3.11/site-packages (from mlflow==2.21.3.dev0->-r /Users/mwiewior/research/git/llmops-workshop/exercises/04-ape-and-fine-tuning/requirements.txt (line 7)) (3.1.0)\r\n",
      "Requirement already satisfied: alembic!=1.10.0,<2 in ./.venv/lib/python3.11/site-packages (from mlflow==2.21.3.dev0->-r /Users/mwiewior/research/git/llmops-workshop/exercises/04-ape-and-fine-tuning/requirements.txt (line 7)) (1.15.2)\r\n",
      "Requirement already satisfied: databricks-sdk<1,>=0.20.0 in ./.venv/lib/python3.11/site-packages (from mlflow==2.21.3.dev0->-r /Users/mwiewior/research/git/llmops-workshop/exercises/04-ape-and-fine-tuning/requirements.txt (line 7)) (0.49.0)\r\n",
      "Requirement already satisfied: docker<8,>=4.0.0 in ./.venv/lib/python3.11/site-packages (from mlflow==2.21.3.dev0->-r /Users/mwiewior/research/git/llmops-workshop/exercises/04-ape-and-fine-tuning/requirements.txt (line 7)) (7.1.0)\r\n",
      "Requirement already satisfied: fastapi<1 in ./.venv/lib/python3.11/site-packages (from mlflow==2.21.3.dev0->-r /Users/mwiewior/research/git/llmops-workshop/exercises/04-ape-and-fine-tuning/requirements.txt (line 7)) (0.115.12)\r\n",
      "Requirement already satisfied: gitpython<4,>=3.1.9 in ./.venv/lib/python3.11/site-packages (from mlflow==2.21.3.dev0->-r /Users/mwiewior/research/git/llmops-workshop/exercises/04-ape-and-fine-tuning/requirements.txt (line 7)) (3.1.44)\r\n",
      "Requirement already satisfied: graphene<4 in ./.venv/lib/python3.11/site-packages (from mlflow==2.21.3.dev0->-r /Users/mwiewior/research/git/llmops-workshop/exercises/04-ape-and-fine-tuning/requirements.txt (line 7)) (3.4.3)\r\n",
      "Requirement already satisfied: gunicorn<24 in ./.venv/lib/python3.11/site-packages (from mlflow==2.21.3.dev0->-r /Users/mwiewior/research/git/llmops-workshop/exercises/04-ape-and-fine-tuning/requirements.txt (line 7)) (23.0.0)\r\n",
      "Requirement already satisfied: markdown<4,>=3.3 in ./.venv/lib/python3.11/site-packages (from mlflow==2.21.3.dev0->-r /Users/mwiewior/research/git/llmops-workshop/exercises/04-ape-and-fine-tuning/requirements.txt (line 7)) (3.7)\r\n",
      "Requirement already satisfied: matplotlib<4 in ./.venv/lib/python3.11/site-packages (from mlflow==2.21.3.dev0->-r /Users/mwiewior/research/git/llmops-workshop/exercises/04-ape-and-fine-tuning/requirements.txt (line 7)) (3.10.1)\r\n",
      "Requirement already satisfied: pyarrow<20,>=4.0.0 in ./.venv/lib/python3.11/site-packages (from mlflow==2.21.3.dev0->-r /Users/mwiewior/research/git/llmops-workshop/exercises/04-ape-and-fine-tuning/requirements.txt (line 7)) (19.0.1)\r\n",
      "Requirement already satisfied: scikit-learn<2 in ./.venv/lib/python3.11/site-packages (from mlflow==2.21.3.dev0->-r /Users/mwiewior/research/git/llmops-workshop/exercises/04-ape-and-fine-tuning/requirements.txt (line 7)) (1.6.1)\r\n",
      "Requirement already satisfied: scipy<2 in ./.venv/lib/python3.11/site-packages (from mlflow==2.21.3.dev0->-r /Users/mwiewior/research/git/llmops-workshop/exercises/04-ape-and-fine-tuning/requirements.txt (line 7)) (1.15.2)\r\n",
      "Requirement already satisfied: sqlalchemy<3,>=1.4.0 in ./.venv/lib/python3.11/site-packages (from mlflow==2.21.3.dev0->-r /Users/mwiewior/research/git/llmops-workshop/exercises/04-ape-and-fine-tuning/requirements.txt (line 7)) (2.0.40)\r\n",
      "Requirement already satisfied: sqlparse<1,>=0.4.0 in ./.venv/lib/python3.11/site-packages (from mlflow==2.21.3.dev0->-r /Users/mwiewior/research/git/llmops-workshop/exercises/04-ape-and-fine-tuning/requirements.txt (line 7)) (0.5.3)\r\n",
      "Requirement already satisfied: typing-extensions<5,>=4.0.0 in ./.venv/lib/python3.11/site-packages (from mlflow==2.21.3.dev0->-r /Users/mwiewior/research/git/llmops-workshop/exercises/04-ape-and-fine-tuning/requirements.txt (line 7)) (4.13.0)\r\n",
      "Requirement already satisfied: uvicorn<1 in ./.venv/lib/python3.11/site-packages (from mlflow==2.21.3.dev0->-r /Users/mwiewior/research/git/llmops-workshop/exercises/04-ape-and-fine-tuning/requirements.txt (line 7)) (0.34.0)\r\n",
      "Requirement already satisfied: Mako in ./.venv/lib/python3.11/site-packages (from alembic!=1.10.0,<2->mlflow==2.21.3.dev0->-r /Users/mwiewior/research/git/llmops-workshop/exercises/04-ape-and-fine-tuning/requirements.txt (line 7)) (1.3.9)\r\n",
      "Requirement already satisfied: sniffio>=1.1 in ./.venv/lib/python3.11/site-packages (from anyio<5.0.0,>=4.4.0->langfuse==2.60.2->-r /Users/mwiewior/research/git/llmops-workshop/exercises/04-ape-and-fine-tuning/requirements.txt (line 1)) (1.3.1)\r\n",
      "Requirement already satisfied: google-auth~=2.0 in ./.venv/lib/python3.11/site-packages (from databricks-sdk<1,>=0.20.0->mlflow==2.21.3.dev0->-r /Users/mwiewior/research/git/llmops-workshop/exercises/04-ape-and-fine-tuning/requirements.txt (line 7)) (2.38.0)\r\n",
      "Requirement already satisfied: filelock in ./.venv/lib/python3.11/site-packages (from datasets>=2.14.6->dspy==2.6.16->-r /Users/mwiewior/research/git/llmops-workshop/exercises/04-ape-and-fine-tuning/requirements.txt (line 3)) (3.18.0)\r\n",
      "Requirement already satisfied: dill<0.3.9,>=0.3.0 in ./.venv/lib/python3.11/site-packages (from datasets>=2.14.6->dspy==2.6.16->-r /Users/mwiewior/research/git/llmops-workshop/exercises/04-ape-and-fine-tuning/requirements.txt (line 3)) (0.3.8)\r\n",
      "Requirement already satisfied: xxhash in ./.venv/lib/python3.11/site-packages (from datasets>=2.14.6->dspy==2.6.16->-r /Users/mwiewior/research/git/llmops-workshop/exercises/04-ape-and-fine-tuning/requirements.txt (line 3)) (3.5.0)\r\n",
      "Requirement already satisfied: multiprocess<0.70.17 in ./.venv/lib/python3.11/site-packages (from datasets>=2.14.6->dspy==2.6.16->-r /Users/mwiewior/research/git/llmops-workshop/exercises/04-ape-and-fine-tuning/requirements.txt (line 3)) (0.70.16)\r\n",
      "Requirement already satisfied: fsspec<=2024.12.0,>=2023.1.0 in ./.venv/lib/python3.11/site-packages (from fsspec[http]<=2024.12.0,>=2023.1.0->datasets>=2.14.6->dspy==2.6.16->-r /Users/mwiewior/research/git/llmops-workshop/exercises/04-ape-and-fine-tuning/requirements.txt (line 3)) (2024.12.0)\r\n",
      "Requirement already satisfied: huggingface-hub>=0.24.0 in ./.venv/lib/python3.11/site-packages (from datasets>=2.14.6->dspy==2.6.16->-r /Users/mwiewior/research/git/llmops-workshop/exercises/04-ape-and-fine-tuning/requirements.txt (line 3)) (0.30.1)\r\n",
      "Requirement already satisfied: urllib3>=1.26.0 in ./.venv/lib/python3.11/site-packages (from docker<8,>=4.0.0->mlflow==2.21.3.dev0->-r /Users/mwiewior/research/git/llmops-workshop/exercises/04-ape-and-fine-tuning/requirements.txt (line 7)) (2.3.0)\r\n",
      "Requirement already satisfied: starlette<0.47.0,>=0.40.0 in ./.venv/lib/python3.11/site-packages (from fastapi<1->mlflow==2.21.3.dev0->-r /Users/mwiewior/research/git/llmops-workshop/exercises/04-ape-and-fine-tuning/requirements.txt (line 7)) (0.46.1)\r\n",
      "Requirement already satisfied: Werkzeug>=3.1 in ./.venv/lib/python3.11/site-packages (from Flask<4->mlflow==2.21.3.dev0->-r /Users/mwiewior/research/git/llmops-workshop/exercises/04-ape-and-fine-tuning/requirements.txt (line 7)) (3.1.3)\r\n",
      "Requirement already satisfied: itsdangerous>=2.2 in ./.venv/lib/python3.11/site-packages (from Flask<4->mlflow==2.21.3.dev0->-r /Users/mwiewior/research/git/llmops-workshop/exercises/04-ape-and-fine-tuning/requirements.txt (line 7)) (2.2.0)\r\n",
      "Requirement already satisfied: blinker>=1.9 in ./.venv/lib/python3.11/site-packages (from Flask<4->mlflow==2.21.3.dev0->-r /Users/mwiewior/research/git/llmops-workshop/exercises/04-ape-and-fine-tuning/requirements.txt (line 7)) (1.9.0)\r\n",
      "Requirement already satisfied: gitdb<5,>=4.0.1 in ./.venv/lib/python3.11/site-packages (from gitpython<4,>=3.1.9->mlflow==2.21.3.dev0->-r /Users/mwiewior/research/git/llmops-workshop/exercises/04-ape-and-fine-tuning/requirements.txt (line 7)) (4.0.12)\r\n",
      "Requirement already satisfied: graphql-core<3.3,>=3.1 in ./.venv/lib/python3.11/site-packages (from graphene<4->mlflow==2.21.3.dev0->-r /Users/mwiewior/research/git/llmops-workshop/exercises/04-ape-and-fine-tuning/requirements.txt (line 7)) (3.2.6)\r\n",
      "Requirement already satisfied: graphql-relay<3.3,>=3.1 in ./.venv/lib/python3.11/site-packages (from graphene<4->mlflow==2.21.3.dev0->-r /Users/mwiewior/research/git/llmops-workshop/exercises/04-ape-and-fine-tuning/requirements.txt (line 7)) (3.2.0)\r\n",
      "Requirement already satisfied: python-dateutil<3,>=2.7.0 in ./.venv/lib/python3.11/site-packages (from graphene<4->mlflow==2.21.3.dev0->-r /Users/mwiewior/research/git/llmops-workshop/exercises/04-ape-and-fine-tuning/requirements.txt (line 7)) (2.9.0.post0)\r\n",
      "Requirement already satisfied: certifi in ./.venv/lib/python3.11/site-packages (from httpx<1.0,>=0.15.4->langfuse==2.60.2->-r /Users/mwiewior/research/git/llmops-workshop/exercises/04-ape-and-fine-tuning/requirements.txt (line 1)) (2025.1.31)\r\n",
      "Requirement already satisfied: httpcore==1.* in ./.venv/lib/python3.11/site-packages (from httpx<1.0,>=0.15.4->langfuse==2.60.2->-r /Users/mwiewior/research/git/llmops-workshop/exercises/04-ape-and-fine-tuning/requirements.txt (line 1)) (1.0.7)\r\n",
      "Requirement already satisfied: h11<0.15,>=0.13 in ./.venv/lib/python3.11/site-packages (from httpcore==1.*->httpx<1.0,>=0.15.4->langfuse==2.60.2->-r /Users/mwiewior/research/git/llmops-workshop/exercises/04-ape-and-fine-tuning/requirements.txt (line 1)) (0.14.0)\r\n",
      "Requirement already satisfied: zipp>=3.20 in ./.venv/lib/python3.11/site-packages (from importlib-metadata>=6.8.0->litellm==1.62.4->-r /Users/mwiewior/research/git/llmops-workshop/exercises/04-ape-and-fine-tuning/requirements.txt (line 5)) (3.21.0)\r\n",
      "Requirement already satisfied: decorator in ./.venv/lib/python3.11/site-packages (from ipython>=6.1.0->ipywidgets==8.1.5->-r /Users/mwiewior/research/git/llmops-workshop/exercises/04-ape-and-fine-tuning/requirements.txt (line 4)) (5.2.1)\r\n",
      "Requirement already satisfied: ipython-pygments-lexers in ./.venv/lib/python3.11/site-packages (from ipython>=6.1.0->ipywidgets==8.1.5->-r /Users/mwiewior/research/git/llmops-workshop/exercises/04-ape-and-fine-tuning/requirements.txt (line 4)) (1.1.1)\r\n",
      "Requirement already satisfied: jedi>=0.16 in ./.venv/lib/python3.11/site-packages (from ipython>=6.1.0->ipywidgets==8.1.5->-r /Users/mwiewior/research/git/llmops-workshop/exercises/04-ape-and-fine-tuning/requirements.txt (line 4)) (0.19.2)\r\n",
      "Requirement already satisfied: matplotlib-inline in ./.venv/lib/python3.11/site-packages (from ipython>=6.1.0->ipywidgets==8.1.5->-r /Users/mwiewior/research/git/llmops-workshop/exercises/04-ape-and-fine-tuning/requirements.txt (line 4)) (0.1.7)\r\n",
      "Requirement already satisfied: pexpect>4.3 in ./.venv/lib/python3.11/site-packages (from ipython>=6.1.0->ipywidgets==8.1.5->-r /Users/mwiewior/research/git/llmops-workshop/exercises/04-ape-and-fine-tuning/requirements.txt (line 4)) (4.9.0)\r\n",
      "Requirement already satisfied: prompt_toolkit<3.1.0,>=3.0.41 in ./.venv/lib/python3.11/site-packages (from ipython>=6.1.0->ipywidgets==8.1.5->-r /Users/mwiewior/research/git/llmops-workshop/exercises/04-ape-and-fine-tuning/requirements.txt (line 4)) (3.0.50)\r\n",
      "Requirement already satisfied: pygments>=2.4.0 in ./.venv/lib/python3.11/site-packages (from ipython>=6.1.0->ipywidgets==8.1.5->-r /Users/mwiewior/research/git/llmops-workshop/exercises/04-ape-and-fine-tuning/requirements.txt (line 4)) (2.19.1)\r\n",
      "Requirement already satisfied: stack_data in ./.venv/lib/python3.11/site-packages (from ipython>=6.1.0->ipywidgets==8.1.5->-r /Users/mwiewior/research/git/llmops-workshop/exercises/04-ape-and-fine-tuning/requirements.txt (line 4)) (0.6.3)\r\n",
      "Requirement already satisfied: MarkupSafe>=2.0 in ./.venv/lib/python3.11/site-packages (from jinja2<4.0.0,>=3.1.2->litellm==1.62.4->-r /Users/mwiewior/research/git/llmops-workshop/exercises/04-ape-and-fine-tuning/requirements.txt (line 5)) (3.0.2)\r\n",
      "Requirement already satisfied: attrs>=22.2.0 in ./.venv/lib/python3.11/site-packages (from jsonschema<5.0.0,>=4.22.0->litellm==1.62.4->-r /Users/mwiewior/research/git/llmops-workshop/exercises/04-ape-and-fine-tuning/requirements.txt (line 5)) (25.3.0)\r\n",
      "Requirement already satisfied: jsonschema-specifications>=2023.03.6 in ./.venv/lib/python3.11/site-packages (from jsonschema<5.0.0,>=4.22.0->litellm==1.62.4->-r /Users/mwiewior/research/git/llmops-workshop/exercises/04-ape-and-fine-tuning/requirements.txt (line 5)) (2024.10.1)\r\n",
      "Requirement already satisfied: referencing>=0.28.4 in ./.venv/lib/python3.11/site-packages (from jsonschema<5.0.0,>=4.22.0->litellm==1.62.4->-r /Users/mwiewior/research/git/llmops-workshop/exercises/04-ape-and-fine-tuning/requirements.txt (line 5)) (0.36.2)\r\n",
      "Requirement already satisfied: rpds-py>=0.7.1 in ./.venv/lib/python3.11/site-packages (from jsonschema<5.0.0,>=4.22.0->litellm==1.62.4->-r /Users/mwiewior/research/git/llmops-workshop/exercises/04-ape-and-fine-tuning/requirements.txt (line 5)) (0.24.0)\r\n",
      "Requirement already satisfied: contourpy>=1.0.1 in ./.venv/lib/python3.11/site-packages (from matplotlib<4->mlflow==2.21.3.dev0->-r /Users/mwiewior/research/git/llmops-workshop/exercises/04-ape-and-fine-tuning/requirements.txt (line 7)) (1.3.1)\r\n",
      "Requirement already satisfied: cycler>=0.10 in ./.venv/lib/python3.11/site-packages (from matplotlib<4->mlflow==2.21.3.dev0->-r /Users/mwiewior/research/git/llmops-workshop/exercises/04-ape-and-fine-tuning/requirements.txt (line 7)) (0.12.1)\r\n",
      "Requirement already satisfied: fonttools>=4.22.0 in ./.venv/lib/python3.11/site-packages (from matplotlib<4->mlflow==2.21.3.dev0->-r /Users/mwiewior/research/git/llmops-workshop/exercises/04-ape-and-fine-tuning/requirements.txt (line 7)) (4.57.0)\r\n",
      "Requirement already satisfied: kiwisolver>=1.3.1 in ./.venv/lib/python3.11/site-packages (from matplotlib<4->mlflow==2.21.3.dev0->-r /Users/mwiewior/research/git/llmops-workshop/exercises/04-ape-and-fine-tuning/requirements.txt (line 7)) (1.4.8)\r\n",
      "Requirement already satisfied: pillow>=8 in ./.venv/lib/python3.11/site-packages (from matplotlib<4->mlflow==2.21.3.dev0->-r /Users/mwiewior/research/git/llmops-workshop/exercises/04-ape-and-fine-tuning/requirements.txt (line 7)) (11.1.0)\r\n",
      "Requirement already satisfied: pyparsing>=2.3.1 in ./.venv/lib/python3.11/site-packages (from matplotlib<4->mlflow==2.21.3.dev0->-r /Users/mwiewior/research/git/llmops-workshop/exercises/04-ape-and-fine-tuning/requirements.txt (line 7)) (3.2.3)\r\n",
      "Requirement already satisfied: distro<2,>=1.7.0 in ./.venv/lib/python3.11/site-packages (from openai<=1.61.0,>=0.28.1->dspy==2.6.16->-r /Users/mwiewior/research/git/llmops-workshop/exercises/04-ape-and-fine-tuning/requirements.txt (line 3)) (1.9.0)\r\n",
      "Requirement already satisfied: jiter<1,>=0.4.0 in ./.venv/lib/python3.11/site-packages (from openai<=1.61.0,>=0.28.1->dspy==2.6.16->-r /Users/mwiewior/research/git/llmops-workshop/exercises/04-ape-and-fine-tuning/requirements.txt (line 3)) (0.9.0)\r\n",
      "Requirement already satisfied: opentelemetry-semantic-conventions==0.52b1 in ./.venv/lib/python3.11/site-packages (from opentelemetry-sdk~=1.31.1->opentelemetry-exporter-otlp-proto-http==1.31.1->-r /Users/mwiewior/research/git/llmops-workshop/exercises/04-ape-and-fine-tuning/requirements.txt (line 8)) (0.52b1)\r\n",
      "Requirement already satisfied: colorlog in ./.venv/lib/python3.11/site-packages (from optuna>=3.4.0->dspy==2.6.16->-r /Users/mwiewior/research/git/llmops-workshop/exercises/04-ape-and-fine-tuning/requirements.txt (line 3)) (6.9.0)\r\n",
      "Requirement already satisfied: pytz>=2020.1 in ./.venv/lib/python3.11/site-packages (from pandas>=2.1.1->dspy==2.6.16->-r /Users/mwiewior/research/git/llmops-workshop/exercises/04-ape-and-fine-tuning/requirements.txt (line 3)) (2025.2)\r\n",
      "Requirement already satisfied: tzdata>=2022.7 in ./.venv/lib/python3.11/site-packages (from pandas>=2.1.1->dspy==2.6.16->-r /Users/mwiewior/research/git/llmops-workshop/exercises/04-ape-and-fine-tuning/requirements.txt (line 3)) (2025.2)\r\n",
      "Requirement already satisfied: annotated-types>=0.6.0 in ./.venv/lib/python3.11/site-packages (from pydantic<3.0,>=1.10.7->langfuse==2.60.2->-r /Users/mwiewior/research/git/llmops-workshop/exercises/04-ape-and-fine-tuning/requirements.txt (line 1)) (0.7.0)\r\n",
      "Requirement already satisfied: pydantic-core==2.33.0 in ./.venv/lib/python3.11/site-packages (from pydantic<3.0,>=1.10.7->langfuse==2.60.2->-r /Users/mwiewior/research/git/llmops-workshop/exercises/04-ape-and-fine-tuning/requirements.txt (line 1)) (2.33.0)\r\n",
      "Requirement already satisfied: typing-inspection>=0.4.0 in ./.venv/lib/python3.11/site-packages (from pydantic<3.0,>=1.10.7->langfuse==2.60.2->-r /Users/mwiewior/research/git/llmops-workshop/exercises/04-ape-and-fine-tuning/requirements.txt (line 1)) (0.4.0)\r\n",
      "Requirement already satisfied: charset-normalizer<4,>=2 in ./.venv/lib/python3.11/site-packages (from requests<3,>=2->langfuse==2.60.2->-r /Users/mwiewior/research/git/llmops-workshop/exercises/04-ape-and-fine-tuning/requirements.txt (line 1)) (3.4.1)\r\n",
      "Requirement already satisfied: markdown-it-py>=2.2.0 in ./.venv/lib/python3.11/site-packages (from rich>=13.7.1->dspy==2.6.16->-r /Users/mwiewior/research/git/llmops-workshop/exercises/04-ape-and-fine-tuning/requirements.txt (line 3)) (3.0.0)\r\n",
      "Requirement already satisfied: threadpoolctl>=3.1.0 in ./.venv/lib/python3.11/site-packages (from scikit-learn<2->mlflow==2.21.3.dev0->-r /Users/mwiewior/research/git/llmops-workshop/exercises/04-ape-and-fine-tuning/requirements.txt (line 7)) (3.6.0)\r\n",
      "Collecting safetensors>=0.4.3 (from transformers>=4.39.3->transformers[sentencepiece]>=4.39.3->mlx-lm==0.22.2->-r /Users/mwiewior/research/git/llmops-workshop/exercises/04-ape-and-fine-tuning/requirements.txt (line 10))\r\n",
      "  Downloading safetensors-0.5.3-cp38-abi3-macosx_11_0_arm64.whl.metadata (3.8 kB)\r\n",
      "Collecting sentencepiece!=0.1.92,>=0.1.91 (from transformers[sentencepiece]>=4.39.3->mlx-lm==0.22.2->-r /Users/mwiewior/research/git/llmops-workshop/exercises/04-ape-and-fine-tuning/requirements.txt (line 10))\r\n",
      "  Using cached sentencepiece-0.2.0-cp311-cp311-macosx_11_0_arm64.whl.metadata (7.7 kB)\r\n",
      "Requirement already satisfied: aiohappyeyeballs>=2.3.0 in ./.venv/lib/python3.11/site-packages (from aiohttp->litellm==1.62.4->-r /Users/mwiewior/research/git/llmops-workshop/exercises/04-ape-and-fine-tuning/requirements.txt (line 5)) (2.6.1)\r\n",
      "Requirement already satisfied: aiosignal>=1.1.2 in ./.venv/lib/python3.11/site-packages (from aiohttp->litellm==1.62.4->-r /Users/mwiewior/research/git/llmops-workshop/exercises/04-ape-and-fine-tuning/requirements.txt (line 5)) (1.3.2)\r\n",
      "Requirement already satisfied: frozenlist>=1.1.1 in ./.venv/lib/python3.11/site-packages (from aiohttp->litellm==1.62.4->-r /Users/mwiewior/research/git/llmops-workshop/exercises/04-ape-and-fine-tuning/requirements.txt (line 5)) (1.5.0)\r\n",
      "Requirement already satisfied: multidict<7.0,>=4.5 in ./.venv/lib/python3.11/site-packages (from aiohttp->litellm==1.62.4->-r /Users/mwiewior/research/git/llmops-workshop/exercises/04-ape-and-fine-tuning/requirements.txt (line 5)) (6.2.0)\r\n",
      "Requirement already satisfied: propcache>=0.2.0 in ./.venv/lib/python3.11/site-packages (from aiohttp->litellm==1.62.4->-r /Users/mwiewior/research/git/llmops-workshop/exercises/04-ape-and-fine-tuning/requirements.txt (line 5)) (0.3.1)\r\n",
      "Requirement already satisfied: yarl<2.0,>=1.17.0 in ./.venv/lib/python3.11/site-packages (from aiohttp->litellm==1.62.4->-r /Users/mwiewior/research/git/llmops-workshop/exercises/04-ape-and-fine-tuning/requirements.txt (line 5)) (1.18.3)\r\n",
      "Requirement already satisfied: smmap<6,>=3.0.1 in ./.venv/lib/python3.11/site-packages (from gitdb<5,>=4.0.1->gitpython<4,>=3.1.9->mlflow==2.21.3.dev0->-r /Users/mwiewior/research/git/llmops-workshop/exercises/04-ape-and-fine-tuning/requirements.txt (line 7)) (5.0.2)\r\n",
      "Requirement already satisfied: pyasn1-modules>=0.2.1 in ./.venv/lib/python3.11/site-packages (from google-auth~=2.0->databricks-sdk<1,>=0.20.0->mlflow==2.21.3.dev0->-r /Users/mwiewior/research/git/llmops-workshop/exercises/04-ape-and-fine-tuning/requirements.txt (line 7)) (0.4.2)\r\n",
      "Requirement already satisfied: rsa<5,>=3.1.4 in ./.venv/lib/python3.11/site-packages (from google-auth~=2.0->databricks-sdk<1,>=0.20.0->mlflow==2.21.3.dev0->-r /Users/mwiewior/research/git/llmops-workshop/exercises/04-ape-and-fine-tuning/requirements.txt (line 7)) (4.9)\r\n",
      "Requirement already satisfied: parso<0.9.0,>=0.8.4 in ./.venv/lib/python3.11/site-packages (from jedi>=0.16->ipython>=6.1.0->ipywidgets==8.1.5->-r /Users/mwiewior/research/git/llmops-workshop/exercises/04-ape-and-fine-tuning/requirements.txt (line 4)) (0.8.4)\r\n",
      "Requirement already satisfied: mdurl~=0.1 in ./.venv/lib/python3.11/site-packages (from markdown-it-py>=2.2.0->rich>=13.7.1->dspy==2.6.16->-r /Users/mwiewior/research/git/llmops-workshop/exercises/04-ape-and-fine-tuning/requirements.txt (line 3)) (0.1.2)\r\n",
      "Requirement already satisfied: ptyprocess>=0.5 in ./.venv/lib/python3.11/site-packages (from pexpect>4.3->ipython>=6.1.0->ipywidgets==8.1.5->-r /Users/mwiewior/research/git/llmops-workshop/exercises/04-ape-and-fine-tuning/requirements.txt (line 4)) (0.7.0)\r\n",
      "Requirement already satisfied: wcwidth in ./.venv/lib/python3.11/site-packages (from prompt_toolkit<3.1.0,>=3.0.41->ipython>=6.1.0->ipywidgets==8.1.5->-r /Users/mwiewior/research/git/llmops-workshop/exercises/04-ape-and-fine-tuning/requirements.txt (line 4)) (0.2.13)\r\n",
      "Requirement already satisfied: six>=1.5 in ./.venv/lib/python3.11/site-packages (from python-dateutil<3,>=2.7.0->graphene<4->mlflow==2.21.3.dev0->-r /Users/mwiewior/research/git/llmops-workshop/exercises/04-ape-and-fine-tuning/requirements.txt (line 7)) (1.17.0)\r\n",
      "Requirement already satisfied: executing>=1.2.0 in ./.venv/lib/python3.11/site-packages (from stack_data->ipython>=6.1.0->ipywidgets==8.1.5->-r /Users/mwiewior/research/git/llmops-workshop/exercises/04-ape-and-fine-tuning/requirements.txt (line 4)) (2.2.0)\r\n",
      "Requirement already satisfied: asttokens>=2.1.0 in ./.venv/lib/python3.11/site-packages (from stack_data->ipython>=6.1.0->ipywidgets==8.1.5->-r /Users/mwiewior/research/git/llmops-workshop/exercises/04-ape-and-fine-tuning/requirements.txt (line 4)) (3.0.0)\r\n",
      "Requirement already satisfied: pure-eval in ./.venv/lib/python3.11/site-packages (from stack_data->ipython>=6.1.0->ipywidgets==8.1.5->-r /Users/mwiewior/research/git/llmops-workshop/exercises/04-ape-and-fine-tuning/requirements.txt (line 4)) (0.2.3)\r\n",
      "Requirement already satisfied: pyasn1<0.7.0,>=0.6.1 in ./.venv/lib/python3.11/site-packages (from pyasn1-modules>=0.2.1->google-auth~=2.0->databricks-sdk<1,>=0.20.0->mlflow==2.21.3.dev0->-r /Users/mwiewior/research/git/llmops-workshop/exercises/04-ape-and-fine-tuning/requirements.txt (line 7)) (0.6.1)\r\n",
      "Downloading mlx_lm-0.22.2-py3-none-any.whl (162 kB)\r\n",
      "\u001B[2K   \u001B[90m━━━━━━━━━━━━━━━━━━━━━━━━━━━━━━━━━━━━━━━━\u001B[0m \u001B[32m162.2/162.2 kB\u001B[0m \u001B[31m2.0 MB/s\u001B[0m eta \u001B[36m0:00:00\u001B[0ma \u001B[36m0:00:01\u001B[0mm\r\n",
      "\u001B[?25hDownloading mlx-0.24.2-cp311-cp311-macosx_15_0_arm64.whl (27.6 MB)\r\n",
      "\u001B[2K   \u001B[90m━━━━━━━━━━━━━━━━━━━━━━━━━━━━━━━━━━━━━━━━\u001B[0m \u001B[32m27.6/27.6 MB\u001B[0m \u001B[31m49.4 MB/s\u001B[0m eta \u001B[36m0:00:00\u001B[0m00:01\u001B[0m00:01\u001B[0m\r\n",
      "\u001B[?25hDownloading transformers-4.50.3-py3-none-any.whl (10.2 MB)\r\n",
      "\u001B[2K   \u001B[90m━━━━━━━━━━━━━━━━━━━━━━━━━━━━━━━━━━━━━━━━\u001B[0m \u001B[32m10.2/10.2 MB\u001B[0m \u001B[31m52.9 MB/s\u001B[0m eta \u001B[36m0:00:00\u001B[0m00:01\u001B[0m0:01\u001B[0m\r\n",
      "\u001B[?25hDownloading safetensors-0.5.3-cp38-abi3-macosx_11_0_arm64.whl (418 kB)\r\n",
      "\u001B[2K   \u001B[90m━━━━━━━━━━━━━━━━━━━━━━━━━━━━━━━━━━━━━━━━\u001B[0m \u001B[32m418.4/418.4 kB\u001B[0m \u001B[31m22.1 MB/s\u001B[0m eta \u001B[36m0:00:00\u001B[0m\r\n",
      "\u001B[?25hUsing cached sentencepiece-0.2.0-cp311-cp311-macosx_11_0_arm64.whl (1.2 MB)\r\n",
      "Installing collected packages: sentencepiece, safetensors, mlx, transformers, mlx-lm\r\n",
      "Successfully installed mlx-0.24.2 mlx-lm-0.22.2 safetensors-0.5.3 sentencepiece-0.2.0 transformers-4.50.3\r\n",
      "\r\n",
      "\u001B[1m[\u001B[0m\u001B[34;49mnotice\u001B[0m\u001B[1;39;49m]\u001B[0m\u001B[39;49m A new release of pip is available: \u001B[0m\u001B[31;49m24.0\u001B[0m\u001B[39;49m -> \u001B[0m\u001B[32;49m25.0.1\u001B[0m\r\n",
      "\u001B[1m[\u001B[0m\u001B[34;49mnotice\u001B[0m\u001B[1;39;49m]\u001B[0m\u001B[39;49m To update, run: \u001B[0m\u001B[32;49m/Users/mwiewior/research/git/llmops-workshop/.venv/bin/python3 -m pip install --upgrade pip\u001B[0m\r\n",
      "Note: you may need to restart the kernel to use updated packages.\n"
     ]
    }
   ],
   "execution_count": 94
  },
  {
   "metadata": {},
   "cell_type": "markdown",
   "source": "## Test the environment",
   "id": "4ae4f217afc6895b"
  },
  {
   "metadata": {
    "ExecuteTime": {
     "end_time": "2025-04-04T04:52:51.128719Z",
     "start_time": "2025-04-04T04:52:50.486545Z"
    }
   },
   "cell_type": "code",
   "outputs": [
    {
     "name": "stdout",
     "output_type": "stream",
     "text": [
      "version: 5002 (2c3f8b85)\r\n",
      "built with Apple clang version 16.0.0 (clang-1600.0.26.6) for arm64-apple-darwin24.2.0\r\n"
     ]
    }
   ],
   "execution_count": 90,
   "source": "!llama-cli --version",
   "id": "afe74dc33ad09ad"
  },
  {
   "metadata": {
    "ExecuteTime": {
     "end_time": "2025-04-04T04:52:53.795599Z",
     "start_time": "2025-04-04T04:52:53.158270Z"
    }
   },
   "cell_type": "code",
   "outputs": [
    {
     "name": "stdout",
     "output_type": "stream",
     "text": [
      "ollama version is 0.6.3\r\n"
     ]
    }
   ],
   "execution_count": 91,
   "source": "!ollama --version",
   "id": "3e433570a86a5de8"
  },
  {
   "metadata": {
    "ExecuteTime": {
     "end_time": "2025-04-04T04:53:32.723905Z",
     "start_time": "2025-04-04T04:53:32.087341Z"
    }
   },
   "cell_type": "code",
   "source": [
    "%%bash\n",
    "ollama pull gemma3:1b > /dev/null 2>&1\n",
    "curl -sX POST http://localhost:11434/api/generate -d '{\n",
    "\"model\": \"gemma3:1b\",\n",
    "\"system\": \"Be helpful and concise.\",\n",
    "\"prompt\":\"Who discovered general theory of relativity?.Just answer with the name of the scientist.\"\n",
    "}' | jq -r '. | {response} | join(\",\")' | tr -d '\\n'"
   ],
   "id": "c111347dcf3f53b7",
   "outputs": [
    {
     "name": "stdout",
     "output_type": "stream",
     "text": [
      "Albert Einstein"
     ]
    }
   ],
   "execution_count": 93
  },
  {
   "metadata": {},
   "cell_type": "markdown",
   "source": "### Langfuse connection (also OpenTelemetry)",
   "id": "9"
  },
  {
   "metadata": {
    "ExecuteTime": {
     "end_time": "2025-04-03T15:47:31.582445Z",
     "start_time": "2025-04-03T15:47:31.579298Z"
    }
   },
   "cell_type": "code",
   "outputs": [],
   "execution_count": 6,
   "source": [
    "import base64\n",
    "import os\n",
    "\n",
    "os.environ[\"LANGFUSE_PUBLIC_KEY\"] = \"pk-lf-005b77e6-7931-475e-85bd-46ec47e5201d\"\n",
    "os.environ[\"LANGFUSE_SECRET_KEY\"] = \"sk-lf-8b31ee9a-2c89-4c47-a37a-ec084d735170\"\n",
    "os.environ[\"LANGFUSE_HOST\"] = \"http://localhost:3000\"\n",
    "os.environ[\"LANGFUSE_AUTH\"] = base64.b64encode(\n",
    "    f\"{os.environ['LANGFUSE_PUBLIC_KEY']}:{os.environ['LANGFUSE_SECRET_KEY']}\".encode()\n",
    ").decode()\n",
    "os.environ[\"OTEL_EXPORTER_OTLP_TRACES_ENDPOINT\"] = (\n",
    "    f\"{os.environ['LANGFUSE_HOST']}/api/public/otel/v1/traces\"\n",
    ")\n",
    "os.environ[\"OTEL_EXPORTER_OTLP_TRACES_HEADERS\"] = (\n",
    "    f\"Authorization=Basic {os.environ['LANGFUSE_AUTH']}\"\n",
    ")\n",
    "os.environ[\"OTEL_EXPORTER_OTLP_TRACES_PROTOCOL\"] = \"http/protobuf\""
   ],
   "id": "5cd3d8737ee1e4fa"
  },
  {
   "metadata": {
    "ExecuteTime": {
     "end_time": "2025-04-03T15:47:34.764019Z",
     "start_time": "2025-04-03T15:47:34.423377Z"
    }
   },
   "cell_type": "code",
   "outputs": [],
   "execution_count": 7,
   "source": [
    "from langfuse import Langfuse\n",
    "\n",
    "langfuse = Langfuse()"
   ],
   "id": "11"
  },
  {
   "metadata": {},
   "cell_type": "markdown",
   "source": "## Data preparation",
   "id": "78525e28251666e5"
  },
  {
   "metadata": {
    "ExecuteTime": {
     "end_time": "2025-04-03T15:47:36.008244Z",
     "start_time": "2025-04-03T15:47:35.866393Z"
    }
   },
   "cell_type": "code",
   "source": [
    "import polars as pl\n",
    "\n",
    "df = pl.read_csv(f\"{os.environ['EXERCISE_DIR']}/data/input/sms_phishing.csv\")\n",
    "datasets = []\n",
    "for r in df.iter_rows(named=True):\n",
    "    datasets.append({\"input\": r[\"TEXT\"], \"expected_output\": r[\"LABEL\"].lower()})"
   ],
   "id": "45e53f1a313df65d",
   "outputs": [],
   "execution_count": 8
  },
  {
   "metadata": {},
   "cell_type": "code",
   "source": [
    "TRAIN_PCT = 0.9666\n",
    "VAL_PCT = 0.0167\n",
    "TEST_PCT = 0.0167\n",
    "train_ds = datasets[: int(len(datasets) * TRAIN_PCT)]\n",
    "val_ds = datasets[\n",
    "    int(len(datasets) * TRAIN_PCT) : int(len(datasets) * (TRAIN_PCT + VAL_PCT))\n",
    "]\n",
    "test_ds = datasets[int(len(datasets) * (TRAIN_PCT + VAL_PCT)) :]\n",
    "len(train_ds), len(val_ds), len(test_ds)"
   ],
   "id": "fa7a58734a8c53d1",
   "outputs": [],
   "execution_count": null
  },
  {
   "metadata": {},
   "cell_type": "markdown",
   "source": "### Create Langfuse datasets\n",
   "id": "ffd0d64045f2cfa0"
  },
  {
   "metadata": {},
   "cell_type": "code",
   "source": [
    "def create_dataset(name: str, ds: list):\n",
    "    langfuse.create_dataset(name=name)\n",
    "    for item in ds:\n",
    "        langfuse.create_dataset_item(\n",
    "            dataset_name=name,\n",
    "            input=item[\"input\"],\n",
    "            expected_output=item[\"expected_output\"],\n",
    "        )"
   ],
   "id": "fc17398eff3f193",
   "outputs": [],
   "execution_count": null
  },
  {
   "metadata": {},
   "cell_type": "code",
   "source": [
    "create_dataset(\"sms_phishing_train\", train_ds)\n",
    "create_dataset(\"sms_phishing_val\", val_ds)\n",
    "create_dataset(\"sms_phishing_test\", test_ds)"
   ],
   "id": "2d8d819e82c46432",
   "outputs": [],
   "execution_count": null
  },
  {
   "metadata": {},
   "cell_type": "markdown",
   "source": "## Register the prompt",
   "id": "38a5aab88d8a47bc"
  },
  {
   "metadata": {},
   "cell_type": "code",
   "source": [
    "langfuse.create_prompt(\n",
    "    name=\"sms-classifier\",\n",
    "    type=\"text\",\n",
    "    prompt=\" Given an SMS text, classify whether it is 'ham', 'spam', or 'smishing'. Output only the predicted category.\",\n",
    "    labels=[\"sandbox\"],\n",
    "    tags=[\"sms\", \"dspy\", \"classifier\"],\n",
    ")"
   ],
   "id": "8f206fbbcf297541",
   "outputs": [],
   "execution_count": null
  },
  {
   "metadata": {},
   "cell_type": "markdown",
   "source": "## Create a SMSClassifier module with DSPy",
   "id": "6fc45200fcc7c7ea"
  },
  {
   "metadata": {},
   "cell_type": "markdown",
   "source": [
    "### Configure which LLM to use (Ollama Gemma3)\n",
    "DSpy uses [LiteLLM](https://www.litellm.ai/) to abstract the LLM provider."
   ],
   "id": "26b669fdf395ae95"
  },
  {
   "metadata": {
    "ExecuteTime": {
     "end_time": "2025-04-03T15:47:42.559585Z",
     "start_time": "2025-04-03T15:47:41.519325Z"
    }
   },
   "cell_type": "code",
   "source": [
    "import dspy\n",
    "\n",
    "MODEL = \"gemma3:1b\"\n",
    "\n",
    "lm = dspy.LM(f\"ollama/{MODEL}\", cache=False, num_retries=5)\n",
    "dspy.settings.configure(lm=lm, track_usage=False)"
   ],
   "id": "d26972a0d99036aa",
   "outputs": [],
   "execution_count": 9
  },
  {
   "metadata": {},
   "cell_type": "markdown",
   "source": "### Configuring DSPy traces with OpenTelemetry using MLflow client",
   "id": "6a77100f1f812262"
  },
  {
   "metadata": {
    "ExecuteTime": {
     "end_time": "2025-04-03T15:47:50.455971Z",
     "start_time": "2025-04-03T15:47:49.323905Z"
    }
   },
   "cell_type": "code",
   "source": [
    "import mlflow\n",
    "\n",
    "mlflow.dspy.autolog()"
   ],
   "id": "fe84cb23d7d3a625",
   "outputs": [],
   "execution_count": 11
  },
  {
   "metadata": {},
   "cell_type": "code",
   "source": [
    "import logging\n",
    "\n",
    "logger = logging.getLogger(\"mlflow\")\n",
    "logger.setLevel(logging.INFO)"
   ],
   "id": "ec97b3cc32915b85",
   "outputs": [],
   "execution_count": null
  },
  {
   "metadata": {},
   "cell_type": "code",
   "source": [
    "lm(\"Hello world!\")"
   ],
   "id": "4525740cf90ce706",
   "outputs": [],
   "execution_count": null
  },
  {
   "metadata": {},
   "cell_type": "markdown",
   "source": [
    "### Create a DSPy\n",
    "1. We first create a Signature that defines the schema of the input and output of the module and well as the default instructions.\n",
    "2. Then we create a Module that combines the Signature with the prompting strategy, such Chain of Thought, ReAct, .\n"
   ],
   "id": "679d5b5351a360e3"
  },
  {
   "metadata": {
    "ExecuteTime": {
     "end_time": "2025-04-03T15:47:52.247715Z",
     "start_time": "2025-04-03T15:47:52.244107Z"
    }
   },
   "cell_type": "code",
   "source": [
    "from typing import Literal\n",
    "\n",
    "import dspy\n",
    "\n",
    "\n",
    "class SMSClassifierSignature(dspy.Signature):\n",
    "    \"\"\"\n",
    "    Given an SMS text, predict whether it is ham, spam, or smishing.\n",
    "    Output only the predicted label.\n",
    "    \"\"\"\n",
    "\n",
    "    sms_text: str = dspy.InputField()\n",
    "    category: Literal[\"ham\", \"spam\", \"smishing\"] = dspy.OutputField()\n",
    "\n",
    "\n",
    "class SMSClassifier(dspy.Module):\n",
    "    def __init__(self):\n",
    "        super().__init__()\n",
    "        self.generate_answer = dspy.Predict(SMSClassifierSignature)\n",
    "\n",
    "    @mlflow.trace\n",
    "    def forward(self, sms_text):\n",
    "        return self.generate_answer(sms_text=sms_text)"
   ],
   "id": "eee6565f12556d70",
   "outputs": [],
   "execution_count": 12
  },
  {
   "metadata": {
    "ExecuteTime": {
     "end_time": "2025-04-03T15:48:11.877457Z",
     "start_time": "2025-04-03T15:48:11.875439Z"
    }
   },
   "cell_type": "code",
   "source": [
    "sms_classifier = SMSClassifier()"
   ],
   "id": "a55cd053e02ea30a",
   "outputs": [],
   "execution_count": 15
  },
  {
   "metadata": {},
   "cell_type": "markdown",
   "source": "### Change the default instructions",
   "id": "97d55919f2525b60"
  },
  {
   "metadata": {},
   "cell_type": "code",
   "source": [
    "SMSClassifierSignature.__doc__ = langfuse.get_prompt(\n",
    "    name=\"sms-classifier\", version=2\n",
    ").compile()\n",
    "sms_classifier = SMSClassifier()"
   ],
   "id": "b6bd02ffa078b1b9",
   "outputs": [],
   "execution_count": null
  },
  {
   "metadata": {},
   "cell_type": "code",
   "source": [
    "sms_classifier(sms_text=\"Sorry i missed your call. Can you please call back.\")"
   ],
   "id": "6498821bd95ad663",
   "outputs": [],
   "execution_count": null
  },
  {
   "metadata": {},
   "cell_type": "code",
   "source": [
    "sms_classifier(\n",
    "    sms_text=\"We have received a request from you for purchasing Paytm Payments Bank FASTag. Total amount to be paid is Rs 250/- (Tag Cost Rs. 100 Security Deposit Rs. 0, Threshold -Rs. 150). In case of any queries, please contact us at https://m.paytm.me/fastag-help\"\n",
    ")"
   ],
   "id": "e22fdbdc1e24be41",
   "outputs": [],
   "execution_count": null
  },
  {
   "metadata": {},
   "cell_type": "code",
   "source": [
    "# wrong should be categorized as spam\n",
    "sms_classifier(\n",
    "    sms_text=\"Rental  Helpline  9999991155 1000-100, 000 sq.ft. In Noida & Gr.Noida  OFFICE & INDUSTRIAL Use Goldenberg estates pvt.ltd. sandeep@goldenberg.in 999 999 115\"\n",
    ")"
   ],
   "id": "ebab19cc90678a3a",
   "outputs": [],
   "execution_count": null
  },
  {
   "metadata": {},
   "cell_type": "code",
   "source": [
    "lm.inspect_history(n=1)"
   ],
   "id": "fdf3f9c4acb32ddf",
   "outputs": [],
   "execution_count": null
  },
  {
   "metadata": {},
   "cell_type": "markdown",
   "source": "## Run evaluation on the test dataset",
   "id": "13aef0cdea334211"
  },
  {
   "metadata": {},
   "cell_type": "markdown",
   "source": "### Pull the models",
   "id": "363ecdeb454bace"
  },
  {
   "metadata": {},
   "cell_type": "code",
   "source": [
    "%%bash\n",
    "models=(\"gemma3:1b\" \"qwen2.5:1.5b\" \"qwen2.5:14b\" \"gemma3:12b\")\n",
    "for model in \"${models[@]}\"; do\n",
    "    echo \"Pulling model: $model\"\n",
    "    ollama pull \"$model\"\n",
    "done\n"
   ],
   "id": "48cb61b91291731d",
   "outputs": [],
   "execution_count": null
  },
  {
   "metadata": {},
   "cell_type": "markdown",
   "source": "### Prepare the test dataset",
   "id": "63db49b88af814de"
  },
  {
   "metadata": {
    "ExecuteTime": {
     "end_time": "2025-04-03T15:48:16.517766Z",
     "start_time": "2025-04-03T15:48:16.475273Z"
    }
   },
   "cell_type": "code",
   "source": [
    "dataset = langfuse.get_dataset(\"sms_phishing_test\")\n",
    "from dspy import Example\n",
    "\n",
    "test_ds = []\n",
    "for item in dataset.items:\n",
    "    test_ds.append(\n",
    "        Example(sms_text=item.input, category=item.expected_output).with_inputs(\n",
    "            \"sms_text\"\n",
    "        )\n",
    "    )"
   ],
   "id": "227fff96ea53868a",
   "outputs": [],
   "execution_count": 16
  },
  {
   "metadata": {
    "ExecuteTime": {
     "end_time": "2025-04-03T16:21:54.728287Z",
     "start_time": "2025-04-03T16:18:28.343351Z"
    }
   },
   "cell_type": "code",
   "source": [
    "import uuid\n",
    "from evaluation_helpers import plot_metrics, run_evaluation\n",
    "\n",
    "baseline_run_id = \"uuid.uuid1()\"\n",
    "\n",
    "models = [\n",
    "    \"gemma3:1b\",\n",
    "    \"qwen2.5:1.5b\",\n",
    "    \"qwen2.5:14b\",\n",
    "    \"gemma3:12b\",\n",
    "]\n",
    "\n",
    "\n",
    "# full run (if you would like to run all models - remember to pull them first)\n",
    "# models = [\n",
    "#         \"smollm2:360m\", \"smollm2:1.7b\",\n",
    "#         \"qwen2.5:0.5b\", \"qwen2.5:1.5b\",\n",
    "#         \"gemma3:1b\", \"gemma3:4b\", \"granite3.2:2b\",\n",
    "#         \"gemma3:12b\", \"qwen2.5:14b\", \"phi4:14b\"\n",
    "# ]\n",
    "\n",
    "classes = [\"ham\", \"spam\", \"smishing\"]\n",
    "\n",
    "run_evaluation(\n",
    "    models, sms_classifier, test_ds, classes, baseline_run_id, prefix=\"baseline\"\n",
    ")"
   ],
   "id": "c3a25f27790d6f93",
   "outputs": [
    {
     "name": "stdout",
     "output_type": "stream",
     "text": [
      "Average Metric: 15.00 / 100 (15.0%): 100%|██████████| 100/100 [00:18<00:00,  5.54it/s]\n",
      "Average Metric: 36.00 / 100 (36.0%): 100%|██████████| 100/100 [00:34<00:00,  2.88it/s]\n",
      "Average Metric: 87.00 / 100 (87.0%): 100%|██████████| 100/100 [01:14<00:00,  1.35it/s]\n",
      "Average Metric: 78.00 / 100 (78.0%): 100%|██████████| 100/100 [01:19<00:00,  1.26it/s]\n"
     ]
    }
   ],
   "execution_count": 36
  },
  {
   "metadata": {
    "ExecuteTime": {
     "end_time": "2025-04-03T16:22:02.339059Z",
     "start_time": "2025-04-03T16:21:54.741612Z"
    }
   },
   "cell_type": "code",
   "source": [
    "from evaluation_helpers import get_all_metric\n",
    "\n",
    "metrics_baseline = get_all_metric(models, baseline_run_id, classes, prefix=\"baseline\")"
   ],
   "id": "14b8b8fb44df9093",
   "outputs": [],
   "execution_count": 37
  },
  {
   "metadata": {
    "ExecuteTime": {
     "end_time": "2025-04-03T16:22:02.404937Z",
     "start_time": "2025-04-03T16:22:02.345965Z"
    }
   },
   "cell_type": "code",
   "source": [
    "plot_metrics(\n",
    "    metrics_baseline,\n",
    "    [\"Precision (macro)\", \"Recall(macro)\", \"F1(macro)\"],\n",
    "    \"Scores by model before prompt optimization and fine-tuning\",\n",
    ")"
   ],
   "id": "6eddca6432210648",
   "outputs": [
    {
     "data": {
      "text/plain": [
       "<Figure size 1200x500 with 1 Axes>"
      ],
      "image/png": "[encoded data removed]"
     },
     "metadata": {},
     "output_type": "display_data"
    }
   ],
   "execution_count": 38
  },
  {
   "metadata": {},
   "cell_type": "markdown",
   "source": "## Automatic prompt engineering",
   "id": "f7089da8c7b0a2d5"
  },
  {
   "metadata": {},
   "cell_type": "markdown",
   "source": "### Prepare the training dataset",
   "id": "f42a39d3992c4be1"
  },
  {
   "metadata": {
    "ExecuteTime": {
     "end_time": "2025-04-03T16:08:35.722509Z",
     "start_time": "2025-04-03T16:08:34.193982Z"
    }
   },
   "cell_type": "code",
   "source": [
    "from collections import Counter\n",
    "from dspy import Example\n",
    "\n",
    "dataset = langfuse.get_dataset(\"sms_phishing_train\")\n",
    "\n",
    "sample_size = 100\n",
    "category_split = {\"ham\": 0.6, \"spam\": 0.2, \"smishing\": 0.2}\n",
    "sample_counts = {\"ham\": 0, \"spam\": 0, \"smishing\": 0}\n",
    "ham_num = sample_size * category_split[\"ham\"]\n",
    "spam_num = sample_size * category_split[\"spam\"]\n",
    "smishing_num = sample_size * category_split[\"smishing\"]\n",
    "train_ds = []\n",
    "for item in dataset.items:\n",
    "    train_ds.append(\n",
    "        Example(sms_text=item.input, category=item.expected_output).with_inputs(\n",
    "            \"sms_text\"\n",
    "        )\n",
    "    )\n",
    "\n",
    "\n",
    "categories = [item.category for item in train_ds[:sample_size]]\n",
    "Counter(categories)"
   ],
   "id": "1cf7249b1b4a5cac",
   "outputs": [
    {
     "data": {
      "text/plain": [
       "Counter({'ham': 84, 'spam': 9, 'smishing': 7})"
      ]
     },
     "execution_count": 25,
     "metadata": {},
     "output_type": "execute_result"
    }
   ],
   "execution_count": 25
  },
  {
   "metadata": {
    "ExecuteTime": {
     "end_time": "2025-04-03T16:08:53.727969Z",
     "start_time": "2025-04-03T16:08:53.725877Z"
    }
   },
   "cell_type": "code",
   "source": [
    "lm = dspy.LM(f\"ollama/{MODEL}\", cache=False)\n",
    "dspy.settings.configure(lm=lm, track_usage=False)"
   ],
   "id": "702359e1953517b7",
   "outputs": [],
   "execution_count": 26
  },
  {
   "metadata": {
    "ExecuteTime": {
     "end_time": "2025-04-03T16:12:05.878933Z",
     "start_time": "2025-04-03T16:09:59.338572Z"
    }
   },
   "cell_type": "code",
   "source": [
    "from dspy.teleprompt import BootstrapFewShotWithRandomSearch\n",
    "from evaluation_helpers import validate_answer\n",
    "\n",
    "config = dict(\n",
    "    max_bootstrapped_demos=2,\n",
    "    max_labeled_demos=8,\n",
    "    num_candidate_programs=4,\n",
    "    num_threads=1,\n",
    "    max_errors=10,\n",
    ")\n",
    "\n",
    "teleprompter = BootstrapFewShotWithRandomSearch(metric=validate_answer, **config)\n",
    "optimized_program = teleprompter.compile(\n",
    "    sms_classifier, trainset=train_ds[:sample_size]\n",
    ")"
   ],
   "id": "fa0c630ee252e3d2",
   "outputs": [
    {
     "name": "stdout",
     "output_type": "stream",
     "text": [
      "Going to sample between 1 and 2 traces per predictor.\n",
      "Will attempt to bootstrap 4 candidate sets.\n",
      "Average Metric: 69.00 / 100 (69.0%): 100%|██████████| 100/100 [00:18<00:00,  5.40it/s]"
     ]
    },
    {
     "name": "stderr",
     "output_type": "stream",
     "text": [
      "2025/04/03 18:10:17 INFO dspy.evaluate.evaluate: Average Metric: 69 / 100 (69.0%)\n"
     ]
    },
    {
     "name": "stdout",
     "output_type": "stream",
     "text": [
      "\n",
      "New best score: 69.0 for seed -3\n",
      "Scores so far: [69.0]\n",
      "Best score so far: 69.0\n",
      "Average Metric: 85.00 / 100 (85.0%): 100%|██████████| 100/100 [00:14<00:00,  7.01it/s]"
     ]
    },
    {
     "name": "stderr",
     "output_type": "stream",
     "text": [
      "2025/04/03 18:10:32 INFO dspy.evaluate.evaluate: Average Metric: 85 / 100 (85.0%)\n"
     ]
    },
    {
     "name": "stdout",
     "output_type": "stream",
     "text": [
      "\n",
      "New best score: 85.0 for seed -2\n",
      "Scores so far: [69.0, 85.0]\n",
      "Best score so far: 85.0\n"
     ]
    },
    {
     "name": "stderr",
     "output_type": "stream",
     "text": [
      "  2%|▏         | 2/100 [00:02<01:58,  1.21s/it]\n"
     ]
    },
    {
     "name": "stdout",
     "output_type": "stream",
     "text": [
      "Bootstrapped 2 full traces after 2 examples for up to 1 rounds, amounting to 2 attempts.\n",
      "Average Metric: 79.00 / 100 (79.0%): 100%|██████████| 100/100 [00:17<00:00,  5.63it/s]"
     ]
    },
    {
     "name": "stderr",
     "output_type": "stream",
     "text": [
      "2025/04/03 18:10:52 INFO dspy.evaluate.evaluate: Average Metric: 79 / 100 (79.0%)\n"
     ]
    },
    {
     "name": "stdout",
     "output_type": "stream",
     "text": [
      "\n",
      "Scores so far: [69.0, 85.0, 79.0]\n",
      "Best score so far: 85.0\n"
     ]
    },
    {
     "name": "stderr",
     "output_type": "stream",
     "text": [
      "  3%|▎         | 3/100 [00:00<00:20,  4.81it/s]\n"
     ]
    },
    {
     "name": "stdout",
     "output_type": "stream",
     "text": [
      "Bootstrapped 2 full traces after 3 examples for up to 1 rounds, amounting to 3 attempts.\n",
      "Average Metric: 77.00 / 100 (77.0%): 100%|██████████| 100/100 [00:17<00:00,  5.72it/s]"
     ]
    },
    {
     "name": "stderr",
     "output_type": "stream",
     "text": [
      "2025/04/03 18:11:10 INFO dspy.evaluate.evaluate: Average Metric: 77 / 100 (77.0%)\n"
     ]
    },
    {
     "name": "stdout",
     "output_type": "stream",
     "text": [
      "\n",
      "Scores so far: [69.0, 85.0, 79.0, 77.0]\n",
      "Best score so far: 85.0\n"
     ]
    },
    {
     "name": "stderr",
     "output_type": "stream",
     "text": [
      "  1%|          | 1/100 [00:00<00:31,  3.14it/s]\n"
     ]
    },
    {
     "name": "stdout",
     "output_type": "stream",
     "text": [
      "Bootstrapped 1 full traces after 1 examples for up to 1 rounds, amounting to 1 attempts.\n",
      "Average Metric: 80.00 / 100 (80.0%): 100%|██████████| 100/100 [00:17<00:00,  5.58it/s]"
     ]
    },
    {
     "name": "stderr",
     "output_type": "stream",
     "text": [
      "2025/04/03 18:11:28 INFO dspy.evaluate.evaluate: Average Metric: 80 / 100 (80.0%)\n"
     ]
    },
    {
     "name": "stdout",
     "output_type": "stream",
     "text": [
      "\n",
      "Scores so far: [69.0, 85.0, 79.0, 77.0, 80.0]\n",
      "Best score so far: 85.0\n"
     ]
    },
    {
     "name": "stderr",
     "output_type": "stream",
     "text": [
      "  1%|          | 1/100 [00:00<00:32,  3.03it/s]\n"
     ]
    },
    {
     "name": "stdout",
     "output_type": "stream",
     "text": [
      "Bootstrapped 1 full traces after 1 examples for up to 1 rounds, amounting to 1 attempts.\n",
      "Average Metric: 35.00 / 100 (35.0%): 100%|██████████| 100/100 [00:17<00:00,  5.72it/s]"
     ]
    },
    {
     "name": "stderr",
     "output_type": "stream",
     "text": [
      "2025/04/03 18:11:46 INFO dspy.evaluate.evaluate: Average Metric: 35 / 100 (35.0%)\n"
     ]
    },
    {
     "name": "stdout",
     "output_type": "stream",
     "text": [
      "\n",
      "Scores so far: [69.0, 85.0, 79.0, 77.0, 80.0, 35.0]\n",
      "Best score so far: 85.0\n"
     ]
    },
    {
     "name": "stderr",
     "output_type": "stream",
     "text": [
      " 10%|█         | 10/100 [00:01<00:16,  5.46it/s]\n"
     ]
    },
    {
     "name": "stdout",
     "output_type": "stream",
     "text": [
      "Bootstrapped 1 full traces after 10 examples for up to 1 rounds, amounting to 10 attempts.\n",
      "Average Metric: 84.00 / 100 (84.0%): 100%|██████████| 100/100 [00:17<00:00,  5.73it/s]"
     ]
    },
    {
     "name": "stderr",
     "output_type": "stream",
     "text": [
      "2025/04/03 18:12:05 INFO dspy.evaluate.evaluate: Average Metric: 84 / 100 (84.0%)\n"
     ]
    },
    {
     "name": "stdout",
     "output_type": "stream",
     "text": [
      "\n",
      "Scores so far: [69.0, 85.0, 79.0, 77.0, 80.0, 35.0, 84.0]\n",
      "Best score so far: 85.0\n",
      "7 candidate programs found.\n"
     ]
    }
   ],
   "execution_count": 27
  },
  {
   "metadata": {
    "ExecuteTime": {
     "end_time": "2025-04-03T16:12:56.246229Z",
     "start_time": "2025-04-03T16:12:56.242676Z"
    }
   },
   "cell_type": "code",
   "source": [
    "optimized_program.save(\n",
    "    f\"{os.environ['EXERCISE_DIR']}/programs/sms_classifier-{MODEL}.json\"\n",
    ")"
   ],
   "id": "f5d4208d273facbe",
   "outputs": [],
   "execution_count": 29
  },
  {
   "metadata": {
    "ExecuteTime": {
     "end_time": "2025-04-03T16:13:26.310179Z",
     "start_time": "2025-04-03T16:13:26.307364Z"
    }
   },
   "cell_type": "code",
   "source": [
    "optimized_classifier = SMSClassifier()\n",
    "optimized_classifier.load(\n",
    "    f\"{os.environ['EXERCISE_DIR']}/programs/sms_classifier-{MODEL}.json\"\n",
    ")"
   ],
   "id": "3dd1ffbf4aa32f3a",
   "outputs": [],
   "execution_count": 31
  },
  {
   "metadata": {
    "ExecuteTime": {
     "end_time": "2025-04-03T16:13:36.462734Z",
     "start_time": "2025-04-03T16:13:36.418626Z"
    }
   },
   "cell_type": "code",
   "source": [
    "dataset = langfuse.get_dataset(\"sms_phishing_test\")\n",
    "from dspy import Example\n",
    "\n",
    "test_ds = []\n",
    "for item in dataset.items:\n",
    "    test_ds.append(\n",
    "        Example(sms_text=item.input, category=item.expected_output).with_inputs(\n",
    "            \"sms_text\"\n",
    "        )\n",
    "    )"
   ],
   "id": "ae4584ba29e0ac7e",
   "outputs": [],
   "execution_count": 32
  },
  {
   "metadata": {
    "ExecuteTime": {
     "end_time": "2025-04-03T16:22:18.272306Z",
     "start_time": "2025-04-03T16:22:02.411320Z"
    }
   },
   "cell_type": "code",
   "source": [
    "models = [MODEL]\n",
    "classes = [\"ham\", \"spam\", \"smishing\"]\n",
    "ape_run_id = uuid.uuid1()\n",
    "run_evaluation(models, optimized_classifier, test_ds, classes, ape_run_id, prefix=\"ape\")"
   ],
   "id": "7708913c901e244e",
   "outputs": [
    {
     "name": "stdout",
     "output_type": "stream",
     "text": [
      "Average Metric: 85.00 / 100 (85.0%): 100%|██████████| 100/100 [00:15<00:00,  6.31it/s]\n"
     ]
    }
   ],
   "execution_count": 39
  },
  {
   "metadata": {
    "ExecuteTime": {
     "end_time": "2025-04-03T16:22:26.533051Z",
     "start_time": "2025-04-03T16:22:24.717046Z"
    }
   },
   "cell_type": "code",
   "source": [
    "metrics_ape = get_all_metric(models, ape_run_id, classes, prefix=\"ape\")\n",
    "metrics_ape"
   ],
   "id": "af9aac37bf7ed377",
   "outputs": [
    {
     "data": {
      "text/plain": [
       "{'gemma3:1b': {'precision': 0.6156462585034014,\n",
       "  'recall': 0.3888888888888889,\n",
       "  'f1': 0.40094711917916337}}"
      ]
     },
     "execution_count": 41,
     "metadata": {},
     "output_type": "execute_result"
    }
   ],
   "execution_count": 41
  },
  {
   "metadata": {
    "ExecuteTime": {
     "end_time": "2025-04-03T16:22:32.836922Z",
     "start_time": "2025-04-03T16:22:32.833586Z"
    }
   },
   "cell_type": "code",
   "source": [
    "optimized_classifier = SMSClassifier()\n",
    "optimized_classifier.load(\n",
    "    f\"{os.environ['EXERCISE_DIR']}/programs/sms_classifier-gemma3:1b-100ex-16p.json\"\n",
    ")"
   ],
   "id": "f7fd73125da1170c",
   "outputs": [
    {
     "name": "stderr",
     "output_type": "stream",
     "text": [
      "2025/04/03 18:22:32 WARNING dspy.primitives.module: There is a mismatch of python version between saved model and current environment. You saved with `python==3.12`, but now you have `python==3.11`. This might cause errors or performance downgrade on the loaded model, please consider loading the model in the same environment as the saving environment.\n"
     ]
    }
   ],
   "execution_count": 42
  },
  {
   "metadata": {
    "ExecuteTime": {
     "end_time": "2025-04-03T16:23:02.530582Z",
     "start_time": "2025-04-03T16:22:43.697163Z"
    }
   },
   "cell_type": "code",
   "source": [
    "run_evaluation(\n",
    "    models, optimized_classifier, test_ds, classes, ape_run_id, prefix=\"ape-100ex-16p\"\n",
    ")"
   ],
   "id": "7f0f45cb34215d1d",
   "outputs": [
    {
     "name": "stdout",
     "output_type": "stream",
     "text": [
      "Average Metric: 93.00 / 100 (93.0%): 100%|██████████| 100/100 [00:18<00:00,  5.32it/s]\n"
     ]
    }
   ],
   "execution_count": 43
  },
  {
   "metadata": {
    "ExecuteTime": {
     "end_time": "2025-04-03T16:23:27.295769Z",
     "start_time": "2025-04-03T16:23:25.493153Z"
    }
   },
   "cell_type": "code",
   "source": [
    "metrics_ape_16p = get_all_metric(models, ape_run_id, classes, prefix=\"ape-100ex-16p\")\n",
    "metrics_ape_16p"
   ],
   "id": "64a3ade728a96559",
   "outputs": [
    {
     "data": {
      "text/plain": [
       "{'gemma3:1b': {'precision': 0.5598006644518273,\n",
       "  'recall': 0.6111111111111112,\n",
       "  'f1': 0.5838264299802761}}"
      ]
     },
     "execution_count": 46,
     "metadata": {},
     "output_type": "execute_result"
    }
   ],
   "execution_count": 46
  },
  {
   "metadata": {
    "ExecuteTime": {
     "end_time": "2025-04-03T16:25:52.271447Z",
     "start_time": "2025-04-03T16:25:52.269031Z"
    }
   },
   "cell_type": "code",
   "source": [
    "metrics_baseline[\"gemma3:1b-ape\"] = metrics_ape[\"gemma3:1b\"]\n",
    "metrics_baseline[\"gemma3:1b-ape-100ex-16p\"] = metrics_ape_16p[\"gemma3:1b\"]"
   ],
   "id": "ff246e92a6e67807",
   "outputs": [],
   "execution_count": 48
  },
  {
   "metadata": {
    "ExecuteTime": {
     "end_time": "2025-04-03T16:27:45.750848Z",
     "start_time": "2025-04-03T16:27:45.687671Z"
    }
   },
   "cell_type": "code",
   "source": [
    "plot_metrics(\n",
    "    metrics_baseline,\n",
    "    [\"Precision (macro)\", \"Recall(macro)\", \"F1(macro)\"],\n",
    "    \"Scores by model before and after prompt optimization \",\n",
    ")"
   ],
   "id": "10d192cfa982a26e",
   "outputs": [
    {
     "data": {
      "text/plain": [
       "<Figure size 1200x500 with 1 Axes>"
      ],
      "image/png": "[encoded data removed]"
     },
     "metadata": {},
     "output_type": "display_data"
    }
   ],
   "execution_count": 50
  },
  {
   "metadata": {},
   "cell_type": "markdown",
   "source": "### Langfuse evaluation",
   "id": "aa7d88b202d7e36e"
  },
  {
   "metadata": {},
   "cell_type": "markdown",
   "source": "## Fine-tuning using LoRA method",
   "id": "c8959f47cefa2907"
  },
  {
   "metadata": {},
   "cell_type": "markdown",
   "source": "### Prepare training dataset",
   "id": "bb86589a3a7694a5"
  },
  {
   "metadata": {
    "ExecuteTime": {
     "end_time": "2025-04-04T03:50:38.037593Z",
     "start_time": "2025-04-04T03:50:38.034942Z"
    }
   },
   "cell_type": "code",
   "source": [
    "from jinja2 import Template\n",
    "\n",
    "system_content_str = \"\"\"\n",
    "    Your input fields are:\n",
    "    1. `sms_text` (str)\n",
    "\n",
    "    Your output fields are:\n",
    "    1. `category` (Literal['ham', 'spam', 'smishing'])\n",
    "\n",
    "    All interactions will be structured in the following way, with the appropriate values filled in.\n",
    "\n",
    "    Inputs will have the following structure:\n",
    "\n",
    "    [[ ## sms_text ## ]]\n",
    "    {sms_text}\n",
    "\n",
    "    Outputs will be a JSON object with the following fields.\n",
    "\n",
    "    {\n",
    "      \"category\": \"{category}        # note: the value you produce must be one of: ham; spam; smishing\"\n",
    "    }\n",
    "\n",
    "    In adhering to this structure, your objective is:\n",
    "            Given an SMS text, predict whether it is ham, spam, or smishing.\n",
    "            Output only the predicted label.\n",
    "        \"\"\"\n",
    "\n",
    "\n",
    "user_content_str = \"\"\"\n",
    "    [ ## sms_text ## ]]\n",
    "    {{ sms_text }}\n",
    "\n",
    "    Respond with a JSON object in the following order of fields: `category` (must be formatted as a valid Python Literal['ham', 'spam', 'smishing']).\n",
    "\"\"\"\n",
    "\n",
    "predict_str = \"\"\"\n",
    "```json\n",
    "{\n",
    "  \"category\": {{ predicted_label | tojson }}\n",
    "}\n",
    "```\n",
    "\"\"\"\n",
    "\n",
    "\n",
    "template_chat_str = \"\"\"\n",
    "{\n",
    "  \"messages\": [\n",
    "    {\n",
    "      \"role\": \"system\",\n",
    "      \"content\": {{ system_prompt | tojson }}\n",
    "    },\n",
    "    {\n",
    "      \"role\": \"user\",\n",
    "      \"content\": {{ user_prompt | tojson}}\n",
    "    },\n",
    "    {\n",
    "      \"role\": \"assistant\",\n",
    "      \"content\": {{ predict | tojson }}\n",
    "    }\n",
    "  ]\n",
    "}\n",
    "\"\"\"\n",
    "\n",
    "template_complete_str = \"\"\"\n",
    "{\n",
    "  \"prompt\": \"Given an SMS text, predict whether it is ham, spam, or smishing.Output only the predicted label: {{ sms_text }}\",\n",
    "  \"completion\": \"{{ predicted_label }}\"\n",
    "}\n",
    "\"\"\""
   ],
   "id": "b1c83334e9c25dd2",
   "outputs": [],
   "execution_count": 65
  },
  {
   "metadata": {
    "ExecuteTime": {
     "end_time": "2025-04-04T04:30:35.092745Z",
     "start_time": "2025-04-04T04:30:33.436131Z"
    }
   },
   "cell_type": "code",
   "source": [
    "import json\n",
    "\n",
    "system_template = Template(system_content_str)\n",
    "user_template = Template(user_content_str)\n",
    "predict_template = Template(predict_str)\n",
    "template_chat = Template(template_chat_str)\n",
    "dataset = langfuse.get_dataset(\"sms_phishing_train\")\n",
    "data = []\n",
    "for item in dataset.items:\n",
    "    data.append(\n",
    "        template_chat.render(\n",
    "            system_prompt=system_template.render(\n",
    "                sms_text=item.input, category=item.expected_output\n",
    "            ),\n",
    "            user_prompt=user_template.render(sms_text=item.input),\n",
    "            predict=predict_template.render(predicted_label=item.expected_output),\n",
    "        )\n",
    "    )\n",
    "\n",
    "with open(f\"{os.environ['EXERCISE_DIR']}/data/train/train.jsonl\", \"w\") as f:\n",
    "    for record in data:\n",
    "        try:\n",
    "            parsed = json.loads(record)\n",
    "            json_record = json.dumps(parsed)\n",
    "            f.write(json_record + \"\\n\")\n",
    "        except json.JSONDecodeError as e:\n",
    "            pass"
   ],
   "id": "bb24265057a8b795",
   "outputs": [],
   "execution_count": 71
  },
  {
   "metadata": {
    "ExecuteTime": {
     "end_time": "2025-04-04T04:30:27.385542Z",
     "start_time": "2025-04-04T04:30:27.348794Z"
    }
   },
   "cell_type": "code",
   "source": [
    "dataset = langfuse.get_dataset(\"sms_phishing_val\")\n",
    "data = []\n",
    "for item in dataset.items:\n",
    "    data.append(\n",
    "        template_chat.render(\n",
    "            system_prompt=system_template.render(\n",
    "                sms_text=item.input, category=item.expected_output\n",
    "            ),\n",
    "            user_prompt=user_template.render(sms_text=item.input),\n",
    "            predict=predict_template.render(predicted_label=item.expected_output),\n",
    "        )\n",
    "    )\n",
    "\n",
    "with open(f\"{os.environ['EXERCISE_DIR']}/data/train/valid.jsonl\", \"w\") as f:\n",
    "    for record in data:\n",
    "        try:\n",
    "            parsed = json.loads(record)\n",
    "            json_record = json.dumps(parsed)\n",
    "            f.write(json_record + \"\\n\")\n",
    "        except json.JSONDecodeError as e:\n",
    "            pass"
   ],
   "id": "56da1830c0e609ca",
   "outputs": [],
   "execution_count": 70
  },
  {
   "metadata": {},
   "cell_type": "code",
   "outputs": [],
   "execution_count": null,
   "source": "! ollama pull getindata/gemma3:1b-it-llmops-q4_K_M\"",
   "id": "f779ce1f6d1313fa"
  },
  {
   "metadata": {
    "ExecuteTime": {
     "end_time": "2025-04-03T16:38:13.110890Z",
     "start_time": "2025-04-03T16:38:13.109260Z"
    }
   },
   "cell_type": "code",
   "outputs": [],
   "execution_count": 60,
   "source": "model = \"getindata/gemma3:1b-it-llmops-q4_K_M\"",
   "id": "fd001e77fec7dc63"
  },
  {
   "metadata": {
    "ExecuteTime": {
     "end_time": "2025-04-03T16:36:52.558544Z",
     "start_time": "2025-04-03T16:35:22.104508Z"
    }
   },
   "cell_type": "code",
   "outputs": [
    {
     "name": "stdout",
     "output_type": "stream",
     "text": [
      "Average Metric: 93.00 / 100 (93.0%): 100%|██████████| 100/100 [01:30<00:00,  1.11it/s]\n"
     ]
    }
   ],
   "execution_count": 58,
   "source": [
    "ft_run_id = uuid.uuid1()\n",
    "models = [model]\n",
    "sms_classifier = SMSClassifier()\n",
    "run_evaluation(models, sms_classifier, test_ds, classes, ft_run_id, prefix=\"fine-tune\")"
   ],
   "id": "f8085c43ef270906"
  },
  {
   "metadata": {
    "ExecuteTime": {
     "end_time": "2025-04-03T16:37:00.936857Z",
     "start_time": "2025-04-03T16:36:59.051806Z"
    }
   },
   "cell_type": "code",
   "outputs": [
    {
     "data": {
      "text/plain": [
       "{'getindata/gemma3:1b-it-llmops-q4_K_M': {'precision': 0.8771929824561404,\n",
       "  'recall': 0.721285140562249,\n",
       "  'f1': 0.6963739912483233}}"
      ]
     },
     "execution_count": 59,
     "metadata": {},
     "output_type": "execute_result"
    }
   ],
   "execution_count": 59,
   "source": [
    "metrics_ft = get_all_metric(models, ft_run_id, classes, prefix=\"fine-tune\")\n",
    "metrics_ft"
   ],
   "id": "5309431409071bec"
  },
  {
   "metadata": {
    "ExecuteTime": {
     "end_time": "2025-04-03T16:38:27.696770Z",
     "start_time": "2025-04-03T16:38:27.694590Z"
    }
   },
   "cell_type": "code",
   "outputs": [],
   "execution_count": 61,
   "source": "metrics_baseline[\"gemma3:1b-ft\"] = metrics_ft[model]",
   "id": "4a7f044595a0f0ed"
  },
  {
   "metadata": {
    "ExecuteTime": {
     "end_time": "2025-04-03T16:41:20.507950Z",
     "start_time": "2025-04-03T16:41:20.446946Z"
    }
   },
   "cell_type": "code",
   "outputs": [
    {
     "data": {
      "text/plain": [
       "<Figure size 1200x500 with 1 Axes>"
      ],
      "image/png": "[encoded data removed]"
     },
     "metadata": {},
     "output_type": "display_data"
    }
   ],
   "execution_count": 63,
   "source": [
    "plot_metrics(\n",
    "    metrics_baseline,\n",
    "    [\"Precision (macro)\", \"Recall(macro)\", \"F1(macro)\"],\n",
    "    \"Scores by model before and after prompt optimization and fine-tuning\",\n",
    ")"
   ],
   "id": "5f3a0b5e0a6f9e47"
  }
 ],
 "metadata": {
  "kernelspec": {
   "display_name": "Python 3",
   "language": "python",
   "name": "python3"
  },
  "language_info": {
   "codemirror_mode": {
    "name": "ipython",
    "version": 2
   },
   "file_extension": ".py",
   "mimetype": "text/x-python",
   "name": "python",
   "nbconvert_exporter": "python",
   "pygments_lexer": "ipython2",
   "version": "2.7.6"
  }
 },
 "nbformat": 4,
 "nbformat_minor": 5
}
