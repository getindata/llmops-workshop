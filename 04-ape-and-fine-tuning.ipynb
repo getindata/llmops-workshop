{
 "cells": [
  {
   "cell_type": "markdown",
   "id": "0",
   "metadata": {},
   "source": "## Setup the environment"
  },
  {
   "cell_type": "markdown",
   "id": "1",
   "metadata": {},
   "source": [
    "### Clone repository"
   ]
  },
  {
   "cell_type": "code",
   "id": "2",
   "metadata": {
    "ExecuteTime": {
     "end_time": "2025-04-03T15:47:22.118672Z",
     "start_time": "2025-04-03T15:47:22.112408Z"
    }
   },
   "source": [
    "%env EXERCISE_NAME=04-ape-and-fine-tuning\n",
    "%env REPO_NAME=llmops-workshop"
   ],
   "outputs": [
    {
     "name": "stdout",
     "output_type": "stream",
     "text": [
      "env: EXERCISE_NAME=04-ape-and-fine-tuning\n",
      "env: REPO_NAME=llmops-workshop\n"
     ]
    }
   ],
   "execution_count": 1
  },
  {
   "cell_type": "code",
   "id": "3",
   "metadata": {
    "ExecuteTime": {
     "end_time": "2025-04-03T15:47:23.951953Z",
     "start_time": "2025-04-03T15:47:23.294468Z"
    }
   },
   "source": [
    "! echo \"Cloning the repository...${REPO_NAME}\""
   ],
   "outputs": [
    {
     "name": "stdout",
     "output_type": "stream",
     "text": [
      "Cloning the repository...llmops-workshop\r\n"
     ]
    }
   ],
   "execution_count": 2
  },
  {
   "cell_type": "code",
   "id": "4",
   "metadata": {},
   "source": [
    "# ! git clone https://github.com/getindata/$REPO_NAME.git"
   ],
   "outputs": [],
   "execution_count": null
  },
  {
   "cell_type": "code",
   "id": "6",
   "metadata": {
    "ExecuteTime": {
     "end_time": "2025-04-03T15:47:25.590053Z",
     "start_time": "2025-04-03T15:47:25.587859Z"
    }
   },
   "source": [
    "def is_colab():\n",
    "    try:\n",
    "        import google.colab  # noqa: F401\n",
    "\n",
    "        return True\n",
    "    except ImportError:\n",
    "        return False"
   ],
   "outputs": [],
   "execution_count": 3
  },
  {
   "metadata": {},
   "cell_type": "markdown",
   "source": "### Prepare environment variables, Python modules search path and install dependencies",
   "id": "5e01829a28795c2f"
  },
  {
   "cell_type": "code",
   "id": "7",
   "metadata": {
    "ExecuteTime": {
     "end_time": "2025-04-03T15:47:27.375804Z",
     "start_time": "2025-04-03T15:47:27.287691Z"
    }
   },
   "source": [
    "import os\n",
    "if is_colab():\n",
    "    os.environ[\"EXERCISE_ROOT\"] = f\"/content/${os.environ['REPO_NAME']}/exercises\"\n",
    "    os.environ[\"EXERCISE_RUN\"] = \"colab\"\n",
    "else:\n",
    "    os.environ[\"EXERCISE_ROOT\"] = f\"{os.getcwd()}/exercises\"\n",
    "    os.environ[\"EXERCISE_RUN\"] = \"local\"\n",
    "\n",
    "os.environ['EXERCISE_DIR'] = f\"{os.environ['EXERCISE_ROOT']}/{os.environ['EXERCISE_NAME']}\"\n",
    "get_ipython().run_line_magic(\"run\", f\"{os.environ['EXERCISE_ROOT']}/shared/setup/__setup_{os.environ['EXERCISE_RUN']}.ipynb\")"
   ],
   "outputs": [
    {
     "name": "stdout",
     "output_type": "stream",
     "text": [
      "/Users/mwiewior/research/git/llmops-workshop/exercises/04-ape-and-fine-tuning\n"
     ]
    }
   ],
   "execution_count": 4
  },
  {
   "cell_type": "code",
   "id": "8",
   "metadata": {
    "ExecuteTime": {
     "end_time": "2025-04-03T15:47:29.392480Z",
     "start_time": "2025-04-03T15:47:29.390547Z"
    }
   },
   "source": [
    "import sys\n",
    "\n",
    "sys.path.append(f\"{os.environ['EXERCISE_DIR']}/src\")"
   ],
   "outputs": [],
   "execution_count": 5
  },
  {
   "metadata": {},
   "cell_type": "code",
   "source": [
    "%pip install -r {os.environ['EXERCISE_DIR']}/requirements.txt"
   ],
   "id": "e0a10d082b948c48",
   "outputs": [],
   "execution_count": null
  },
  {
   "cell_type": "markdown",
   "id": "9",
   "metadata": {},
   "source": [
    "### Langfuse connection"
   ]
  },
  {
   "metadata": {
    "ExecuteTime": {
     "end_time": "2025-04-03T15:47:31.582445Z",
     "start_time": "2025-04-03T15:47:31.579298Z"
    }
   },
   "cell_type": "code",
   "source": [
    "import base64\n",
    "import os\n",
    "\n",
    "os.environ[\"LANGFUSE_PUBLIC_KEY\"] = \"pk-lf-005b77e6-7931-475e-85bd-46ec47e5201d\"\n",
    "os.environ[\"LANGFUSE_SECRET_KEY\"] = \"sk-lf-8b31ee9a-2c89-4c47-a37a-ec084d735170\"\n",
    "os.environ[\"LANGFUSE_HOST\"] = \"http://localhost:3000\"\n",
    "os.environ[\"LANGFUSE_AUTH\"] = base64.b64encode(\n",
    "    f\"{os.environ['LANGFUSE_PUBLIC_KEY']}:{os.environ['LANGFUSE_SECRET_KEY']}\".encode()\n",
    ").decode()\n",
    "os.environ[\"OTEL_EXPORTER_OTLP_TRACES_ENDPOINT\"] = (\n",
    "    f\"{os.environ['LANGFUSE_HOST']}/api/public/otel/v1/traces\"\n",
    ")\n",
    "os.environ[\"OTEL_EXPORTER_OTLP_TRACES_HEADERS\"] = (\n",
    "    f\"Authorization=Basic {os.environ['LANGFUSE_AUTH']}\"\n",
    ")\n",
    "os.environ[\"OTEL_EXPORTER_OTLP_TRACES_PROTOCOL\"] = \"http/protobuf\""
   ],
   "id": "5cd3d8737ee1e4fa",
   "outputs": [],
   "execution_count": 6
  },
  {
   "cell_type": "code",
   "id": "11",
   "metadata": {
    "ExecuteTime": {
     "end_time": "2025-04-03T15:47:34.764019Z",
     "start_time": "2025-04-03T15:47:34.423377Z"
    }
   },
   "source": [
    "from langfuse import Langfuse\n",
    "\n",
    "langfuse = Langfuse()"
   ],
   "outputs": [],
   "execution_count": 7
  },
  {
   "metadata": {},
   "cell_type": "markdown",
   "source": "## Data preparation",
   "id": "78525e28251666e5"
  },
  {
   "metadata": {
    "ExecuteTime": {
     "end_time": "2025-04-03T15:47:36.008244Z",
     "start_time": "2025-04-03T15:47:35.866393Z"
    }
   },
   "cell_type": "code",
   "source": [
    "import polars as pl\n",
    "\n",
    "df = pl.read_csv(f\"{os.environ['EXERCISE_DIR']}/data/input/sms_phishing.csv\")\n",
    "datasets = []\n",
    "for r in df.iter_rows(named=True):\n",
    "    datasets.append({\"input\": r[\"TEXT\"], \"expected_output\": r[\"LABEL\"].lower()})"
   ],
   "id": "45e53f1a313df65d",
   "outputs": [],
   "execution_count": 8
  },
  {
   "metadata": {},
   "cell_type": "code",
   "source": [
    "TRAIN_PCT = 0.9666\n",
    "VAL_PCT = 0.0167\n",
    "TEST_PCT = 0.0167\n",
    "train_ds = datasets[: int(len(datasets) * TRAIN_PCT)]\n",
    "val_ds = datasets[\n",
    "    int(len(datasets) * TRAIN_PCT) : int(len(datasets) * (TRAIN_PCT + VAL_PCT))\n",
    "]\n",
    "test_ds = datasets[int(len(datasets) * (TRAIN_PCT + VAL_PCT)) :]\n",
    "len(train_ds), len(val_ds), len(test_ds)"
   ],
   "id": "fa7a58734a8c53d1",
   "outputs": [],
   "execution_count": null
  },
  {
   "metadata": {},
   "cell_type": "markdown",
   "source": "### Create Langfuse datasets\n",
   "id": "ffd0d64045f2cfa0"
  },
  {
   "metadata": {},
   "cell_type": "code",
   "source": [
    "def create_dataset(name: str, ds: list):\n",
    "    langfuse.create_dataset(name=name)\n",
    "    for item in ds:\n",
    "        langfuse.create_dataset_item(\n",
    "            dataset_name=name,\n",
    "            input=item[\"input\"],\n",
    "            expected_output=item[\"expected_output\"],\n",
    "        )"
   ],
   "id": "fc17398eff3f193",
   "outputs": [],
   "execution_count": null
  },
  {
   "metadata": {},
   "cell_type": "code",
   "source": [
    "create_dataset(\"sms_phishing_train\", train_ds)\n",
    "create_dataset(\"sms_phishing_val\", val_ds)\n",
    "create_dataset(\"sms_phishing_test\", test_ds)"
   ],
   "id": "2d8d819e82c46432",
   "outputs": [],
   "execution_count": null
  },
  {
   "metadata": {},
   "cell_type": "markdown",
   "source": "## Register the prompt",
   "id": "38a5aab88d8a47bc"
  },
  {
   "metadata": {},
   "cell_type": "code",
   "source": [
    "langfuse.create_prompt(\n",
    "    name=\"sms-classifier\",\n",
    "    type=\"text\",\n",
    "    prompt=\" Given an SMS text, classify whether it is 'ham', 'spam', or 'smishing'. Output only the predicted category.\",\n",
    "    labels=[\"sandbox\"],\n",
    "    tags=[\"sms\", \"dspy\", \"classifier\"],\n",
    ")"
   ],
   "id": "8f206fbbcf297541",
   "outputs": [],
   "execution_count": null
  },
  {
   "metadata": {},
   "cell_type": "markdown",
   "source": "## Create a SMSClassifier module with DSPy",
   "id": "6fc45200fcc7c7ea"
  },
  {
   "metadata": {},
   "cell_type": "markdown",
   "source": [
    "### Configure which LLM to use (Ollama Gemma3)\n",
    "DSpy uses [LiteLLM](https://www.litellm.ai/) to abstract the LLM provider."
   ],
   "id": "26b669fdf395ae95"
  },
  {
   "metadata": {
    "ExecuteTime": {
     "end_time": "2025-04-03T15:47:42.559585Z",
     "start_time": "2025-04-03T15:47:41.519325Z"
    }
   },
   "cell_type": "code",
   "source": [
    "import dspy\n",
    "\n",
    "MODEL = \"gemma3:1b\"\n",
    "\n",
    "lm = dspy.LM(f\"ollama/{MODEL}\", cache=False, num_retries=5)\n",
    "dspy.settings.configure(lm=lm, track_usage=False)"
   ],
   "id": "d26972a0d99036aa",
   "outputs": [],
   "execution_count": 9
  },
  {
   "metadata": {},
   "cell_type": "markdown",
   "source": "### Configuring DSPy traces with OpenTelemetry using MLflow client",
   "id": "6a77100f1f812262"
  },
  {
   "metadata": {
    "ExecuteTime": {
     "end_time": "2025-04-03T15:47:50.455971Z",
     "start_time": "2025-04-03T15:47:49.323905Z"
    }
   },
   "cell_type": "code",
   "source": [
    "import mlflow\n",
    "\n",
    "mlflow.dspy.autolog()"
   ],
   "id": "fe84cb23d7d3a625",
   "outputs": [],
   "execution_count": 11
  },
  {
   "metadata": {},
   "cell_type": "code",
   "source": [
    "import logging\n",
    "\n",
    "logger = logging.getLogger(\"mlflow\")\n",
    "logger.setLevel(logging.INFO)"
   ],
   "id": "ec97b3cc32915b85",
   "outputs": [],
   "execution_count": null
  },
  {
   "metadata": {},
   "cell_type": "code",
   "source": [
    "lm(\"Hello world!\")"
   ],
   "id": "4525740cf90ce706",
   "outputs": [],
   "execution_count": null
  },
  {
   "metadata": {},
   "cell_type": "markdown",
   "source": [
    "### Create a DSPy\n",
    "1. We first create a Signature that defines the schema of the input and output of the module and well as the default instructions.\n",
    "2. Then we create a Module that combines the Signature with the prompting strategy, such Chain of Thought, ReAct, .\n"
   ],
   "id": "679d5b5351a360e3"
  },
  {
   "metadata": {
    "ExecuteTime": {
     "end_time": "2025-04-03T15:47:52.247715Z",
     "start_time": "2025-04-03T15:47:52.244107Z"
    }
   },
   "cell_type": "code",
   "source": [
    "from typing import Literal\n",
    "\n",
    "import dspy\n",
    "\n",
    "\n",
    "class SMSClassifierSignature(dspy.Signature):\n",
    "    \"\"\"\n",
    "    Given an SMS text, predict whether it is ham, spam, or smishing.\n",
    "    Output only the predicted label.\n",
    "    \"\"\"\n",
    "\n",
    "    sms_text: str = dspy.InputField()\n",
    "    category: Literal[\"ham\", \"spam\", \"smishing\"] = dspy.OutputField()\n",
    "\n",
    "\n",
    "class SMSClassifier(dspy.Module):\n",
    "    def __init__(self):\n",
    "        super().__init__()\n",
    "        self.generate_answer = dspy.Predict(SMSClassifierSignature)\n",
    "\n",
    "    @mlflow.trace\n",
    "    def forward(self, sms_text):\n",
    "        return self.generate_answer(sms_text=sms_text)"
   ],
   "id": "eee6565f12556d70",
   "outputs": [],
   "execution_count": 12
  },
  {
   "metadata": {
    "ExecuteTime": {
     "end_time": "2025-04-03T15:48:11.877457Z",
     "start_time": "2025-04-03T15:48:11.875439Z"
    }
   },
   "cell_type": "code",
   "source": [
    "sms_classifier = SMSClassifier()"
   ],
   "id": "a55cd053e02ea30a",
   "outputs": [],
   "execution_count": 15
  },
  {
   "metadata": {},
   "cell_type": "markdown",
   "source": "### Change the default instructions",
   "id": "97d55919f2525b60"
  },
  {
   "metadata": {},
   "cell_type": "code",
   "source": [
    "SMSClassifierSignature.__doc__ = langfuse.get_prompt(\n",
    "    name=\"sms-classifier\", version=2\n",
    ").compile()\n",
    "sms_classifier = SMSClassifier()"
   ],
   "id": "b6bd02ffa078b1b9",
   "outputs": [],
   "execution_count": null
  },
  {
   "metadata": {},
   "cell_type": "code",
   "source": [
    "sms_classifier(sms_text=\"Sorry i missed your call. Can you please call back.\")"
   ],
   "id": "6498821bd95ad663",
   "outputs": [],
   "execution_count": null
  },
  {
   "metadata": {},
   "cell_type": "code",
   "source": [
    "sms_classifier(\n",
    "    sms_text=\"We have received a request from you for purchasing Paytm Payments Bank FASTag. Total amount to be paid is Rs 250/- (Tag Cost Rs. 100 Security Deposit Rs. 0, Threshold -Rs. 150). In case of any queries, please contact us at https://m.paytm.me/fastag-help\"\n",
    ")"
   ],
   "id": "e22fdbdc1e24be41",
   "outputs": [],
   "execution_count": null
  },
  {
   "metadata": {},
   "cell_type": "code",
   "source": [
    "# wrong should be categorized as spam\n",
    "sms_classifier(\n",
    "    sms_text=\"Rental  Helpline  9999991155 1000-100, 000 sq.ft. In Noida & Gr.Noida  OFFICE & INDUSTRIAL Use Goldenberg estates pvt.ltd. sandeep@goldenberg.in 999 999 115\"\n",
    ")"
   ],
   "id": "ebab19cc90678a3a",
   "outputs": [],
   "execution_count": null
  },
  {
   "metadata": {},
   "cell_type": "code",
   "source": [
    "lm.inspect_history(n=1)"
   ],
   "id": "fdf3f9c4acb32ddf",
   "outputs": [],
   "execution_count": null
  },
  {
   "metadata": {},
   "cell_type": "markdown",
   "source": "## Run evaluation on the test dataset",
   "id": "13aef0cdea334211"
  },
  {
   "metadata": {},
   "cell_type": "markdown",
   "source": "### Pull the models",
   "id": "363ecdeb454bace"
  },
  {
   "metadata": {},
   "cell_type": "code",
   "source": [
    "%%bash\n",
    "models=(\"gemma3:1b\" \"qwen2.5:1.5b\" \"qwen2.5:14b\" \"gemma3:12b\")\n",
    "for model in \"${models[@]}\"; do\n",
    "echo \"Pulling model: $model\"\n",
    "ollama pull \"$model\"\n",
    "done\n"
   ],
   "id": "48cb61b91291731d",
   "outputs": [],
   "execution_count": null
  },
  {
   "metadata": {},
   "cell_type": "markdown",
   "source": "### Prepare the test dataset",
   "id": "63db49b88af814de"
  },
  {
   "metadata": {
    "ExecuteTime": {
     "end_time": "2025-04-03T15:48:16.517766Z",
     "start_time": "2025-04-03T15:48:16.475273Z"
    }
   },
   "cell_type": "code",
   "source": [
    "dataset = langfuse.get_dataset(\"sms_phishing_test\")\n",
    "from dspy import Example\n",
    "\n",
    "test_ds = []\n",
    "for item in dataset.items:\n",
    "    test_ds.append(\n",
    "        Example(sms_text=item.input, category=item.expected_output).with_inputs(\n",
    "            \"sms_text\"\n",
    "        )\n",
    "    )"
   ],
   "id": "227fff96ea53868a",
   "outputs": [],
   "execution_count": 16
  },
  {
   "metadata": {
    "ExecuteTime": {
     "end_time": "2025-04-03T16:21:54.728287Z",
     "start_time": "2025-04-03T16:18:28.343351Z"
    }
   },
   "cell_type": "code",
   "source": [
    "import uuid\n",
    "from evaluation_helpers import plot_metrics, run_evaluation\n",
    "\n",
    "baseline_run_id = \"uuid.uuid1()\"\n",
    "\n",
    "models = [\n",
    "    \"gemma3:1b\",\n",
    "    \"qwen2.5:1.5b\",\n",
    "    \"qwen2.5:14b\",\n",
    "    \"gemma3:12b\",\n",
    "]\n",
    "\n",
    "\n",
    "# full run (if you would like to run all models - remember to pull them first)\n",
    "# models = [\n",
    "#         \"smollm2:360m\", \"smollm2:1.7b\",\n",
    "#         \"qwen2.5:0.5b\", \"qwen2.5:1.5b\",\n",
    "#         \"gemma3:1b\", \"gemma3:4b\", \"granite3.2:2b\",\n",
    "#         \"gemma3:12b\", \"qwen2.5:14b\", \"phi4:14b\"\n",
    "# ]\n",
    "\n",
    "classes = [\"ham\", \"spam\", \"smishing\"]\n",
    "\n",
    "run_evaluation(\n",
    "    models, sms_classifier, test_ds, classes, baseline_run_id, prefix=\"baseline\"\n",
    ")"
   ],
   "id": "c3a25f27790d6f93",
   "outputs": [
    {
     "name": "stdout",
     "output_type": "stream",
     "text": [
      "Average Metric: 15.00 / 100 (15.0%): 100%|██████████| 100/100 [00:18<00:00,  5.54it/s]\n",
      "Average Metric: 36.00 / 100 (36.0%): 100%|██████████| 100/100 [00:34<00:00,  2.88it/s]\n",
      "Average Metric: 87.00 / 100 (87.0%): 100%|██████████| 100/100 [01:14<00:00,  1.35it/s]\n",
      "Average Metric: 78.00 / 100 (78.0%): 100%|██████████| 100/100 [01:19<00:00,  1.26it/s]\n"
     ]
    }
   ],
   "execution_count": 36
  },
  {
   "metadata": {
    "ExecuteTime": {
     "end_time": "2025-04-03T16:22:02.339059Z",
     "start_time": "2025-04-03T16:21:54.741612Z"
    }
   },
   "cell_type": "code",
   "source": [
    "from evaluation_helpers import get_all_metric\n",
    "\n",
    "metrics_baseline = get_all_metric(models, baseline_run_id, classes, prefix=\"baseline\")"
   ],
   "id": "14b8b8fb44df9093",
   "outputs": [],
   "execution_count": 37
  },
  {
   "metadata": {
    "ExecuteTime": {
     "end_time": "2025-04-03T16:22:02.404937Z",
     "start_time": "2025-04-03T16:22:02.345965Z"
    }
   },
   "cell_type": "code",
   "source": [
    "plot_metrics(\n",
    "    metrics_baseline,\n",
    "    [\"Precision (macro)\", \"Recall(macro)\", \"F1(macro)\"],\n",
    "    \"Scores by model before prompt optimization and fine-tuning\",\n",
    ")"
   ],
   "id": "6eddca6432210648",
   "outputs": [
    {
     "data": {
      "text/plain": [
       "<Figure size 1200x500 with 1 Axes>"
      ],
      "image/png": "[encoded data removed]"
     },
     "metadata": {},
     "output_type": "display_data"
    }
   ],
   "execution_count": 38
  },
  {
   "metadata": {},
   "cell_type": "markdown",
   "source": "## Automatic prompt engineering",
   "id": "f7089da8c7b0a2d5"
  },
  {
   "metadata": {},
   "cell_type": "markdown",
   "source": "### Prepare the training dataset",
   "id": "f42a39d3992c4be1"
  },
  {
   "metadata": {
    "ExecuteTime": {
     "end_time": "2025-04-03T16:08:35.722509Z",
     "start_time": "2025-04-03T16:08:34.193982Z"
    }
   },
   "cell_type": "code",
   "source": [
    "from collections import Counter\n",
    "from dspy import Example\n",
    "\n",
    "dataset = langfuse.get_dataset(\"sms_phishing_train\")\n",
    "\n",
    "sample_size = 100\n",
    "category_split = {\"ham\": 0.6, \"spam\": 0.2, \"smishing\": 0.2}\n",
    "sample_counts = {\"ham\": 0, \"spam\": 0, \"smishing\": 0}\n",
    "ham_num = sample_size * category_split[\"ham\"]\n",
    "spam_num = sample_size * category_split[\"spam\"]\n",
    "smishing_num = sample_size * category_split[\"smishing\"]\n",
    "train_ds = []\n",
    "for item in dataset.items:\n",
    "    train_ds.append(\n",
    "        Example(sms_text=item.input, category=item.expected_output).with_inputs(\n",
    "            \"sms_text\"\n",
    "        )\n",
    "    )\n",
    "\n",
    "\n",
    "categories = [item.category for item in train_ds[:sample_size]]\n",
    "Counter(categories)"
   ],
   "id": "1cf7249b1b4a5cac",
   "outputs": [
    {
     "data": {
      "text/plain": [
       "Counter({'ham': 84, 'spam': 9, 'smishing': 7})"
      ]
     },
     "execution_count": 25,
     "metadata": {},
     "output_type": "execute_result"
    }
   ],
   "execution_count": 25
  },
  {
   "metadata": {
    "ExecuteTime": {
     "end_time": "2025-04-03T16:08:53.727969Z",
     "start_time": "2025-04-03T16:08:53.725877Z"
    }
   },
   "cell_type": "code",
   "source": [
    "lm = dspy.LM(f\"ollama/{MODEL}\", cache=False)\n",
    "dspy.settings.configure(lm=lm, track_usage=False)"
   ],
   "id": "702359e1953517b7",
   "outputs": [],
   "execution_count": 26
  },
  {
   "metadata": {
    "ExecuteTime": {
     "end_time": "2025-04-03T16:12:05.878933Z",
     "start_time": "2025-04-03T16:09:59.338572Z"
    }
   },
   "cell_type": "code",
   "source": [
    "from dspy.teleprompt import BootstrapFewShotWithRandomSearch\n",
    "from evaluation_helpers import validate_answer\n",
    "\n",
    "config = dict(\n",
    "    max_bootstrapped_demos=2,\n",
    "    max_labeled_demos=8,\n",
    "    num_candidate_programs=4,\n",
    "    num_threads=1,\n",
    "    max_errors=10,\n",
    ")\n",
    "\n",
    "teleprompter = BootstrapFewShotWithRandomSearch(metric=validate_answer, **config)\n",
    "optimized_program = teleprompter.compile(\n",
    "    sms_classifier, trainset=train_ds[:sample_size]\n",
    ")"
   ],
   "id": "fa0c630ee252e3d2",
   "outputs": [
    {
     "name": "stdout",
     "output_type": "stream",
     "text": [
      "Going to sample between 1 and 2 traces per predictor.\n",
      "Will attempt to bootstrap 4 candidate sets.\n",
      "Average Metric: 69.00 / 100 (69.0%): 100%|██████████| 100/100 [00:18<00:00,  5.40it/s]"
     ]
    },
    {
     "name": "stderr",
     "output_type": "stream",
     "text": [
      "2025/04/03 18:10:17 INFO dspy.evaluate.evaluate: Average Metric: 69 / 100 (69.0%)\n"
     ]
    },
    {
     "name": "stdout",
     "output_type": "stream",
     "text": [
      "\n",
      "New best score: 69.0 for seed -3\n",
      "Scores so far: [69.0]\n",
      "Best score so far: 69.0\n",
      "Average Metric: 85.00 / 100 (85.0%): 100%|██████████| 100/100 [00:14<00:00,  7.01it/s]"
     ]
    },
    {
     "name": "stderr",
     "output_type": "stream",
     "text": [
      "2025/04/03 18:10:32 INFO dspy.evaluate.evaluate: Average Metric: 85 / 100 (85.0%)\n"
     ]
    },
    {
     "name": "stdout",
     "output_type": "stream",
     "text": [
      "\n",
      "New best score: 85.0 for seed -2\n",
      "Scores so far: [69.0, 85.0]\n",
      "Best score so far: 85.0\n"
     ]
    },
    {
     "name": "stderr",
     "output_type": "stream",
     "text": [
      "  2%|▏         | 2/100 [00:02<01:58,  1.21s/it]\n"
     ]
    },
    {
     "name": "stdout",
     "output_type": "stream",
     "text": [
      "Bootstrapped 2 full traces after 2 examples for up to 1 rounds, amounting to 2 attempts.\n",
      "Average Metric: 79.00 / 100 (79.0%): 100%|██████████| 100/100 [00:17<00:00,  5.63it/s]"
     ]
    },
    {
     "name": "stderr",
     "output_type": "stream",
     "text": [
      "2025/04/03 18:10:52 INFO dspy.evaluate.evaluate: Average Metric: 79 / 100 (79.0%)\n"
     ]
    },
    {
     "name": "stdout",
     "output_type": "stream",
     "text": [
      "\n",
      "Scores so far: [69.0, 85.0, 79.0]\n",
      "Best score so far: 85.0\n"
     ]
    },
    {
     "name": "stderr",
     "output_type": "stream",
     "text": [
      "  3%|▎         | 3/100 [00:00<00:20,  4.81it/s]\n"
     ]
    },
    {
     "name": "stdout",
     "output_type": "stream",
     "text": [
      "Bootstrapped 2 full traces after 3 examples for up to 1 rounds, amounting to 3 attempts.\n",
      "Average Metric: 77.00 / 100 (77.0%): 100%|██████████| 100/100 [00:17<00:00,  5.72it/s]"
     ]
    },
    {
     "name": "stderr",
     "output_type": "stream",
     "text": [
      "2025/04/03 18:11:10 INFO dspy.evaluate.evaluate: Average Metric: 77 / 100 (77.0%)\n"
     ]
    },
    {
     "name": "stdout",
     "output_type": "stream",
     "text": [
      "\n",
      "Scores so far: [69.0, 85.0, 79.0, 77.0]\n",
      "Best score so far: 85.0\n"
     ]
    },
    {
     "name": "stderr",
     "output_type": "stream",
     "text": [
      "  1%|          | 1/100 [00:00<00:31,  3.14it/s]\n"
     ]
    },
    {
     "name": "stdout",
     "output_type": "stream",
     "text": [
      "Bootstrapped 1 full traces after 1 examples for up to 1 rounds, amounting to 1 attempts.\n",
      "Average Metric: 80.00 / 100 (80.0%): 100%|██████████| 100/100 [00:17<00:00,  5.58it/s]"
     ]
    },
    {
     "name": "stderr",
     "output_type": "stream",
     "text": [
      "2025/04/03 18:11:28 INFO dspy.evaluate.evaluate: Average Metric: 80 / 100 (80.0%)\n"
     ]
    },
    {
     "name": "stdout",
     "output_type": "stream",
     "text": [
      "\n",
      "Scores so far: [69.0, 85.0, 79.0, 77.0, 80.0]\n",
      "Best score so far: 85.0\n"
     ]
    },
    {
     "name": "stderr",
     "output_type": "stream",
     "text": [
      "  1%|          | 1/100 [00:00<00:32,  3.03it/s]\n"
     ]
    },
    {
     "name": "stdout",
     "output_type": "stream",
     "text": [
      "Bootstrapped 1 full traces after 1 examples for up to 1 rounds, amounting to 1 attempts.\n",
      "Average Metric: 35.00 / 100 (35.0%): 100%|██████████| 100/100 [00:17<00:00,  5.72it/s]"
     ]
    },
    {
     "name": "stderr",
     "output_type": "stream",
     "text": [
      "2025/04/03 18:11:46 INFO dspy.evaluate.evaluate: Average Metric: 35 / 100 (35.0%)\n"
     ]
    },
    {
     "name": "stdout",
     "output_type": "stream",
     "text": [
      "\n",
      "Scores so far: [69.0, 85.0, 79.0, 77.0, 80.0, 35.0]\n",
      "Best score so far: 85.0\n"
     ]
    },
    {
     "name": "stderr",
     "output_type": "stream",
     "text": [
      " 10%|█         | 10/100 [00:01<00:16,  5.46it/s]\n"
     ]
    },
    {
     "name": "stdout",
     "output_type": "stream",
     "text": [
      "Bootstrapped 1 full traces after 10 examples for up to 1 rounds, amounting to 10 attempts.\n",
      "Average Metric: 84.00 / 100 (84.0%): 100%|██████████| 100/100 [00:17<00:00,  5.73it/s]"
     ]
    },
    {
     "name": "stderr",
     "output_type": "stream",
     "text": [
      "2025/04/03 18:12:05 INFO dspy.evaluate.evaluate: Average Metric: 84 / 100 (84.0%)\n"
     ]
    },
    {
     "name": "stdout",
     "output_type": "stream",
     "text": [
      "\n",
      "Scores so far: [69.0, 85.0, 79.0, 77.0, 80.0, 35.0, 84.0]\n",
      "Best score so far: 85.0\n",
      "7 candidate programs found.\n"
     ]
    }
   ],
   "execution_count": 27
  },
  {
   "metadata": {
    "ExecuteTime": {
     "end_time": "2025-04-03T16:12:56.246229Z",
     "start_time": "2025-04-03T16:12:56.242676Z"
    }
   },
   "cell_type": "code",
   "source": [
    "optimized_program.save(\n",
    "    f\"{os.environ['EXERCISE_DIR']}/programs/sms_classifier-{MODEL}.json\"\n",
    ")"
   ],
   "id": "f5d4208d273facbe",
   "outputs": [],
   "execution_count": 29
  },
  {
   "metadata": {
    "ExecuteTime": {
     "end_time": "2025-04-03T16:13:26.310179Z",
     "start_time": "2025-04-03T16:13:26.307364Z"
    }
   },
   "cell_type": "code",
   "source": [
    "optimized_classifier = SMSClassifier()\n",
    "optimized_classifier.load(\n",
    "    f\"{os.environ['EXERCISE_DIR']}/programs/sms_classifier-{MODEL}.json\"\n",
    ")"
   ],
   "id": "3dd1ffbf4aa32f3a",
   "outputs": [],
   "execution_count": 31
  },
  {
   "metadata": {
    "ExecuteTime": {
     "end_time": "2025-04-03T16:13:36.462734Z",
     "start_time": "2025-04-03T16:13:36.418626Z"
    }
   },
   "cell_type": "code",
   "source": [
    "dataset = langfuse.get_dataset(\"sms_phishing_test\")\n",
    "from dspy import Example\n",
    "\n",
    "test_ds = []\n",
    "for item in dataset.items:\n",
    "    test_ds.append(\n",
    "        Example(sms_text=item.input, category=item.expected_output).with_inputs(\n",
    "            \"sms_text\"\n",
    "        )\n",
    "    )"
   ],
   "id": "ae4584ba29e0ac7e",
   "outputs": [],
   "execution_count": 32
  },
  {
   "metadata": {
    "ExecuteTime": {
     "end_time": "2025-04-03T16:22:18.272306Z",
     "start_time": "2025-04-03T16:22:02.411320Z"
    }
   },
   "cell_type": "code",
   "source": [
    "models = [MODEL]\n",
    "classes = [\"ham\", \"spam\", \"smishing\"]\n",
    "ape_run_id = uuid.uuid1()\n",
    "run_evaluation(models, optimized_classifier, test_ds, classes, ape_run_id, prefix=\"ape\")"
   ],
   "id": "7708913c901e244e",
   "outputs": [
    {
     "name": "stdout",
     "output_type": "stream",
     "text": [
      "Average Metric: 85.00 / 100 (85.0%): 100%|██████████| 100/100 [00:15<00:00,  6.31it/s]\n"
     ]
    }
   ],
   "execution_count": 39
  },
  {
   "metadata": {
    "ExecuteTime": {
     "end_time": "2025-04-03T16:22:26.533051Z",
     "start_time": "2025-04-03T16:22:24.717046Z"
    }
   },
   "cell_type": "code",
   "source": [
    "metrics_ape = get_all_metric(models, ape_run_id, classes, prefix=\"ape\")\n",
    "metrics_ape"
   ],
   "id": "af9aac37bf7ed377",
   "outputs": [
    {
     "data": {
      "text/plain": [
       "{'gemma3:1b': {'precision': 0.6156462585034014,\n",
       "  'recall': 0.3888888888888889,\n",
       "  'f1': 0.40094711917916337}}"
      ]
     },
     "execution_count": 41,
     "metadata": {},
     "output_type": "execute_result"
    }
   ],
   "execution_count": 41
  },
  {
   "metadata": {
    "ExecuteTime": {
     "end_time": "2025-04-03T16:22:32.836922Z",
     "start_time": "2025-04-03T16:22:32.833586Z"
    }
   },
   "cell_type": "code",
   "source": [
    "optimized_classifier = SMSClassifier()\n",
    "optimized_classifier.load(\n",
    "    f\"{os.environ['EXERCISE_DIR']}/programs/sms_classifier-gemma3:1b-100ex-16p.json\"\n",
    ")"
   ],
   "id": "f7fd73125da1170c",
   "outputs": [
    {
     "name": "stderr",
     "output_type": "stream",
     "text": [
      "2025/04/03 18:22:32 WARNING dspy.primitives.module: There is a mismatch of python version between saved model and current environment. You saved with `python==3.12`, but now you have `python==3.11`. This might cause errors or performance downgrade on the loaded model, please consider loading the model in the same environment as the saving environment.\n"
     ]
    }
   ],
   "execution_count": 42
  },
  {
   "metadata": {
    "ExecuteTime": {
     "end_time": "2025-04-03T16:23:02.530582Z",
     "start_time": "2025-04-03T16:22:43.697163Z"
    }
   },
   "cell_type": "code",
   "source": [
    "run_evaluation(\n",
    "    models, optimized_classifier, test_ds, classes, ape_run_id, prefix=\"ape-100ex-16p\"\n",
    ")"
   ],
   "id": "7f0f45cb34215d1d",
   "outputs": [
    {
     "name": "stdout",
     "output_type": "stream",
     "text": [
      "Average Metric: 93.00 / 100 (93.0%): 100%|██████████| 100/100 [00:18<00:00,  5.32it/s]\n"
     ]
    }
   ],
   "execution_count": 43
  },
  {
   "metadata": {
    "ExecuteTime": {
     "end_time": "2025-04-03T16:23:27.295769Z",
     "start_time": "2025-04-03T16:23:25.493153Z"
    }
   },
   "cell_type": "code",
   "source": [
    "metrics_ape_16p = get_all_metric(models, ape_run_id, classes, prefix=\"ape-100ex-16p\")\n",
    "metrics_ape_16p"
   ],
   "id": "64a3ade728a96559",
   "outputs": [
    {
     "data": {
      "text/plain": [
       "{'gemma3:1b': {'precision': 0.5598006644518273,\n",
       "  'recall': 0.6111111111111112,\n",
       "  'f1': 0.5838264299802761}}"
      ]
     },
     "execution_count": 46,
     "metadata": {},
     "output_type": "execute_result"
    }
   ],
   "execution_count": 46
  },
  {
   "metadata": {
    "ExecuteTime": {
     "end_time": "2025-04-03T16:25:52.271447Z",
     "start_time": "2025-04-03T16:25:52.269031Z"
    }
   },
   "cell_type": "code",
   "source": [
    "metrics_baseline[\"gemma3:1b-ape\"] = metrics_ape[\"gemma3:1b\"]\n",
    "metrics_baseline[\"gemma3:1b-ape-100ex-16p\"] = metrics_ape_16p[\"gemma3:1b\"]"
   ],
   "id": "ff246e92a6e67807",
   "outputs": [],
   "execution_count": 48
  },
  {
   "metadata": {
    "ExecuteTime": {
     "end_time": "2025-04-03T16:27:45.750848Z",
     "start_time": "2025-04-03T16:27:45.687671Z"
    }
   },
   "cell_type": "code",
   "source": [
    "plot_metrics(\n",
    "    metrics_baseline,\n",
    "    [\"Precision (macro)\", \"Recall(macro)\", \"F1(macro)\"],\n",
    "    \"Scores by model before and after prompt optimization \",\n",
    ")"
   ],
   "id": "10d192cfa982a26e",
   "outputs": [
    {
     "data": {
      "text/plain": [
       "<Figure size 1200x500 with 1 Axes>"
      ],
      "image/png": "[encoded data removed]"
     },
     "metadata": {},
     "output_type": "display_data"
    }
   ],
   "execution_count": 50
  }
 ],
 "metadata": {
  "kernelspec": {
   "display_name": "Python 3",
   "language": "python",
   "name": "python3"
  },
  "language_info": {
   "codemirror_mode": {
    "name": "ipython",
    "version": 2
   },
   "file_extension": ".py",
   "mimetype": "text/x-python",
   "name": "python",
   "nbconvert_exporter": "python",
   "pygments_lexer": "ipython2",
   "version": "2.7.6"
  }
 },
 "nbformat": 4,
 "nbformat_minor": 5
}
