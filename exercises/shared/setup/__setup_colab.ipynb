{
 "cells": [
  {
   "cell_type": "markdown",
   "id": "0",
   "metadata": {},
   "source": "### Install LLAMA_CPP and OLLAMA\n"
  },
  {
   "metadata": {},
   "cell_type": "code",
   "outputs": [],
   "execution_count": null,
   "source": "! apt-get update && apt-get install -y lshw pciutils wget gh curl jq",
   "id": "7c1772094b9f5f2b"
  },
  {
   "metadata": {},
   "cell_type": "code",
   "outputs": [],
   "execution_count": null,
   "source": [
    "%%bash\n",
    "wget https://github.com/ggml-org/llama.cpp/releases/download/b5043/llama-${LLAMA_CPP_VERSION}-bin-ubuntu-x64.zip -O llama-${LLAMA_CPP_VERSION}-bin-ubuntu-x64.zip\n",
    "unzip -o llama-${LLAMA_CPP_VERSION}-bin-ubuntu-x64.zip -d /tmp/ && mv /tmp/build/bin/* /bin\n",
    "rm -f llama-${LLAMA_CPP_VERSION}-bin-ubuntu-x64.zip"
   ],
   "id": "b31bddc27b94bc75"
  },
  {
   "metadata": {},
   "cell_type": "code",
   "outputs": [],
   "execution_count": null,
   "source": "!curl -fsSL https://ollama.com/install.sh | sh",
   "id": "a527432aba71f599"
  },
  {
   "metadata": {},
   "cell_type": "code",
   "outputs": [],
   "execution_count": null,
   "source": "!nohup ollama serve &",
   "id": "99ce5d4e8c50a0e7"
  },
  {
   "metadata": {},
   "cell_type": "code",
   "outputs": [],
   "execution_count": null,
   "source": "!cat nohup.out | grep -i \"tesla t4\"",
   "id": "a3062377c1605bc4"
  }
 ],
 "metadata": {
  "kernelspec": {
   "display_name": "Python 3",
   "language": "python",
   "name": "python3"
  },
  "language_info": {
   "codemirror_mode": {
    "name": "ipython",
    "version": 2
   },
   "file_extension": ".py",
   "mimetype": "text/x-python",
   "name": "python",
   "nbconvert_exporter": "python",
   "pygments_lexer": "ipython2",
   "version": "2.7.6"
  }
 },
 "nbformat": 4,
 "nbformat_minor": 5
}
