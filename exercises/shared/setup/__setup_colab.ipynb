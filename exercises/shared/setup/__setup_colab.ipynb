{
 "cells": [
  {
   "cell_type": "markdown",
   "id": "0",
   "metadata": {},
   "source": [
    "### Install LLAMA_CPP and OLLAMA\n"
   ]
  },
  {
   "cell_type": "code",
   "execution_count": null,
   "id": "1",
   "metadata": {},
   "outputs": [],
   "source": [
    "! apt-get update && apt-get install -y lshw pciutils wget gh curl jq"
   ]
  },
  {
   "cell_type": "code",
   "execution_count": null,
   "id": "2",
   "metadata": {},
   "outputs": [],
   "source": [
    "%%bash\n",
    "wget https://github.com/ggml-org/llama.cpp/releases/download/b5043/llama-${LLAMA_CPP_VERSION}-bin-ubuntu-x64.zip -O llama-${LLAMA_CPP_VERSION}-bin-ubuntu-x64.zip\n",
    "unzip -o llama-${LLAMA_CPP_VERSION}-bin-ubuntu-x64.zip -d /tmp/ && mv /tmp/build/bin/* /bin\n",
    "rm -f llama-${LLAMA_CPP_VERSION}-bin-ubuntu-x64.zip"
   ]
  },
  {
   "cell_type": "code",
   "execution_count": null,
   "id": "3",
   "metadata": {},
   "outputs": [],
   "source": [
    "%%bash\n",
    "curl -fsSL https://ollama.com/install.sh | sh"
   ]
  },
  {
   "cell_type": "code",
   "execution_count": null,
   "id": "4",
   "metadata": {},
   "outputs": [],
   "source": [
    "! OLLAMA_HOST=0.0.0.0 nohup ollama serve &"
   ]
  },
  {
   "cell_type": "code",
   "execution_count": null,
   "id": "5",
   "metadata": {},
   "outputs": [],
   "source": [
    "!cat nohup.out | grep -i \"tesla t4\""
   ]
  }
 ],
 "metadata": {
  "kernelspec": {
   "display_name": "Python 3",
   "language": "python",
   "name": "python3"
  },
  "language_info": {
   "codemirror_mode": {
    "name": "ipython",
    "version": 2
   },
   "file_extension": ".py",
   "mimetype": "text/x-python",
   "name": "python",
   "nbconvert_exporter": "python",
   "pygments_lexer": "ipython2",
   "version": "2.7.6"
  }
 },
 "nbformat": 4,
 "nbformat_minor": 5
}
